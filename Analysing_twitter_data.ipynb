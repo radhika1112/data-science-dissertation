{
  "nbformat": 4,
  "nbformat_minor": 0,
  "metadata": {
    "colab": {
      "name": "Analysing twitter data.ipynb",
      "provenance": [],
      "collapsed_sections": [],
      "toc_visible": true,
      "include_colab_link": true
    },
    "kernelspec": {
      "name": "python3",
      "display_name": "Python 3"
    },
    "accelerator": "GPU"
  },
  "cells": [
    {
      "cell_type": "markdown",
      "metadata": {
        "id": "view-in-github",
        "colab_type": "text"
      },
      "source": [
        "<a href=\"https://colab.research.google.com/github/radhika1112/data-science-dissertation/blob/master/Analysing_twitter_data.ipynb\" target=\"_parent\"><img src=\"https://colab.research.google.com/assets/colab-badge.svg\" alt=\"Open In Colab\"/></a>"
      ]
    },
    {
      "cell_type": "markdown",
      "metadata": {
        "id": "LSwPz7e2ww7f",
        "colab_type": "text"
      },
      "source": [
        "**In this notebook, we will analyse the twitter data**\n",
        "\n",
        "**From the 3 million large dataset, we will extract conversations of three companies and analyse the response times, group them and order them.**"
      ]
    },
    {
      "cell_type": "code",
      "metadata": {
        "id": "j-Ql5ftoxeZh",
        "colab_type": "code",
        "outputId": "dd35cae2-37d9-45e4-e0ef-f2d75a6f0123",
        "colab": {
          "base_uri": "https://localhost:8080/",
          "height": 125
        }
      },
      "source": [
        "from google.colab import drive\n",
        "drive.mount('/content/gdrive')"
      ],
      "execution_count": 0,
      "outputs": [
        {
          "output_type": "stream",
          "text": [
            "Go to this URL in a browser: https://accounts.google.com/o/oauth2/auth?client_id=947318989803-6bn6qk8qdgf4n4g3pfee6491hc0brc4i.apps.googleusercontent.com&redirect_uri=urn%3Aietf%3Awg%3Aoauth%3A2.0%3Aoob&scope=email%20https%3A%2F%2Fwww.googleapis.com%2Fauth%2Fdocs.test%20https%3A%2F%2Fwww.googleapis.com%2Fauth%2Fdrive%20https%3A%2F%2Fwww.googleapis.com%2Fauth%2Fdrive.photos.readonly%20https%3A%2F%2Fwww.googleapis.com%2Fauth%2Fpeopleapi.readonly&response_type=code\n",
            "\n",
            "Enter your authorization code:\n",
            "··········\n",
            "Mounted at /content/gdrive\n"
          ],
          "name": "stdout"
        }
      ]
    },
    {
      "cell_type": "markdown",
      "metadata": {
        "id": "ZWYHxsvkUx89",
        "colab_type": "text"
      },
      "source": [
        "# Load entire 3 million twitter dataset"
      ]
    },
    {
      "cell_type": "code",
      "metadata": {
        "id": "swau0S7KxnKy",
        "colab_type": "code",
        "colab": {}
      },
      "source": [
        "import pandas as pd \n",
        "root_path = 'gdrive/My Drive/twcs.csv/'\n",
        "df=pd.read_csv('gdrive/My Drive/twcs.csv')"
      ],
      "execution_count": 0,
      "outputs": []
    },
    {
      "cell_type": "code",
      "metadata": {
        "id": "Swcu33E7x3n4",
        "colab_type": "code",
        "outputId": "9a5c01f4-05de-488d-ca61-fb211862667e",
        "colab": {
          "base_uri": "https://localhost:8080/",
          "height": 195
        }
      },
      "source": [
        "df.head()"
      ],
      "execution_count": 0,
      "outputs": [
        {
          "output_type": "execute_result",
          "data": {
            "text/html": [
              "<div>\n",
              "<style scoped>\n",
              "    .dataframe tbody tr th:only-of-type {\n",
              "        vertical-align: middle;\n",
              "    }\n",
              "\n",
              "    .dataframe tbody tr th {\n",
              "        vertical-align: top;\n",
              "    }\n",
              "\n",
              "    .dataframe thead th {\n",
              "        text-align: right;\n",
              "    }\n",
              "</style>\n",
              "<table border=\"1\" class=\"dataframe\">\n",
              "  <thead>\n",
              "    <tr style=\"text-align: right;\">\n",
              "      <th></th>\n",
              "      <th>tweet_id</th>\n",
              "      <th>author_id</th>\n",
              "      <th>inbound</th>\n",
              "      <th>created_at</th>\n",
              "      <th>text</th>\n",
              "      <th>response_tweet_id</th>\n",
              "      <th>in_response_to_tweet_id</th>\n",
              "    </tr>\n",
              "  </thead>\n",
              "  <tbody>\n",
              "    <tr>\n",
              "      <th>0</th>\n",
              "      <td>1</td>\n",
              "      <td>sprintcare</td>\n",
              "      <td>False</td>\n",
              "      <td>Tue Oct 31 22:10:47 +0000 2017</td>\n",
              "      <td>@115712 I understand. I would like to assist y...</td>\n",
              "      <td>2</td>\n",
              "      <td>3.0</td>\n",
              "    </tr>\n",
              "    <tr>\n",
              "      <th>1</th>\n",
              "      <td>2</td>\n",
              "      <td>115712</td>\n",
              "      <td>True</td>\n",
              "      <td>Tue Oct 31 22:11:45 +0000 2017</td>\n",
              "      <td>@sprintcare and how do you propose we do that</td>\n",
              "      <td>NaN</td>\n",
              "      <td>1.0</td>\n",
              "    </tr>\n",
              "    <tr>\n",
              "      <th>2</th>\n",
              "      <td>3</td>\n",
              "      <td>115712</td>\n",
              "      <td>True</td>\n",
              "      <td>Tue Oct 31 22:08:27 +0000 2017</td>\n",
              "      <td>@sprintcare I have sent several private messag...</td>\n",
              "      <td>1</td>\n",
              "      <td>4.0</td>\n",
              "    </tr>\n",
              "    <tr>\n",
              "      <th>3</th>\n",
              "      <td>4</td>\n",
              "      <td>sprintcare</td>\n",
              "      <td>False</td>\n",
              "      <td>Tue Oct 31 21:54:49 +0000 2017</td>\n",
              "      <td>@115712 Please send us a Private Message so th...</td>\n",
              "      <td>3</td>\n",
              "      <td>5.0</td>\n",
              "    </tr>\n",
              "    <tr>\n",
              "      <th>4</th>\n",
              "      <td>5</td>\n",
              "      <td>115712</td>\n",
              "      <td>True</td>\n",
              "      <td>Tue Oct 31 21:49:35 +0000 2017</td>\n",
              "      <td>@sprintcare I did.</td>\n",
              "      <td>4</td>\n",
              "      <td>6.0</td>\n",
              "    </tr>\n",
              "  </tbody>\n",
              "</table>\n",
              "</div>"
            ],
            "text/plain": [
              "   tweet_id   author_id  ...  response_tweet_id in_response_to_tweet_id\n",
              "0         1  sprintcare  ...                  2                     3.0\n",
              "1         2      115712  ...                NaN                     1.0\n",
              "2         3      115712  ...                  1                     4.0\n",
              "3         4  sprintcare  ...                  3                     5.0\n",
              "4         5      115712  ...                  4                     6.0\n",
              "\n",
              "[5 rows x 7 columns]"
            ]
          },
          "metadata": {
            "tags": []
          },
          "execution_count": 3
        }
      ]
    },
    {
      "cell_type": "code",
      "metadata": {
        "id": "tupg3VZbWvkH",
        "colab_type": "code",
        "outputId": "9b7d0e96-e025-4585-f227-3539717ba0ba",
        "colab": {
          "base_uri": "https://localhost:8080/",
          "height": 34
        }
      },
      "source": [
        "df.shape"
      ],
      "execution_count": 0,
      "outputs": [
        {
          "output_type": "execute_result",
          "data": {
            "text/plain": [
              "(2811774, 7)"
            ]
          },
          "metadata": {
            "tags": []
          },
          "execution_count": 4
        }
      ]
    },
    {
      "cell_type": "markdown",
      "metadata": {
        "id": "f3xbKXjUVK48",
        "colab_type": "text"
      },
      "source": [
        "# Apple Support Dataset - subset1"
      ]
    },
    {
      "cell_type": "code",
      "metadata": {
        "id": "sLVRBKfVVRju",
        "colab_type": "code",
        "outputId": "ccba7fea-572e-4d5f-b483-cf92a21d82da",
        "colab": {
          "base_uri": "https://localhost:8080/",
          "height": 34
        }
      },
      "source": [
        "subset1 = df[(df['author_id'].str.contains('AppleSupport'))|df['text'].str.contains('AppleSupport')]\n",
        "subset1.shape"
      ],
      "execution_count": 0,
      "outputs": [
        {
          "output_type": "execute_result",
          "data": {
            "text/plain": [
              "(204028, 7)"
            ]
          },
          "metadata": {
            "tags": []
          },
          "execution_count": 5
        }
      ]
    },
    {
      "cell_type": "code",
      "metadata": {
        "id": "pON0SQD1X1yA",
        "colab_type": "code",
        "outputId": "73b7c699-8e1a-4c95-8f66-94dc311c0f4e",
        "colab": {
          "base_uri": "https://localhost:8080/",
          "height": 279
        }
      },
      "source": [
        "subset1.head()"
      ],
      "execution_count": 0,
      "outputs": [
        {
          "output_type": "execute_result",
          "data": {
            "text/html": [
              "<div>\n",
              "<style scoped>\n",
              "    .dataframe tbody tr th:only-of-type {\n",
              "        vertical-align: middle;\n",
              "    }\n",
              "\n",
              "    .dataframe tbody tr th {\n",
              "        vertical-align: top;\n",
              "    }\n",
              "\n",
              "    .dataframe thead th {\n",
              "        text-align: right;\n",
              "    }\n",
              "</style>\n",
              "<table border=\"1\" class=\"dataframe\">\n",
              "  <thead>\n",
              "    <tr style=\"text-align: right;\">\n",
              "      <th></th>\n",
              "      <th>tweet_id</th>\n",
              "      <th>author_id</th>\n",
              "      <th>inbound</th>\n",
              "      <th>created_at</th>\n",
              "      <th>text</th>\n",
              "      <th>response_tweet_id</th>\n",
              "      <th>in_response_to_tweet_id</th>\n",
              "    </tr>\n",
              "  </thead>\n",
              "  <tbody>\n",
              "    <tr>\n",
              "      <th>396</th>\n",
              "      <td>696</td>\n",
              "      <td>AppleSupport</td>\n",
              "      <td>False</td>\n",
              "      <td>Tue Oct 31 22:27:49 +0000 2017</td>\n",
              "      <td>@115854 We're here for you. Which version of t...</td>\n",
              "      <td>697</td>\n",
              "      <td>698.0</td>\n",
              "    </tr>\n",
              "    <tr>\n",
              "      <th>397</th>\n",
              "      <td>697</td>\n",
              "      <td>115854</td>\n",
              "      <td>True</td>\n",
              "      <td>Tue Oct 31 22:31:23 +0000 2017</td>\n",
              "      <td>@AppleSupport The newest update. I️ made sure ...</td>\n",
              "      <td>699</td>\n",
              "      <td>696.0</td>\n",
              "    </tr>\n",
              "    <tr>\n",
              "      <th>398</th>\n",
              "      <td>699</td>\n",
              "      <td>AppleSupport</td>\n",
              "      <td>False</td>\n",
              "      <td>Tue Oct 31 22:36:27 +0000 2017</td>\n",
              "      <td>@115854 Lets take a closer look into this issu...</td>\n",
              "      <td>NaN</td>\n",
              "      <td>697.0</td>\n",
              "    </tr>\n",
              "    <tr>\n",
              "      <th>399</th>\n",
              "      <td>698</td>\n",
              "      <td>115854</td>\n",
              "      <td>True</td>\n",
              "      <td>Tue Oct 31 22:17:40 +0000 2017</td>\n",
              "      <td>@AppleSupport  https://t.co/NV0yucs0lB</td>\n",
              "      <td>696</td>\n",
              "      <td>700.0</td>\n",
              "    </tr>\n",
              "    <tr>\n",
              "      <th>400</th>\n",
              "      <td>700</td>\n",
              "      <td>115854</td>\n",
              "      <td>True</td>\n",
              "      <td>Tue Oct 31 22:16:56 +0000 2017</td>\n",
              "      <td>@AppleSupport why are my I️’s changing not sho...</td>\n",
              "      <td>698</td>\n",
              "      <td>NaN</td>\n",
              "    </tr>\n",
              "  </tbody>\n",
              "</table>\n",
              "</div>"
            ],
            "text/plain": [
              "     tweet_id     author_id  ...  response_tweet_id in_response_to_tweet_id\n",
              "396       696  AppleSupport  ...                697                   698.0\n",
              "397       697        115854  ...                699                   696.0\n",
              "398       699  AppleSupport  ...                NaN                   697.0\n",
              "399       698        115854  ...                696                   700.0\n",
              "400       700        115854  ...                698                     NaN\n",
              "\n",
              "[5 rows x 7 columns]"
            ]
          },
          "metadata": {
            "tags": []
          },
          "execution_count": 6
        }
      ]
    },
    {
      "cell_type": "markdown",
      "metadata": {
        "id": "iC1zoYwiVW_W",
        "colab_type": "text"
      },
      "source": [
        "## Analyse Response time"
      ]
    },
    {
      "cell_type": "code",
      "metadata": {
        "id": "lZBJu-KTVRqj",
        "colab_type": "code",
        "outputId": "004a0efc-bba9-4d5c-80cd-93dc96a595e3",
        "colab": {
          "base_uri": "https://localhost:8080/",
          "height": 669
        }
      },
      "source": [
        "\n",
        "\n",
        "#Separating the original dataframe into inbounds and outbounds\n",
        "inbounds = subset1.loc[subset1['inbound'] == True]\n",
        "outbounds = subset1.loc[subset1['inbound'] == False]\n",
        "\n",
        "#Merging/joining to be able to later find time between responses. Messy as a variable because the table looks so messy.\n",
        "messy = pd.merge(outbounds, inbounds, left_on='in_response_to_tweet_id', right_on='tweet_id', how='outer')\n",
        "\n",
        "#Changing timestamp format\n",
        "messy['outbound_time'] = pd.to_datetime(messy['created_at_x'], format='%a %b %d %H:%M:%S +0000 %Y')\n",
        "messy['inbound_time'] = pd.to_datetime(messy['created_at_y'], format='%a %b %d %H:%M:%S +0000 %Y')\n",
        "\n",
        "#Calculating time between between outbound response and inbound message\n",
        "messy['response_time'] = messy['outbound_time'] - messy['inbound_time']\n",
        "\n",
        "messy.head()"
      ],
      "execution_count": 0,
      "outputs": [
        {
          "output_type": "execute_result",
          "data": {
            "text/html": [
              "<div>\n",
              "<style scoped>\n",
              "    .dataframe tbody tr th:only-of-type {\n",
              "        vertical-align: middle;\n",
              "    }\n",
              "\n",
              "    .dataframe tbody tr th {\n",
              "        vertical-align: top;\n",
              "    }\n",
              "\n",
              "    .dataframe thead th {\n",
              "        text-align: right;\n",
              "    }\n",
              "</style>\n",
              "<table border=\"1\" class=\"dataframe\">\n",
              "  <thead>\n",
              "    <tr style=\"text-align: right;\">\n",
              "      <th></th>\n",
              "      <th>tweet_id_x</th>\n",
              "      <th>author_id_x</th>\n",
              "      <th>inbound_x</th>\n",
              "      <th>created_at_x</th>\n",
              "      <th>text_x</th>\n",
              "      <th>response_tweet_id_x</th>\n",
              "      <th>in_response_to_tweet_id_x</th>\n",
              "      <th>tweet_id_y</th>\n",
              "      <th>author_id_y</th>\n",
              "      <th>inbound_y</th>\n",
              "      <th>created_at_y</th>\n",
              "      <th>text_y</th>\n",
              "      <th>response_tweet_id_y</th>\n",
              "      <th>in_response_to_tweet_id_y</th>\n",
              "      <th>outbound_time</th>\n",
              "      <th>inbound_time</th>\n",
              "      <th>response_time</th>\n",
              "    </tr>\n",
              "  </thead>\n",
              "  <tbody>\n",
              "    <tr>\n",
              "      <th>0</th>\n",
              "      <td>696.0</td>\n",
              "      <td>AppleSupport</td>\n",
              "      <td>False</td>\n",
              "      <td>Tue Oct 31 22:27:49 +0000 2017</td>\n",
              "      <td>@115854 We're here for you. Which version of t...</td>\n",
              "      <td>697</td>\n",
              "      <td>698.0</td>\n",
              "      <td>698.0</td>\n",
              "      <td>115854</td>\n",
              "      <td>True</td>\n",
              "      <td>Tue Oct 31 22:17:40 +0000 2017</td>\n",
              "      <td>@AppleSupport  https://t.co/NV0yucs0lB</td>\n",
              "      <td>696</td>\n",
              "      <td>700.0</td>\n",
              "      <td>2017-10-31 22:27:49</td>\n",
              "      <td>2017-10-31 22:17:40</td>\n",
              "      <td>00:10:09</td>\n",
              "    </tr>\n",
              "    <tr>\n",
              "      <th>1</th>\n",
              "      <td>699.0</td>\n",
              "      <td>AppleSupport</td>\n",
              "      <td>False</td>\n",
              "      <td>Tue Oct 31 22:36:27 +0000 2017</td>\n",
              "      <td>@115854 Lets take a closer look into this issu...</td>\n",
              "      <td>NaN</td>\n",
              "      <td>697.0</td>\n",
              "      <td>697.0</td>\n",
              "      <td>115854</td>\n",
              "      <td>True</td>\n",
              "      <td>Tue Oct 31 22:31:23 +0000 2017</td>\n",
              "      <td>@AppleSupport The newest update. I️ made sure ...</td>\n",
              "      <td>699</td>\n",
              "      <td>696.0</td>\n",
              "      <td>2017-10-31 22:36:27</td>\n",
              "      <td>2017-10-31 22:31:23</td>\n",
              "      <td>00:05:04</td>\n",
              "    </tr>\n",
              "    <tr>\n",
              "      <th>2</th>\n",
              "      <td>701.0</td>\n",
              "      <td>AppleSupport</td>\n",
              "      <td>False</td>\n",
              "      <td>Tue Oct 31 22:26:49 +0000 2017</td>\n",
              "      <td>@115855 Let's go to DM for the next steps. DM ...</td>\n",
              "      <td>NaN</td>\n",
              "      <td>702.0</td>\n",
              "      <td>702.0</td>\n",
              "      <td>115855</td>\n",
              "      <td>True</td>\n",
              "      <td>Tue Oct 31 22:11:31 +0000 2017</td>\n",
              "      <td>@AppleSupport Tried resetting my settings .. r...</td>\n",
              "      <td>701</td>\n",
              "      <td>703.0</td>\n",
              "      <td>2017-10-31 22:26:49</td>\n",
              "      <td>2017-10-31 22:11:31</td>\n",
              "      <td>00:15:18</td>\n",
              "    </tr>\n",
              "    <tr>\n",
              "      <th>3</th>\n",
              "      <td>703.0</td>\n",
              "      <td>AppleSupport</td>\n",
              "      <td>False</td>\n",
              "      <td>Tue Oct 31 22:09:52 +0000 2017</td>\n",
              "      <td>@115855 Any steps tried since it started last ...</td>\n",
              "      <td>702</td>\n",
              "      <td>704.0</td>\n",
              "      <td>704.0</td>\n",
              "      <td>115855</td>\n",
              "      <td>True</td>\n",
              "      <td>Tue Oct 31 21:59:17 +0000 2017</td>\n",
              "      <td>@AppleSupport This is what it looks like https...</td>\n",
              "      <td>703</td>\n",
              "      <td>705.0</td>\n",
              "      <td>2017-10-31 22:09:52</td>\n",
              "      <td>2017-10-31 21:59:17</td>\n",
              "      <td>00:10:35</td>\n",
              "    </tr>\n",
              "    <tr>\n",
              "      <th>4</th>\n",
              "      <td>705.0</td>\n",
              "      <td>AppleSupport</td>\n",
              "      <td>False</td>\n",
              "      <td>Tue Oct 31 21:57:00 +0000 2017</td>\n",
              "      <td>@115855 That's great it has iOS 11.1 as we can...</td>\n",
              "      <td>706,704</td>\n",
              "      <td>707.0</td>\n",
              "      <td>707.0</td>\n",
              "      <td>115855</td>\n",
              "      <td>True</td>\n",
              "      <td>Tue Oct 31 21:48:51 +0000 2017</td>\n",
              "      <td>@AppleSupport I️ have an iPhone 7 Plus and yes...</td>\n",
              "      <td>705</td>\n",
              "      <td>708.0</td>\n",
              "      <td>2017-10-31 21:57:00</td>\n",
              "      <td>2017-10-31 21:48:51</td>\n",
              "      <td>00:08:09</td>\n",
              "    </tr>\n",
              "  </tbody>\n",
              "</table>\n",
              "</div>"
            ],
            "text/plain": [
              "   tweet_id_x   author_id_x  ...        inbound_time response_time\n",
              "0       696.0  AppleSupport  ... 2017-10-31 22:17:40      00:10:09\n",
              "1       699.0  AppleSupport  ... 2017-10-31 22:31:23      00:05:04\n",
              "2       701.0  AppleSupport  ... 2017-10-31 22:11:31      00:15:18\n",
              "3       703.0  AppleSupport  ... 2017-10-31 21:59:17      00:10:35\n",
              "4       705.0  AppleSupport  ... 2017-10-31 21:48:51      00:08:09\n",
              "\n",
              "[5 rows x 17 columns]"
            ]
          },
          "metadata": {
            "tags": []
          },
          "execution_count": 7
        }
      ]
    },
    {
      "cell_type": "code",
      "metadata": {
        "id": "dCel8Ax6Xs8W",
        "colab_type": "code",
        "outputId": "5c9ac1a1-4cd6-46e2-bd5c-82dfc6eb829f",
        "colab": {
          "base_uri": "https://localhost:8080/",
          "height": 52
        }
      },
      "source": [
        "#Making sure the data type is a timedelta/duration\n",
        "print('from ' + str(messy['response_time'].dtype))\n",
        "\n",
        "#Making it easier to later do averages by converting to a float datatype\n",
        "messy['converted_time'] = messy['response_time'].astype('timedelta64[s]') / 60\n",
        "\n",
        "print('to ' + str(messy['converted_time'].dtype))"
      ],
      "execution_count": 0,
      "outputs": [
        {
          "output_type": "stream",
          "text": [
            "from timedelta64[ns]\n",
            "to float64\n"
          ],
          "name": "stdout"
        }
      ]
    },
    {
      "cell_type": "code",
      "metadata": {
        "id": "e2JLaGGYXs_r",
        "colab_type": "code",
        "outputId": "59fcf9f4-4540-486d-fa2d-be6afff82e93",
        "colab": {
          "base_uri": "https://localhost:8080/",
          "height": 313
        }
      },
      "source": [
        "#I saw it says 94 mins is the average time it takes for a response. This does not seem realistic.\n",
        "#Focusing in on Uber and taking out outliers.\n",
        "\n",
        "AS = messy[messy['author_id_x'] == 'AppleSupport']\n",
        "AS_times = AS['converted_time']\n",
        "\n",
        "AS_times.dropna()\n",
        "\n",
        "def remove_outlier(AS_times):\n",
        "    q1 = AS_times.quantile(0.25)\n",
        "    q3 = AS_times.quantile(0.75)\n",
        "    iqr = q3-q1 #Interquartile range\n",
        "    fence_low  = q1-1.5*iqr\n",
        "    fence_high = q3+1.5*iqr\n",
        "    df_out = AS_times.loc[(AS_times > fence_low) & (AS_times < fence_high)]\n",
        "    return df_out\n",
        "\n",
        "no_outliers = remove_outlier(AS_times)\n",
        "\n",
        "import matplotlib.pyplot as plt\n",
        "hist_plot = no_outliers.plot.hist(bins=50)\n",
        "hist_plot.set_title('Apple Support Response Time')\n",
        "hist_plot.set_xlabel('Mins to Response')\n",
        "hist_plot.set_ylabel('Frequency')\n",
        "plt.show()\n",
        "\n",
        "print('Apple support\\'s average response time is ' + str(round(no_outliers.mean(),2)) + ' minutes.' )\n",
        "\n",
        "\n"
      ],
      "execution_count": 0,
      "outputs": [
        {
          "output_type": "display_data",
          "data": {
            "image/png": "[encoded data removed]",
            "text/plain": [
              "<Figure size 432x288 with 1 Axes>"
            ]
          },
          "metadata": {
            "tags": []
          }
        },
        {
          "output_type": "stream",
          "text": [
            "Apple support's average response time is 98.98 minutes.\n"
          ],
          "name": "stdout"
        }
      ]
    },
    {
      "cell_type": "code",
      "metadata": {
        "id": "Yz58wxqnVSFD",
        "colab_type": "code",
        "colab": {}
      },
      "source": [
        "subset=subset1[:10000]"
      ],
      "execution_count": 0,
      "outputs": []
    },
    {
      "cell_type": "markdown",
      "metadata": {
        "id": "kk6pErk1YQVq",
        "colab_type": "text"
      },
      "source": [
        "## Order the conversations logically"
      ]
    },
    {
      "cell_type": "code",
      "metadata": {
        "id": "4AHKddG-y0pV",
        "colab_type": "code",
        "colab": {}
      },
      "source": [
        "\n",
        "#collecting all the unique author id's\n",
        "All_author_ids = set(subset.author_id)\n",
        "All_author_ids.remove('AppleSupport')\n"
      ],
      "execution_count": 0,
      "outputs": []
    },
    {
      "cell_type": "code",
      "metadata": {
        "id": "a1NOGHcR82FM",
        "colab_type": "code",
        "colab": {}
      },
      "source": [
        "#collecting all the unique author id's\n",
        "All_author_ids = set(subset.author_id)\n",
        "All_author_ids.remove('AppleSupport')\n",
        "import numpy as np\n",
        "#array containing the correct order index to be used on data\n",
        "correct_order = np.arange(len(subset))\n",
        "#array containig the dialog id, count a unique number indicating each dialog \n",
        "\n",
        "#the main magic\n",
        "for i, author_id in enumerate(All_author_ids):\n",
        "    #boolean array: true where condition indidcated is met\n",
        "    index = (subset.author_id == author_id) | subset.text.str.contains(str(author_id), na=True)\n",
        "    #sampling the data, and ordering sample by time (created_at)\n",
        "    order = subset.created_at[index].argsort()\n",
        "    #rearranging the chuncks of the correct_order array based in order above\n",
        "    correct_order[index] = correct_order[index][order]\n",
        "    dialog_index[index] = i\n",
        "    \n",
        "subset = subset.reindex(correct_order)\n",
        "subset.insert(5, 'dialog_index', dialog_index)\n",
        "subset.to_csv('AppleSupport1-ordered.csv')\n"
      ],
      "execution_count": 0,
      "outputs": []
    },
    {
      "cell_type": "code",
      "metadata": {
        "id": "IXaxr_Kfr837",
        "colab_type": "code",
        "outputId": "07c0c68e-6cd8-48f2-e4b8-a0c6167983e3",
        "colab": {
          "base_uri": "https://localhost:8080/",
          "height": 34
        }
      },
      "source": [
        "subset.shape"
      ],
      "execution_count": 0,
      "outputs": [
        {
          "output_type": "execute_result",
          "data": {
            "text/plain": [
              "(10000, 8)"
            ]
          },
          "metadata": {
            "tags": []
          },
          "execution_count": 26
        }
      ]
    },
    {
      "cell_type": "code",
      "metadata": {
        "id": "6-18GXIhrIP7",
        "colab_type": "code",
        "outputId": "38196a1e-363b-4456-f37b-5d6164d399b1",
        "colab": {
          "base_uri": "https://localhost:8080/",
          "height": 34
        }
      },
      "source": [
        "dia=subset.dialog_index.tolist()\n",
        "len(dia)"
      ],
      "execution_count": 0,
      "outputs": [
        {
          "output_type": "execute_result",
          "data": {
            "text/plain": [
              "10000"
            ]
          },
          "metadata": {
            "tags": []
          },
          "execution_count": 27
        }
      ]
    },
    {
      "cell_type": "code",
      "metadata": {
        "id": "lzJKTYqOtNej",
        "colab_type": "code",
        "colab": {}
      },
      "source": [
        "subset_conv=subset1[:10000]"
      ],
      "execution_count": 0,
      "outputs": []
    },
    {
      "cell_type": "markdown",
      "metadata": {
        "id": "XrVUNOJh9S4x",
        "colab_type": "text"
      },
      "source": [
        "add a column dialog_index to the main dataframe (subset of 2000) of apple support "
      ]
    },
    {
      "cell_type": "code",
      "metadata": {
        "id": "ZxfM3J9lkXOd",
        "colab_type": "code",
        "outputId": "f805594c-060c-4083-eb49-60758a1a2f39",
        "colab": {
          "base_uri": "https://localhost:8080/",
          "height": 469
        }
      },
      "source": [
        "subset_conv['dialog_index']=dia\n",
        "subset_conv.head()"
      ],
      "execution_count": 0,
      "outputs": [
        {
          "output_type": "stream",
          "text": [
            "/usr/local/lib/python3.6/dist-packages/ipykernel_launcher.py:1: SettingWithCopyWarning: \n",
            "A value is trying to be set on a copy of a slice from a DataFrame.\n",
            "Try using .loc[row_indexer,col_indexer] = value instead\n",
            "\n",
            "See the caveats in the documentation: http://pandas.pydata.org/pandas-docs/stable/indexing.html#indexing-view-versus-copy\n",
            "  \"\"\"Entry point for launching an IPython kernel.\n"
          ],
          "name": "stderr"
        },
        {
          "output_type": "execute_result",
          "data": {
            "text/html": [
              "<div>\n",
              "<style scoped>\n",
              "    .dataframe tbody tr th:only-of-type {\n",
              "        vertical-align: middle;\n",
              "    }\n",
              "\n",
              "    .dataframe tbody tr th {\n",
              "        vertical-align: top;\n",
              "    }\n",
              "\n",
              "    .dataframe thead th {\n",
              "        text-align: right;\n",
              "    }\n",
              "</style>\n",
              "<table border=\"1\" class=\"dataframe\">\n",
              "  <thead>\n",
              "    <tr style=\"text-align: right;\">\n",
              "      <th></th>\n",
              "      <th>tweet_id</th>\n",
              "      <th>author_id</th>\n",
              "      <th>inbound</th>\n",
              "      <th>created_at</th>\n",
              "      <th>text</th>\n",
              "      <th>response_tweet_id</th>\n",
              "      <th>in_response_to_tweet_id</th>\n",
              "      <th>dialog_index</th>\n",
              "    </tr>\n",
              "  </thead>\n",
              "  <tbody>\n",
              "    <tr>\n",
              "      <th>396</th>\n",
              "      <td>696</td>\n",
              "      <td>AppleSupport</td>\n",
              "      <td>False</td>\n",
              "      <td>Tue Oct 31 22:27:49 +0000 2017</td>\n",
              "      <td>@115854 We're here for you. Which version of t...</td>\n",
              "      <td>697</td>\n",
              "      <td>698.0</td>\n",
              "      <td>1948</td>\n",
              "    </tr>\n",
              "    <tr>\n",
              "      <th>397</th>\n",
              "      <td>697</td>\n",
              "      <td>115854</td>\n",
              "      <td>True</td>\n",
              "      <td>Tue Oct 31 22:31:23 +0000 2017</td>\n",
              "      <td>@AppleSupport The newest update. I️ made sure ...</td>\n",
              "      <td>699</td>\n",
              "      <td>696.0</td>\n",
              "      <td>1948</td>\n",
              "    </tr>\n",
              "    <tr>\n",
              "      <th>398</th>\n",
              "      <td>699</td>\n",
              "      <td>AppleSupport</td>\n",
              "      <td>False</td>\n",
              "      <td>Tue Oct 31 22:36:27 +0000 2017</td>\n",
              "      <td>@115854 Lets take a closer look into this issu...</td>\n",
              "      <td>NaN</td>\n",
              "      <td>697.0</td>\n",
              "      <td>1948</td>\n",
              "    </tr>\n",
              "    <tr>\n",
              "      <th>399</th>\n",
              "      <td>698</td>\n",
              "      <td>115854</td>\n",
              "      <td>True</td>\n",
              "      <td>Tue Oct 31 22:17:40 +0000 2017</td>\n",
              "      <td>@AppleSupport  https://t.co/NV0yucs0lB</td>\n",
              "      <td>696</td>\n",
              "      <td>700.0</td>\n",
              "      <td>1948</td>\n",
              "    </tr>\n",
              "    <tr>\n",
              "      <th>400</th>\n",
              "      <td>700</td>\n",
              "      <td>115854</td>\n",
              "      <td>True</td>\n",
              "      <td>Tue Oct 31 22:16:56 +0000 2017</td>\n",
              "      <td>@AppleSupport why are my I️’s changing not sho...</td>\n",
              "      <td>698</td>\n",
              "      <td>NaN</td>\n",
              "      <td>1948</td>\n",
              "    </tr>\n",
              "  </tbody>\n",
              "</table>\n",
              "</div>"
            ],
            "text/plain": [
              "     tweet_id     author_id  ...  in_response_to_tweet_id dialog_index\n",
              "396       696  AppleSupport  ...                    698.0         1948\n",
              "397       697        115854  ...                    696.0         1948\n",
              "398       699  AppleSupport  ...                    697.0         1948\n",
              "399       698        115854  ...                    700.0         1948\n",
              "400       700        115854  ...                      NaN         1948\n",
              "\n",
              "[5 rows x 8 columns]"
            ]
          },
          "metadata": {
            "tags": []
          },
          "execution_count": 29
        }
      ]
    },
    {
      "cell_type": "markdown",
      "metadata": {
        "id": "olPjo9c-LnX2",
        "colab_type": "text"
      },
      "source": [
        "## grouping the conversations"
      ]
    },
    {
      "cell_type": "code",
      "metadata": {
        "id": "H--AJc3JtivP",
        "colab_type": "code",
        "outputId": "9616351e-edb3-4e45-8d88-5dab38c577c7",
        "colab": {
          "base_uri": "https://localhost:8080/",
          "height": 34
        }
      },
      "source": [
        "# df = (lelle.groupby('dialog_index')['text']\n",
        "#                             .apply(lambda x: np.mean(x.str.len()))\n",
        "#                             .reset_index(name='mean_len_text'))\n",
        "\n",
        "list_conv=subset_conv.groupby('dialog_index').size().tolist()\n",
        "avg_length =sum(list_conv)/len(list_conv)                       \n",
        "avg_length"
      ],
      "execution_count": 0,
      "outputs": [
        {
          "output_type": "execute_result",
          "data": {
            "text/plain": [
              "3.5260930888575457"
            ]
          },
          "metadata": {
            "tags": []
          },
          "execution_count": 30
        }
      ]
    },
    {
      "cell_type": "code",
      "metadata": {
        "id": "zJzJHIw2-gZp",
        "colab_type": "code",
        "outputId": "4a7b0917-af0a-4496-8952-550aa61c7046",
        "colab": {
          "base_uri": "https://localhost:8080/",
          "height": 34
        }
      },
      "source": [
        "len(list_conv)"
      ],
      "execution_count": 0,
      "outputs": [
        {
          "output_type": "execute_result",
          "data": {
            "text/plain": [
              "2836"
            ]
          },
          "metadata": {
            "tags": []
          },
          "execution_count": 31
        }
      ]
    },
    {
      "cell_type": "code",
      "metadata": {
        "id": "2vxhAqfk-j__",
        "colab_type": "code",
        "outputId": "2c0f5588-3ffc-4230-d964-0be622411aaa",
        "colab": {
          "base_uri": "https://localhost:8080/",
          "height": 34
        }
      },
      "source": [
        "list_conv.count(2) # count of number of conv .. 2 turns ke kitne conversations"
      ],
      "execution_count": 0,
      "outputs": [
        {
          "output_type": "execute_result",
          "data": {
            "text/plain": [
              "1400"
            ]
          },
          "metadata": {
            "tags": []
          },
          "execution_count": 32
        }
      ]
    },
    {
      "cell_type": "code",
      "metadata": {
        "id": "h_-0dl-7-3Lu",
        "colab_type": "code",
        "outputId": "16f4082d-6e03-427d-929e-a69937a65379",
        "colab": {
          "base_uri": "https://localhost:8080/",
          "height": 34
        }
      },
      "source": [
        "list_conv.sort()\n",
        "largest = list_conv[len(list_conv)-2]\n",
        "largest"
      ],
      "execution_count": 0,
      "outputs": [
        {
          "output_type": "execute_result",
          "data": {
            "text/plain": [
              "19"
            ]
          },
          "metadata": {
            "tags": []
          },
          "execution_count": 33
        }
      ]
    },
    {
      "cell_type": "markdown",
      "metadata": {
        "id": "7d51hvM2_z8A",
        "colab_type": "text"
      },
      "source": [
        "# AirbnbHelp - Subset2"
      ]
    },
    {
      "cell_type": "code",
      "metadata": {
        "id": "f7nMICYTASVt",
        "colab_type": "code",
        "outputId": "7fc7edd4-918d-4c28-e6bb-6189070d013a",
        "colab": {
          "base_uri": "https://localhost:8080/",
          "height": 34
        }
      },
      "source": [
        "subset2 = df[(df['author_id'].str.contains('AirbnbHelp'))|df['text'].str.contains('AirbnbHelp')]\n",
        "subset2.shape"
      ],
      "execution_count": 0,
      "outputs": [
        {
          "output_type": "execute_result",
          "data": {
            "text/plain": [
              "(15387, 7)"
            ]
          },
          "metadata": {
            "tags": []
          },
          "execution_count": 80
        }
      ]
    },
    {
      "cell_type": "markdown",
      "metadata": {
        "id": "EY47Vn7k_-47",
        "colab_type": "text"
      },
      "source": [
        "## Analysing Response time"
      ]
    },
    {
      "cell_type": "code",
      "metadata": {
        "id": "APV98HjB_yKU",
        "colab_type": "code",
        "outputId": "c66f8905-781c-4b01-ee76-3ef2dce52deb",
        "colab": {
          "base_uri": "https://localhost:8080/",
          "height": 618
        }
      },
      "source": [
        "#Separating the original dataframe into inbounds and outbounds\n",
        "inbounds = subset2.loc[subset2['inbound'] == True]\n",
        "outbounds = subset2.loc[subset2['inbound'] == False]\n",
        "\n",
        "#Merging/joining to be able to later find time between responses. Messy as a variable because the table looks so messy.\n",
        "messy = pd.merge(outbounds, inbounds, left_on='in_response_to_tweet_id', right_on='tweet_id', how='outer')\n",
        "\n",
        "#Changing timestamp format\n",
        "messy['outbound_time'] = pd.to_datetime(messy['created_at_x'], format='%a %b %d %H:%M:%S +0000 %Y')\n",
        "messy['inbound_time'] = pd.to_datetime(messy['created_at_y'], format='%a %b %d %H:%M:%S +0000 %Y')\n",
        "\n",
        "#Calculating time between between outbound response and inbound message\n",
        "messy['response_time'] = messy['outbound_time'] - messy['inbound_time']\n",
        "\n",
        "messy.head()"
      ],
      "execution_count": 0,
      "outputs": [
        {
          "output_type": "execute_result",
          "data": {
            "text/html": [
              "<div>\n",
              "<style scoped>\n",
              "    .dataframe tbody tr th:only-of-type {\n",
              "        vertical-align: middle;\n",
              "    }\n",
              "\n",
              "    .dataframe tbody tr th {\n",
              "        vertical-align: top;\n",
              "    }\n",
              "\n",
              "    .dataframe thead th {\n",
              "        text-align: right;\n",
              "    }\n",
              "</style>\n",
              "<table border=\"1\" class=\"dataframe\">\n",
              "  <thead>\n",
              "    <tr style=\"text-align: right;\">\n",
              "      <th></th>\n",
              "      <th>tweet_id_x</th>\n",
              "      <th>author_id_x</th>\n",
              "      <th>inbound_x</th>\n",
              "      <th>created_at_x</th>\n",
              "      <th>text_x</th>\n",
              "      <th>response_tweet_id_x</th>\n",
              "      <th>in_response_to_tweet_id_x</th>\n",
              "      <th>tweet_id_y</th>\n",
              "      <th>author_id_y</th>\n",
              "      <th>inbound_y</th>\n",
              "      <th>created_at_y</th>\n",
              "      <th>text_y</th>\n",
              "      <th>response_tweet_id_y</th>\n",
              "      <th>in_response_to_tweet_id_y</th>\n",
              "      <th>outbound_time</th>\n",
              "      <th>inbound_time</th>\n",
              "      <th>response_time</th>\n",
              "    </tr>\n",
              "  </thead>\n",
              "  <tbody>\n",
              "    <tr>\n",
              "      <th>0</th>\n",
              "      <td>303.0</td>\n",
              "      <td>AirbnbHelp</td>\n",
              "      <td>False</td>\n",
              "      <td>Tue Oct 31 22:09:51 +0000 2017</td>\n",
              "      <td>@115782 Thank you for that. We have responded ...</td>\n",
              "      <td>NaN</td>\n",
              "      <td>304.0</td>\n",
              "      <td>304.0</td>\n",
              "      <td>115782</td>\n",
              "      <td>True</td>\n",
              "      <td>Tue Oct 31 22:04:54 +0000 2017</td>\n",
              "      <td>@AirbnbHelp I've just sent you a message with ...</td>\n",
              "      <td>303</td>\n",
              "      <td>305.0</td>\n",
              "      <td>2017-10-31 22:09:51</td>\n",
              "      <td>2017-10-31 22:04:54</td>\n",
              "      <td>00:04:57</td>\n",
              "    </tr>\n",
              "    <tr>\n",
              "      <th>1</th>\n",
              "      <td>305.0</td>\n",
              "      <td>AirbnbHelp</td>\n",
              "      <td>False</td>\n",
              "      <td>Tue Oct 31 21:46:05 +0000 2017</td>\n",
              "      <td>@115782 Hi there, we would like to help. Pleas...</td>\n",
              "      <td>304</td>\n",
              "      <td>306.0</td>\n",
              "      <td>NaN</td>\n",
              "      <td>NaN</td>\n",
              "      <td>NaN</td>\n",
              "      <td>NaN</td>\n",
              "      <td>NaN</td>\n",
              "      <td>NaN</td>\n",
              "      <td>NaN</td>\n",
              "      <td>2017-10-31 21:46:05</td>\n",
              "      <td>NaT</td>\n",
              "      <td>NaT</td>\n",
              "    </tr>\n",
              "    <tr>\n",
              "      <th>2</th>\n",
              "      <td>307.0</td>\n",
              "      <td>AirbnbHelp</td>\n",
              "      <td>False</td>\n",
              "      <td>Tue Oct 31 21:49:58 +0000 2017</td>\n",
              "      <td>@115784 We are sorry to hear this. Please DM y...</td>\n",
              "      <td>NaN</td>\n",
              "      <td>308.0</td>\n",
              "      <td>NaN</td>\n",
              "      <td>NaN</td>\n",
              "      <td>NaN</td>\n",
              "      <td>NaN</td>\n",
              "      <td>NaN</td>\n",
              "      <td>NaN</td>\n",
              "      <td>NaN</td>\n",
              "      <td>2017-10-31 21:49:58</td>\n",
              "      <td>NaT</td>\n",
              "      <td>NaT</td>\n",
              "    </tr>\n",
              "    <tr>\n",
              "      <th>3</th>\n",
              "      <td>2327.0</td>\n",
              "      <td>AirbnbHelp</td>\n",
              "      <td>False</td>\n",
              "      <td>Tue Oct 31 22:37:27 +0000 2017</td>\n",
              "      <td>@116238 We would like to look into this for yo...</td>\n",
              "      <td>NaN</td>\n",
              "      <td>2328.0</td>\n",
              "      <td>NaN</td>\n",
              "      <td>NaN</td>\n",
              "      <td>NaN</td>\n",
              "      <td>NaN</td>\n",
              "      <td>NaN</td>\n",
              "      <td>NaN</td>\n",
              "      <td>NaN</td>\n",
              "      <td>2017-10-31 22:37:27</td>\n",
              "      <td>NaT</td>\n",
              "      <td>NaT</td>\n",
              "    </tr>\n",
              "    <tr>\n",
              "      <th>4</th>\n",
              "      <td>4513.0</td>\n",
              "      <td>AirbnbHelp</td>\n",
              "      <td>False</td>\n",
              "      <td>Tue Oct 31 23:07:27 +0000 2017</td>\n",
              "      <td>@116768 Hi there, we're here to help! Please D...</td>\n",
              "      <td>NaN</td>\n",
              "      <td>4514.0</td>\n",
              "      <td>NaN</td>\n",
              "      <td>NaN</td>\n",
              "      <td>NaN</td>\n",
              "      <td>NaN</td>\n",
              "      <td>NaN</td>\n",
              "      <td>NaN</td>\n",
              "      <td>NaN</td>\n",
              "      <td>2017-10-31 23:07:27</td>\n",
              "      <td>NaT</td>\n",
              "      <td>NaT</td>\n",
              "    </tr>\n",
              "  </tbody>\n",
              "</table>\n",
              "</div>"
            ],
            "text/plain": [
              "   tweet_id_x author_id_x  ...        inbound_time response_time\n",
              "0       303.0  AirbnbHelp  ... 2017-10-31 22:04:54      00:04:57\n",
              "1       305.0  AirbnbHelp  ...                 NaT           NaT\n",
              "2       307.0  AirbnbHelp  ...                 NaT           NaT\n",
              "3      2327.0  AirbnbHelp  ...                 NaT           NaT\n",
              "4      4513.0  AirbnbHelp  ...                 NaT           NaT\n",
              "\n",
              "[5 rows x 17 columns]"
            ]
          },
          "metadata": {
            "tags": []
          },
          "execution_count": 35
        }
      ]
    },
    {
      "cell_type": "code",
      "metadata": {
        "id": "bGzvsTQX_ymN",
        "colab_type": "code",
        "outputId": "5f7d45c5-29de-4e64-ebf0-2d63fa7bebcb",
        "colab": {
          "base_uri": "https://localhost:8080/",
          "height": 52
        }
      },
      "source": [
        "#Making sure the data type is a timedelta/duration\n",
        "print('from ' + str(messy['response_time'].dtype))\n",
        "\n",
        "\n",
        "#Making it easier to later do averages by converting to a float datatype\n",
        "messy['converted_time'] = messy['response_time'].astype('timedelta64[s]') / 60\n",
        "\n",
        "print('to ' + str(messy['converted_time'].dtype))"
      ],
      "execution_count": 0,
      "outputs": [
        {
          "output_type": "stream",
          "text": [
            "from timedelta64[ns]\n",
            "to float64\n"
          ],
          "name": "stdout"
        }
      ]
    },
    {
      "cell_type": "code",
      "metadata": {
        "id": "LGZlNGXk_yps",
        "colab_type": "code",
        "outputId": "525e4075-a5ed-4675-8c2a-7aee317938d6",
        "colab": {
          "base_uri": "https://localhost:8080/",
          "height": 313
        }
      },
      "source": [
        "#I saw it says 94 mins is the average time it takes for a response. This does not seem realistic.\n",
        "#Focusing in on Uber and taking out outliers.\n",
        "\n",
        "AB = messy[messy['author_id_x'] == 'AirbnbHelp']\n",
        "AB_times = AB['converted_time']\n",
        "\n",
        "AB_times.dropna()\n",
        "\n",
        "def remove_outlier(AB_times):\n",
        "    q1 = AB_times.quantile(0.25)\n",
        "    q3 = AB_times.quantile(0.75)\n",
        "    iqr = q3-q1 #Interquartile range\n",
        "    fence_low  = q1-1.5*iqr\n",
        "    fence_high = q3+1.5*iqr\n",
        "    df_out = AB_times.loc[(AB_times > fence_low) & (AB_times < fence_high)]\n",
        "    return df_out\n",
        "\n",
        "no_outliers = remove_outlier(AB_times)\n",
        "\n",
        "import matplotlib.pyplot as plt\n",
        "hist_plot = no_outliers.plot.hist(bins=50)\n",
        "hist_plot.set_title('AirbnbHelp Response Time')\n",
        "hist_plot.set_xlabel('Mins to Response')\n",
        "hist_plot.set_ylabel('Frequency')\n",
        "plt.show()\n",
        "\n",
        "print('AirbnbHelp\\'s average response time is ' + str(round(no_outliers.mean(),2)) + ' minutes.' )"
      ],
      "execution_count": 0,
      "outputs": [
        {
          "output_type": "display_data",
          "data": {
            "image/png": "[encoded data removed]",
            "text/plain": [
              "<Figure size 432x288 with 1 Axes>"
            ]
          },
          "metadata": {
            "tags": []
          }
        },
        {
          "output_type": "stream",
          "text": [
            "AirbnbHelp's average response time is 10.3 minutes.\n"
          ],
          "name": "stdout"
        }
      ]
    },
    {
      "cell_type": "markdown",
      "metadata": {
        "id": "OOzrpNnBBsYq",
        "colab_type": "text"
      },
      "source": [
        "## ordering the conversations logically"
      ]
    },
    {
      "cell_type": "code",
      "metadata": {
        "id": "Pm8mDMsv_y93",
        "colab_type": "code",
        "colab": {}
      },
      "source": [
        "#collecting all the unique author id's\n",
        "All_author_ids = set(subset2.author_id)\n",
        "All_author_ids.remove('AirbnbHelp')\n"
      ],
      "execution_count": 0,
      "outputs": []
    },
    {
      "cell_type": "code",
      "metadata": {
        "id": "-QWC6mBi_y7l",
        "colab_type": "code",
        "colab": {}
      },
      "source": [
        "\n",
        "import numpy as np\n",
        "#array containing the correct order index to be used on data\n",
        "correct_order = np.arange(len(subset2))\n",
        "#array containig the dialog id, count a unique number indicating each dialog (i hope this is what you meant when we discussed)\n",
        "dialog_index = np.zeros(len(subset2), dtype=np.int16)\n",
        "\n",
        "#the main magic\n",
        "for i, author_id in enumerate(All_author_ids):\n",
        "    #boolean array: true where condition indidcated is met\n",
        "    index = (subset2.author_id == author_id) | subset2.text.str.contains(str(author_id), na=True)\n",
        "    #sampling the data, and ordering sample by time (created_at)\n",
        "    order = subset2.created_at[index].argsort()\n",
        "    #rearranging the chuncks of the correct_order array based in order above\n",
        "    correct_order[index] = correct_order[index][order]\n",
        "    dialog_index[index] = i\n",
        "    \n",
        "subset2 = subset2.reindex(correct_order)\n",
        "subset2.insert(5, 'dialog_index', dialog_index)\n",
        "# subset2.to_csv('AppleSupport1-ordered.csv')"
      ],
      "execution_count": 0,
      "outputs": []
    },
    {
      "cell_type": "code",
      "metadata": {
        "id": "wsuoqbQ2_y6D",
        "colab_type": "code",
        "outputId": "aec5768b-c893-42cb-8304-fd772620d960",
        "colab": {
          "base_uri": "https://localhost:8080/",
          "height": 195
        }
      },
      "source": [
        "subset2.head()"
      ],
      "execution_count": 0,
      "outputs": [
        {
          "output_type": "execute_result",
          "data": {
            "text/html": [
              "<div>\n",
              "<style scoped>\n",
              "    .dataframe tbody tr th:only-of-type {\n",
              "        vertical-align: middle;\n",
              "    }\n",
              "\n",
              "    .dataframe tbody tr th {\n",
              "        vertical-align: top;\n",
              "    }\n",
              "\n",
              "    .dataframe thead th {\n",
              "        text-align: right;\n",
              "    }\n",
              "</style>\n",
              "<table border=\"1\" class=\"dataframe\">\n",
              "  <thead>\n",
              "    <tr style=\"text-align: right;\">\n",
              "      <th></th>\n",
              "      <th>tweet_id</th>\n",
              "      <th>author_id</th>\n",
              "      <th>inbound</th>\n",
              "      <th>created_at</th>\n",
              "      <th>text</th>\n",
              "      <th>dialog_index</th>\n",
              "      <th>response_tweet_id</th>\n",
              "      <th>in_response_to_tweet_id</th>\n",
              "    </tr>\n",
              "  </thead>\n",
              "  <tbody>\n",
              "    <tr>\n",
              "      <th>9401</th>\n",
              "      <td>NaN</td>\n",
              "      <td>NaN</td>\n",
              "      <td>NaN</td>\n",
              "      <td>NaN</td>\n",
              "      <td>NaN</td>\n",
              "      <td>736</td>\n",
              "      <td>NaN</td>\n",
              "      <td>NaN</td>\n",
              "    </tr>\n",
              "    <tr>\n",
              "      <th>2</th>\n",
              "      <td>NaN</td>\n",
              "      <td>NaN</td>\n",
              "      <td>NaN</td>\n",
              "      <td>NaN</td>\n",
              "      <td>NaN</td>\n",
              "      <td>736</td>\n",
              "      <td>NaN</td>\n",
              "      <td>NaN</td>\n",
              "    </tr>\n",
              "    <tr>\n",
              "      <th>1</th>\n",
              "      <td>NaN</td>\n",
              "      <td>NaN</td>\n",
              "      <td>NaN</td>\n",
              "      <td>NaN</td>\n",
              "      <td>NaN</td>\n",
              "      <td>736</td>\n",
              "      <td>NaN</td>\n",
              "      <td>NaN</td>\n",
              "    </tr>\n",
              "    <tr>\n",
              "      <th>3</th>\n",
              "      <td>NaN</td>\n",
              "      <td>NaN</td>\n",
              "      <td>NaN</td>\n",
              "      <td>NaN</td>\n",
              "      <td>NaN</td>\n",
              "      <td>0</td>\n",
              "      <td>NaN</td>\n",
              "      <td>NaN</td>\n",
              "    </tr>\n",
              "    <tr>\n",
              "      <th>4</th>\n",
              "      <td>NaN</td>\n",
              "      <td>NaN</td>\n",
              "      <td>NaN</td>\n",
              "      <td>NaN</td>\n",
              "      <td>NaN</td>\n",
              "      <td>0</td>\n",
              "      <td>NaN</td>\n",
              "      <td>NaN</td>\n",
              "    </tr>\n",
              "  </tbody>\n",
              "</table>\n",
              "</div>"
            ],
            "text/plain": [
              "      tweet_id author_id  ... response_tweet_id in_response_to_tweet_id\n",
              "9401       NaN       NaN  ...               NaN                     NaN\n",
              "2          NaN       NaN  ...               NaN                     NaN\n",
              "1          NaN       NaN  ...               NaN                     NaN\n",
              "3          NaN       NaN  ...               NaN                     NaN\n",
              "4          NaN       NaN  ...               NaN                     NaN\n",
              "\n",
              "[5 rows x 8 columns]"
            ]
          },
          "metadata": {
            "tags": []
          },
          "execution_count": 42
        }
      ]
    },
    {
      "cell_type": "code",
      "metadata": {
        "id": "FQgWX0ax_ywz",
        "colab_type": "code",
        "colab": {}
      },
      "source": [
        "sub2_conv = df[(df['author_id'].str.contains('AirbnbHelp'))|df['text'].str.contains('AirbnbHelp')]"
      ],
      "execution_count": 0,
      "outputs": []
    },
    {
      "cell_type": "code",
      "metadata": {
        "id": "mywR-tfZ_ytX",
        "colab_type": "code",
        "outputId": "ac71f8b2-3ff9-4d6d-8bc9-f6e14ab47d17",
        "colab": {
          "base_uri": "https://localhost:8080/",
          "height": 34
        }
      },
      "source": [
        "dia2=subset2.dialog_index.tolist()\n",
        "len(dia2)"
      ],
      "execution_count": 0,
      "outputs": [
        {
          "output_type": "execute_result",
          "data": {
            "text/plain": [
              "15387"
            ]
          },
          "metadata": {
            "tags": []
          },
          "execution_count": 45
        }
      ]
    },
    {
      "cell_type": "code",
      "metadata": {
        "id": "OX4mcKB9_yi9",
        "colab_type": "code",
        "outputId": "b6ea6470-09d5-4c7d-a65b-e5356ba305cb",
        "colab": {
          "base_uri": "https://localhost:8080/",
          "height": 385
        }
      },
      "source": [
        "sub2_conv['dialog_index']=dia2\n",
        "sub2_conv.head()"
      ],
      "execution_count": 0,
      "outputs": [
        {
          "output_type": "stream",
          "text": [
            "/usr/local/lib/python3.6/dist-packages/ipykernel_launcher.py:1: SettingWithCopyWarning: \n",
            "A value is trying to be set on a copy of a slice from a DataFrame.\n",
            "Try using .loc[row_indexer,col_indexer] = value instead\n",
            "\n",
            "See the caveats in the documentation: http://pandas.pydata.org/pandas-docs/stable/indexing.html#indexing-view-versus-copy\n",
            "  \"\"\"Entry point for launching an IPython kernel.\n"
          ],
          "name": "stderr"
        },
        {
          "output_type": "execute_result",
          "data": {
            "text/html": [
              "<div>\n",
              "<style scoped>\n",
              "    .dataframe tbody tr th:only-of-type {\n",
              "        vertical-align: middle;\n",
              "    }\n",
              "\n",
              "    .dataframe tbody tr th {\n",
              "        vertical-align: top;\n",
              "    }\n",
              "\n",
              "    .dataframe thead th {\n",
              "        text-align: right;\n",
              "    }\n",
              "</style>\n",
              "<table border=\"1\" class=\"dataframe\">\n",
              "  <thead>\n",
              "    <tr style=\"text-align: right;\">\n",
              "      <th></th>\n",
              "      <th>tweet_id</th>\n",
              "      <th>author_id</th>\n",
              "      <th>inbound</th>\n",
              "      <th>created_at</th>\n",
              "      <th>text</th>\n",
              "      <th>response_tweet_id</th>\n",
              "      <th>in_response_to_tweet_id</th>\n",
              "      <th>dialog_index</th>\n",
              "    </tr>\n",
              "  </thead>\n",
              "  <tbody>\n",
              "    <tr>\n",
              "      <th>213</th>\n",
              "      <td>303</td>\n",
              "      <td>AirbnbHelp</td>\n",
              "      <td>False</td>\n",
              "      <td>Tue Oct 31 22:09:51 +0000 2017</td>\n",
              "      <td>@115782 Thank you for that. We have responded ...</td>\n",
              "      <td>NaN</td>\n",
              "      <td>304.0</td>\n",
              "      <td>736</td>\n",
              "    </tr>\n",
              "    <tr>\n",
              "      <th>214</th>\n",
              "      <td>304</td>\n",
              "      <td>115782</td>\n",
              "      <td>True</td>\n",
              "      <td>Tue Oct 31 22:04:54 +0000 2017</td>\n",
              "      <td>@AirbnbHelp I've just sent you a message with ...</td>\n",
              "      <td>303</td>\n",
              "      <td>305.0</td>\n",
              "      <td>736</td>\n",
              "    </tr>\n",
              "    <tr>\n",
              "      <th>215</th>\n",
              "      <td>305</td>\n",
              "      <td>AirbnbHelp</td>\n",
              "      <td>False</td>\n",
              "      <td>Tue Oct 31 21:46:05 +0000 2017</td>\n",
              "      <td>@115782 Hi there, we would like to help. Pleas...</td>\n",
              "      <td>304</td>\n",
              "      <td>306.0</td>\n",
              "      <td>736</td>\n",
              "    </tr>\n",
              "    <tr>\n",
              "      <th>217</th>\n",
              "      <td>307</td>\n",
              "      <td>AirbnbHelp</td>\n",
              "      <td>False</td>\n",
              "      <td>Tue Oct 31 21:49:58 +0000 2017</td>\n",
              "      <td>@115784 We are sorry to hear this. Please DM y...</td>\n",
              "      <td>NaN</td>\n",
              "      <td>308.0</td>\n",
              "      <td>0</td>\n",
              "    </tr>\n",
              "    <tr>\n",
              "      <th>1617</th>\n",
              "      <td>2327</td>\n",
              "      <td>AirbnbHelp</td>\n",
              "      <td>False</td>\n",
              "      <td>Tue Oct 31 22:37:27 +0000 2017</td>\n",
              "      <td>@116238 We would like to look into this for yo...</td>\n",
              "      <td>NaN</td>\n",
              "      <td>2328.0</td>\n",
              "      <td>0</td>\n",
              "    </tr>\n",
              "  </tbody>\n",
              "</table>\n",
              "</div>"
            ],
            "text/plain": [
              "      tweet_id   author_id  ...  in_response_to_tweet_id dialog_index\n",
              "213        303  AirbnbHelp  ...                    304.0          736\n",
              "214        304      115782  ...                    305.0          736\n",
              "215        305  AirbnbHelp  ...                    306.0          736\n",
              "217        307  AirbnbHelp  ...                    308.0            0\n",
              "1617      2327  AirbnbHelp  ...                   2328.0            0\n",
              "\n",
              "[5 rows x 8 columns]"
            ]
          },
          "metadata": {
            "tags": []
          },
          "execution_count": 46
        }
      ]
    },
    {
      "cell_type": "markdown",
      "metadata": {
        "id": "vGn3Obi6DOZJ",
        "colab_type": "text"
      },
      "source": [
        "## grouping the conversations"
      ]
    },
    {
      "cell_type": "code",
      "metadata": {
        "id": "S1v-LyfqDUbd",
        "colab_type": "code",
        "outputId": "d957cb3f-8944-429c-db47-04f29c06459f",
        "colab": {
          "base_uri": "https://localhost:8080/",
          "height": 34
        }
      },
      "source": [
        "list_conv2=sub2_conv.groupby('dialog_index').size().tolist()\n",
        "avg_length2 =sum(list_conv2)/len(list_conv2)                       \n",
        "avg_length2"
      ],
      "execution_count": 0,
      "outputs": [
        {
          "output_type": "execute_result",
          "data": {
            "text/plain": [
              "4.499122807017544"
            ]
          },
          "metadata": {
            "tags": []
          },
          "execution_count": 47
        }
      ]
    },
    {
      "cell_type": "code",
      "metadata": {
        "id": "Sxk7r8fhDiuO",
        "colab_type": "code",
        "outputId": "2c8d7670-444c-4510-fa7d-83d3f8570350",
        "colab": {
          "base_uri": "https://localhost:8080/",
          "height": 34
        }
      },
      "source": [
        "len(list_conv2)"
      ],
      "execution_count": 0,
      "outputs": [
        {
          "output_type": "execute_result",
          "data": {
            "text/plain": [
              "3420"
            ]
          },
          "metadata": {
            "tags": []
          },
          "execution_count": 48
        }
      ]
    },
    {
      "cell_type": "code",
      "metadata": {
        "id": "LlULeJxJDv5z",
        "colab_type": "code",
        "colab": {}
      },
      "source": [
        "from collections import Counter\n",
        "Counter(list_conv2)"
      ],
      "execution_count": 0,
      "outputs": []
    },
    {
      "cell_type": "markdown",
      "metadata": {
        "id": "NfEmxlSVHkbp",
        "colab_type": "text"
      },
      "source": [
        "# British_Airways - Subset3"
      ]
    },
    {
      "cell_type": "code",
      "metadata": {
        "id": "FY1b49OzHA79",
        "colab_type": "code",
        "outputId": "aafea12b-6531-4d65-a396-d05c77a165fc",
        "colab": {
          "base_uri": "https://localhost:8080/",
          "height": 34
        }
      },
      "source": [
        "subset3 = df[(df['author_id'].str.contains('British_Airways'))|df['text'].str.contains('British_Airways')]\n",
        "subset3.shape"
      ],
      "execution_count": 0,
      "outputs": [
        {
          "output_type": "execute_result",
          "data": {
            "text/plain": [
              "(59883, 7)"
            ]
          },
          "metadata": {
            "tags": []
          },
          "execution_count": 79
        }
      ]
    },
    {
      "cell_type": "markdown",
      "metadata": {
        "id": "2s3AqPAvH-Lh",
        "colab_type": "text"
      },
      "source": [
        "## Analysing response time"
      ]
    },
    {
      "cell_type": "code",
      "metadata": {
        "id": "cTGFla5yIFws",
        "colab_type": "code",
        "outputId": "900cdb9d-07fb-4764-e785-a137b182cd58",
        "colab": {
          "base_uri": "https://localhost:8080/",
          "height": 652
        }
      },
      "source": [
        "#Separating the original dataframe into inbounds and outbounds\n",
        "inbounds = subset3.loc[subset3['inbound'] == True]\n",
        "outbounds = subset3.loc[subset3['inbound'] == False]\n",
        "\n",
        "#Merging/joining to be able to later find time between responses. Messy as a variable because the table looks so messy.\n",
        "messy = pd.merge(outbounds, inbounds, left_on='in_response_to_tweet_id', right_on='tweet_id', how='outer')\n",
        "\n",
        "#Changing timestamp format\n",
        "messy['outbound_time'] = pd.to_datetime(messy['created_at_x'], format='%a %b %d %H:%M:%S +0000 %Y')\n",
        "messy['inbound_time'] = pd.to_datetime(messy['created_at_y'], format='%a %b %d %H:%M:%S +0000 %Y')\n",
        "\n",
        "#Calculating time between between outbound response and inbound message\n",
        "messy['response_time'] = messy['outbound_time'] - messy['inbound_time']\n",
        "\n",
        "messy.head()"
      ],
      "execution_count": 0,
      "outputs": [
        {
          "output_type": "execute_result",
          "data": {
            "text/html": [
              "<div>\n",
              "<style scoped>\n",
              "    .dataframe tbody tr th:only-of-type {\n",
              "        vertical-align: middle;\n",
              "    }\n",
              "\n",
              "    .dataframe tbody tr th {\n",
              "        vertical-align: top;\n",
              "    }\n",
              "\n",
              "    .dataframe thead th {\n",
              "        text-align: right;\n",
              "    }\n",
              "</style>\n",
              "<table border=\"1\" class=\"dataframe\">\n",
              "  <thead>\n",
              "    <tr style=\"text-align: right;\">\n",
              "      <th></th>\n",
              "      <th>tweet_id_x</th>\n",
              "      <th>author_id_x</th>\n",
              "      <th>inbound_x</th>\n",
              "      <th>created_at_x</th>\n",
              "      <th>text_x</th>\n",
              "      <th>response_tweet_id_x</th>\n",
              "      <th>in_response_to_tweet_id_x</th>\n",
              "      <th>tweet_id_y</th>\n",
              "      <th>author_id_y</th>\n",
              "      <th>inbound_y</th>\n",
              "      <th>created_at_y</th>\n",
              "      <th>text_y</th>\n",
              "      <th>response_tweet_id_y</th>\n",
              "      <th>in_response_to_tweet_id_y</th>\n",
              "      <th>outbound_time</th>\n",
              "      <th>inbound_time</th>\n",
              "      <th>response_time</th>\n",
              "    </tr>\n",
              "  </thead>\n",
              "  <tbody>\n",
              "    <tr>\n",
              "      <th>0</th>\n",
              "      <td>867.0</td>\n",
              "      <td>British_Airways</td>\n",
              "      <td>False</td>\n",
              "      <td>Tue Oct 31 22:28:36 +0000 2017</td>\n",
              "      <td>@115892 caused. We're unable to offer a compli...</td>\n",
              "      <td>868,869,870,871</td>\n",
              "      <td>872.0</td>\n",
              "      <td>872.0</td>\n",
              "      <td>115892</td>\n",
              "      <td>True</td>\n",
              "      <td>Tue Oct 31 16:08:21 +0000 2017</td>\n",
              "      <td>Hi @British_Airways! My flight from MAN--LHR--...</td>\n",
              "      <td>867,874</td>\n",
              "      <td>NaN</td>\n",
              "      <td>2017-10-31 22:28:36</td>\n",
              "      <td>2017-10-31 16:08:21</td>\n",
              "      <td>06:20:15</td>\n",
              "    </tr>\n",
              "    <tr>\n",
              "      <th>1</th>\n",
              "      <td>874.0</td>\n",
              "      <td>British_Airways</td>\n",
              "      <td>False</td>\n",
              "      <td>Tue Oct 31 22:26:30 +0000 2017</td>\n",
              "      <td>@115892 We're so sorry to hear your flight was...</td>\n",
              "      <td>1980634</td>\n",
              "      <td>872.0</td>\n",
              "      <td>872.0</td>\n",
              "      <td>115892</td>\n",
              "      <td>True</td>\n",
              "      <td>Tue Oct 31 16:08:21 +0000 2017</td>\n",
              "      <td>Hi @British_Airways! My flight from MAN--LHR--...</td>\n",
              "      <td>867,874</td>\n",
              "      <td>NaN</td>\n",
              "      <td>2017-10-31 22:26:30</td>\n",
              "      <td>2017-10-31 16:08:21</td>\n",
              "      <td>06:18:09</td>\n",
              "    </tr>\n",
              "    <tr>\n",
              "      <th>2</th>\n",
              "      <td>873.0</td>\n",
              "      <td>British_Airways</td>\n",
              "      <td>False</td>\n",
              "      <td>Wed Nov 01 09:35:44 +0000 2017</td>\n",
              "      <td>@115892 Please can you DM us your booking refe...</td>\n",
              "      <td>NaN</td>\n",
              "      <td>868.0</td>\n",
              "      <td>868.0</td>\n",
              "      <td>115892</td>\n",
              "      <td>True</td>\n",
              "      <td>Tue Oct 31 22:34:33 +0000 2017</td>\n",
              "      <td>@British_Airways Sure, how much would an upgra...</td>\n",
              "      <td>873</td>\n",
              "      <td>867.0</td>\n",
              "      <td>2017-11-01 09:35:44</td>\n",
              "      <td>2017-10-31 22:34:33</td>\n",
              "      <td>11:01:11</td>\n",
              "    </tr>\n",
              "    <tr>\n",
              "      <th>3</th>\n",
              "      <td>875.0</td>\n",
              "      <td>British_Airways</td>\n",
              "      <td>False</td>\n",
              "      <td>Tue Oct 31 22:26:11 +0000 2017</td>\n",
              "      <td>@115893 email address and contact telephone nu...</td>\n",
              "      <td>876</td>\n",
              "      <td>877.0</td>\n",
              "      <td>877.0</td>\n",
              "      <td>115893</td>\n",
              "      <td>True</td>\n",
              "      <td>Tue Oct 31 16:47:55 +0000 2017</td>\n",
              "      <td>@British_Airways  will you ever address my com...</td>\n",
              "      <td>875,878,879</td>\n",
              "      <td>NaN</td>\n",
              "      <td>2017-10-31 22:26:11</td>\n",
              "      <td>2017-10-31 16:47:55</td>\n",
              "      <td>05:38:16</td>\n",
              "    </tr>\n",
              "    <tr>\n",
              "      <th>4</th>\n",
              "      <td>879.0</td>\n",
              "      <td>British_Airways</td>\n",
              "      <td>False</td>\n",
              "      <td>Tue Oct 31 22:25:34 +0000 2017</td>\n",
              "      <td>@115893 We apologise for not responding sooner...</td>\n",
              "      <td>NaN</td>\n",
              "      <td>877.0</td>\n",
              "      <td>877.0</td>\n",
              "      <td>115893</td>\n",
              "      <td>True</td>\n",
              "      <td>Tue Oct 31 16:47:55 +0000 2017</td>\n",
              "      <td>@British_Airways  will you ever address my com...</td>\n",
              "      <td>875,878,879</td>\n",
              "      <td>NaN</td>\n",
              "      <td>2017-10-31 22:25:34</td>\n",
              "      <td>2017-10-31 16:47:55</td>\n",
              "      <td>05:37:39</td>\n",
              "    </tr>\n",
              "  </tbody>\n",
              "</table>\n",
              "</div>"
            ],
            "text/plain": [
              "   tweet_id_x      author_id_x  ...        inbound_time response_time\n",
              "0       867.0  British_Airways  ... 2017-10-31 16:08:21      06:20:15\n",
              "1       874.0  British_Airways  ... 2017-10-31 16:08:21      06:18:09\n",
              "2       873.0  British_Airways  ... 2017-10-31 22:34:33      11:01:11\n",
              "3       875.0  British_Airways  ... 2017-10-31 16:47:55      05:38:16\n",
              "4       879.0  British_Airways  ... 2017-10-31 16:47:55      05:37:39\n",
              "\n",
              "[5 rows x 17 columns]"
            ]
          },
          "metadata": {
            "tags": []
          },
          "execution_count": 62
        }
      ]
    },
    {
      "cell_type": "code",
      "metadata": {
        "id": "xhH9r8iXIF4J",
        "colab_type": "code",
        "outputId": "680c1d36-35fa-4e8a-d642-6990da03e14d",
        "colab": {
          "base_uri": "https://localhost:8080/",
          "height": 52
        }
      },
      "source": [
        "#Making sure the data type is a timedelta/duration\n",
        "print('from ' + str(messy['response_time'].dtype))\n",
        "\n",
        "\n",
        "#Making it easier to later do averages by converting to a float datatype\n",
        "messy['converted_time'] = messy['response_time'].astype('timedelta64[s]') / 60\n",
        "\n",
        "print('to ' + str(messy['converted_time'].dtype))"
      ],
      "execution_count": 0,
      "outputs": [
        {
          "output_type": "stream",
          "text": [
            "from timedelta64[ns]\n",
            "to float64\n"
          ],
          "name": "stdout"
        }
      ]
    },
    {
      "cell_type": "code",
      "metadata": {
        "id": "IXveMAfKIF8c",
        "colab_type": "code",
        "outputId": "94d25690-8021-4815-ffd7-7543d6d560d5",
        "colab": {
          "base_uri": "https://localhost:8080/",
          "height": 313
        }
      },
      "source": [
        "\n",
        "#Focusing in on Uber and taking out outliers.\n",
        "\n",
        "BA = messy[messy['author_id_x'] == 'British_Airways']\n",
        "BA_times = BA['converted_time']\n",
        "\n",
        "BA_times.dropna()\n",
        "\n",
        "def remove_outlier(BA_times):\n",
        "    q1 = BA_times.quantile(0.25)\n",
        "    q3 = BA_times.quantile(0.75)\n",
        "    iqr = q3-q1 #Interquartile range\n",
        "    fence_low  = q1-1.5*iqr\n",
        "    fence_high = q3+1.5*iqr\n",
        "    df_out = BA_times.loc[(BA_times > fence_low) & (BA_times < fence_high)]\n",
        "    return df_out\n",
        "\n",
        "no_outliers = remove_outlier(BA_times)\n",
        "\n",
        "import matplotlib.pyplot as plt\n",
        "hist_plot = no_outliers.plot.hist(bins=70)\n",
        "hist_plot.set_title('British_Airways Response Time')\n",
        "hist_plot.set_xlabel('Mins to Response')\n",
        "hist_plot.set_ylabel('Frequency')\n",
        "plt.show()\n",
        "\n",
        "print('British_Airways\\'s average response time is ' + str(round(no_outliers.mean(),2)) + ' minutes.' )"
      ],
      "execution_count": 0,
      "outputs": [
        {
          "output_type": "display_data",
          "data": {
            "image/png": "[encoded data removed]",
            "text/plain": [
              "<Figure size 432x288 with 1 Axes>"
            ]
          },
          "metadata": {
            "tags": []
          }
        },
        {
          "output_type": "stream",
          "text": [
            "British_Airways's average response time is 231.85 minutes.\n"
          ],
          "name": "stdout"
        }
      ]
    },
    {
      "cell_type": "markdown",
      "metadata": {
        "id": "-K5zR7tuJm0d",
        "colab_type": "text"
      },
      "source": [
        "## Ordering the conversations"
      ]
    },
    {
      "cell_type": "code",
      "metadata": {
        "id": "6H29E4vgIGFP",
        "colab_type": "code",
        "colab": {}
      },
      "source": [
        "#collecting all the unique author id's\n",
        "All_author_ids = set(subset3.author_id)\n",
        "All_author_ids.remove('British_Airways')\n"
      ],
      "execution_count": 0,
      "outputs": []
    },
    {
      "cell_type": "code",
      "metadata": {
        "id": "FhxlgHjSIGNx",
        "colab_type": "code",
        "colab": {}
      },
      "source": [
        "import numpy as np\n",
        "#array containing the correct order index to be used on data\n",
        "correct_order = np.arange(len(subset3))\n",
        "#array containig the dialog id, count a unique number indicating each dialog (i hope this is what you meant when we discussed)\n",
        "dialog_index = np.zeros(len(subset3), dtype=np.int16)\n",
        "\n",
        "#the main magic\n",
        "for i, author_id in enumerate(All_author_ids):\n",
        "    #boolean array: true where condition indidcated is met\n",
        "    index = (subset3.author_id == author_id) | subset3.text.str.contains(str(author_id), na=True)\n",
        "    #sampling the data, and ordering sample by time (created_at)\n",
        "    order = subset3.created_at[index].argsort()\n",
        "    #rearranging the chuncks of the correct_order array based in order above\n",
        "    correct_order[index] = correct_order[index][order]\n",
        "    dialog_index[index] = i\n",
        "    \n",
        "subset3 = subset3.reindex(correct_order)\n",
        "subset3.insert(5, 'dialog_index', dialog_index)\n",
        "# subset2.to_csv('AppleSupport1-ordered.csv')"
      ],
      "execution_count": 0,
      "outputs": []
    },
    {
      "cell_type": "code",
      "metadata": {
        "id": "FNKPyTq3IGKA",
        "colab_type": "code",
        "colab": {}
      },
      "source": [
        "sub3_conv = df[(df['author_id'].str.contains('British_Airways'))|df['text'].str.contains('British_Airways')]"
      ],
      "execution_count": 0,
      "outputs": []
    },
    {
      "cell_type": "code",
      "metadata": {
        "id": "fcM3vywBIGBX",
        "colab_type": "code",
        "outputId": "eaa00177-11d6-4253-bb1d-a6c136d56b2a",
        "colab": {
          "base_uri": "https://localhost:8080/",
          "height": 34
        }
      },
      "source": [
        "dia3=subset3.dialog_index.tolist()\n",
        "len(dia3)"
      ],
      "execution_count": 0,
      "outputs": [
        {
          "output_type": "execute_result",
          "data": {
            "text/plain": [
              "59883"
            ]
          },
          "metadata": {
            "tags": []
          },
          "execution_count": 70
        }
      ]
    },
    {
      "cell_type": "code",
      "metadata": {
        "id": "g1ikOURNLNVo",
        "colab_type": "code",
        "outputId": "8a1ce5b9-7972-49cb-9dca-f134abbe6550",
        "colab": {
          "base_uri": "https://localhost:8080/",
          "height": 469
        }
      },
      "source": [
        "sub3_conv['dialog_index']=dia3\n",
        "sub3_conv.head()"
      ],
      "execution_count": 0,
      "outputs": [
        {
          "output_type": "stream",
          "text": [
            "/usr/local/lib/python3.6/dist-packages/ipykernel_launcher.py:1: SettingWithCopyWarning: \n",
            "A value is trying to be set on a copy of a slice from a DataFrame.\n",
            "Try using .loc[row_indexer,col_indexer] = value instead\n",
            "\n",
            "See the caveats in the documentation: http://pandas.pydata.org/pandas-docs/stable/indexing.html#indexing-view-versus-copy\n",
            "  \"\"\"Entry point for launching an IPython kernel.\n"
          ],
          "name": "stderr"
        },
        {
          "output_type": "execute_result",
          "data": {
            "text/html": [
              "<div>\n",
              "<style scoped>\n",
              "    .dataframe tbody tr th:only-of-type {\n",
              "        vertical-align: middle;\n",
              "    }\n",
              "\n",
              "    .dataframe tbody tr th {\n",
              "        vertical-align: top;\n",
              "    }\n",
              "\n",
              "    .dataframe thead th {\n",
              "        text-align: right;\n",
              "    }\n",
              "</style>\n",
              "<table border=\"1\" class=\"dataframe\">\n",
              "  <thead>\n",
              "    <tr style=\"text-align: right;\">\n",
              "      <th></th>\n",
              "      <th>tweet_id</th>\n",
              "      <th>author_id</th>\n",
              "      <th>inbound</th>\n",
              "      <th>created_at</th>\n",
              "      <th>text</th>\n",
              "      <th>response_tweet_id</th>\n",
              "      <th>in_response_to_tweet_id</th>\n",
              "      <th>dialog_index</th>\n",
              "    </tr>\n",
              "  </thead>\n",
              "  <tbody>\n",
              "    <tr>\n",
              "      <th>558</th>\n",
              "      <td>867</td>\n",
              "      <td>British_Airways</td>\n",
              "      <td>False</td>\n",
              "      <td>Tue Oct 31 22:28:36 +0000 2017</td>\n",
              "      <td>@115892 caused. We're unable to offer a compli...</td>\n",
              "      <td>868,869,870,871</td>\n",
              "      <td>872.0</td>\n",
              "      <td>1423</td>\n",
              "    </tr>\n",
              "    <tr>\n",
              "      <th>559</th>\n",
              "      <td>868</td>\n",
              "      <td>115892</td>\n",
              "      <td>True</td>\n",
              "      <td>Tue Oct 31 22:34:33 +0000 2017</td>\n",
              "      <td>@British_Airways Sure, how much would an upgra...</td>\n",
              "      <td>873</td>\n",
              "      <td>867.0</td>\n",
              "      <td>1423</td>\n",
              "    </tr>\n",
              "    <tr>\n",
              "      <th>560</th>\n",
              "      <td>873</td>\n",
              "      <td>British_Airways</td>\n",
              "      <td>False</td>\n",
              "      <td>Wed Nov 01 09:35:44 +0000 2017</td>\n",
              "      <td>@115892 Please can you DM us your booking refe...</td>\n",
              "      <td>NaN</td>\n",
              "      <td>868.0</td>\n",
              "      <td>1423</td>\n",
              "    </tr>\n",
              "    <tr>\n",
              "      <th>561</th>\n",
              "      <td>869</td>\n",
              "      <td>115892</td>\n",
              "      <td>True</td>\n",
              "      <td>Wed Nov 01 08:44:59 +0000 2017</td>\n",
              "      <td>@British_Airways Or, more importantly, are the...</td>\n",
              "      <td>NaN</td>\n",
              "      <td>867.0</td>\n",
              "      <td>1423</td>\n",
              "    </tr>\n",
              "    <tr>\n",
              "      <th>562</th>\n",
              "      <td>870</td>\n",
              "      <td>115892</td>\n",
              "      <td>True</td>\n",
              "      <td>Wed Nov 01 08:48:52 +0000 2017</td>\n",
              "      <td>@British_Airways This itinerary is preferred--...</td>\n",
              "      <td>NaN</td>\n",
              "      <td>867.0</td>\n",
              "      <td>1423</td>\n",
              "    </tr>\n",
              "  </tbody>\n",
              "</table>\n",
              "</div>"
            ],
            "text/plain": [
              "     tweet_id        author_id  ...  in_response_to_tweet_id dialog_index\n",
              "558       867  British_Airways  ...                    872.0         1423\n",
              "559       868           115892  ...                    867.0         1423\n",
              "560       873  British_Airways  ...                    868.0         1423\n",
              "561       869           115892  ...                    867.0         1423\n",
              "562       870           115892  ...                    867.0         1423\n",
              "\n",
              "[5 rows x 8 columns]"
            ]
          },
          "metadata": {
            "tags": []
          },
          "execution_count": 71
        }
      ]
    },
    {
      "cell_type": "markdown",
      "metadata": {
        "id": "pPdmZzUPLSde",
        "colab_type": "text"
      },
      "source": [
        "## grouping the conversations"
      ]
    },
    {
      "cell_type": "code",
      "metadata": {
        "id": "dG5EaBhPLVUj",
        "colab_type": "code",
        "outputId": "1681b444-5bb7-420a-8ae0-988b98dbb491",
        "colab": {
          "base_uri": "https://localhost:8080/",
          "height": 34
        }
      },
      "source": [
        "list_conv3=sub3_conv.groupby('dialog_index').size().tolist()\n",
        "avg_length3 =sum(list_conv3)/len(list_conv3)                       \n",
        "avg_length3"
      ],
      "execution_count": 0,
      "outputs": [
        {
          "output_type": "execute_result",
          "data": {
            "text/plain": [
              "4.171287266648092"
            ]
          },
          "metadata": {
            "tags": []
          },
          "execution_count": 72
        }
      ]
    },
    {
      "cell_type": "code",
      "metadata": {
        "id": "EpreYlv8LVRu",
        "colab_type": "code",
        "outputId": "ec7217b0-0e25-4ffa-8507-f9d8b93c6db8",
        "colab": {
          "base_uri": "https://localhost:8080/",
          "height": 34
        }
      },
      "source": [
        "len(list_conv3)"
      ],
      "execution_count": 0,
      "outputs": [
        {
          "output_type": "execute_result",
          "data": {
            "text/plain": [
              "14356"
            ]
          },
          "metadata": {
            "tags": []
          },
          "execution_count": 73
        }
      ]
    },
    {
      "cell_type": "code",
      "metadata": {
        "id": "YGPUvz2aLVPE",
        "colab_type": "code",
        "outputId": "a0b7b544-c684-4cd7-ae26-2e3e6e94cec3",
        "colab": {
          "base_uri": "https://localhost:8080/",
          "height": 897
        }
      },
      "source": [
        "from collections import Counter\n",
        "Counter(list_conv3)"
      ],
      "execution_count": 0,
      "outputs": [
        {
          "output_type": "execute_result",
          "data": {
            "text/plain": [
              "Counter({1: 453,\n",
              "         2: 5583,\n",
              "         3: 2271,\n",
              "         4: 2086,\n",
              "         5: 1134,\n",
              "         6: 793,\n",
              "         7: 508,\n",
              "         8: 380,\n",
              "         9: 266,\n",
              "         10: 194,\n",
              "         11: 148,\n",
              "         12: 131,\n",
              "         13: 80,\n",
              "         14: 51,\n",
              "         15: 55,\n",
              "         16: 36,\n",
              "         17: 28,\n",
              "         18: 24,\n",
              "         19: 18,\n",
              "         20: 9,\n",
              "         21: 16,\n",
              "         22: 14,\n",
              "         23: 9,\n",
              "         24: 5,\n",
              "         25: 11,\n",
              "         26: 5,\n",
              "         27: 5,\n",
              "         28: 2,\n",
              "         29: 3,\n",
              "         30: 1,\n",
              "         33: 4,\n",
              "         34: 2,\n",
              "         35: 8,\n",
              "         36: 2,\n",
              "         37: 1,\n",
              "         39: 1,\n",
              "         40: 2,\n",
              "         43: 2,\n",
              "         48: 1,\n",
              "         53: 2,\n",
              "         54: 2,\n",
              "         56: 1,\n",
              "         60: 2,\n",
              "         70: 1,\n",
              "         72: 1,\n",
              "         86: 1,\n",
              "         89: 1,\n",
              "         97: 1,\n",
              "         308: 1,\n",
              "         326: 1})"
            ]
          },
          "metadata": {
            "tags": []
          },
          "execution_count": 74
        }
      ]
    },
    {
      "cell_type": "markdown",
      "metadata": {
        "id": "QptsibZbLzGG",
        "colab_type": "text"
      },
      "source": [
        "### Load the combined datasets"
      ]
    },
    {
      "cell_type": "code",
      "metadata": {
        "id": "LcYF2-V0DTrE",
        "colab_type": "code",
        "outputId": "d2ba054d-fd0f-4813-8600-07c9cb5dd530",
        "colab": {
          "base_uri": "https://localhost:8080/",
          "height": 34
        }
      },
      "source": [
        "print(subset1.shape,\n",
        "subset2.shape,\n",
        "subset3.shape)"
      ],
      "execution_count": 0,
      "outputs": [
        {
          "output_type": "stream",
          "text": [
            "(204028, 7) (15387, 7) (59883, 7)\n"
          ],
          "name": "stdout"
        }
      ]
    },
    {
      "cell_type": "code",
      "metadata": {
        "id": "XRS1T0AUcsgd",
        "colab_type": "code",
        "colab": {}
      },
      "source": [
        "frames=[subset1[:2000], subset2[:2000], subset[:3]]"
      ],
      "execution_count": 0,
      "outputs": []
    },
    {
      "cell_type": "markdown",
      "metadata": {
        "id": "h-Ra_ukSwdhr",
        "colab_type": "text"
      },
      "source": [
        "# Pre-Processing steps\n",
        "\n"
      ]
    },
    {
      "cell_type": "markdown",
      "metadata": {
        "id": "90AiNPa9-8Lw",
        "colab_type": "text"
      },
      "source": [
        "## count distribution"
      ]
    },
    {
      "cell_type": "code",
      "metadata": {
        "id": "9hhtsjAn-_9d",
        "colab_type": "code",
        "colab": {}
      },
      "source": [
        "print(df.count())"
      ],
      "execution_count": 0,
      "outputs": []
    },
    {
      "cell_type": "markdown",
      "metadata": {
        "id": "0F_A8v_X_Gqi",
        "colab_type": "text"
      },
      "source": [
        "## value count on the dialog_act column"
      ]
    },
    {
      "cell_type": "code",
      "metadata": {
        "id": "uPpCTBSd_Q6J",
        "colab_type": "code",
        "colab": {}
      },
      "source": [
        "# Select a column of the dataframe\n",
        "subreddits = threads['subreddit']\n",
        "print(type(subreddits))\n",
        "\n",
        "subreddit_counts = subreddits.value_counts()\n",
        "\n",
        "# The result is a new series with the counts of the unique values.\n",
        "print(type(subreddit_counts))\n",
        "print()\n",
        "# describe() can be called to provide a summary of the values\n",
        "print(\"Description of subreddit statistics:\")\n",
        "print(subreddit_counts.describe())\n",
        "print()\n",
        "\n",
        "\n",
        "# Get the top ones.\n",
        "print(\"Top subreddits:\")\n",
        "print (subreddit_counts.head())\n"
      ],
      "execution_count": 0,
      "outputs": []
    },
    {
      "cell_type": "markdown",
      "metadata": {
        "id": "BlL6ESxk-vXv",
        "colab_type": "text"
      },
      "source": [
        "## number of tokens"
      ]
    },
    {
      "cell_type": "code",
      "metadata": {
        "id": "DABwF6Gi82J9",
        "colab_type": "code",
        "colab": {}
      },
      "source": [
        "all_posts_tokenized = post_frame.body.apply(tokenize)\n",
        "\n",
        "import itertools\n",
        "# A single variable with the (flattened) tokens from all posts.\n",
        "flat_tokens = list(itertools.chain.from_iterable(all_posts_tokenized))\n",
        "\n",
        "# all tokens\n",
        "N = len(set(flat_tokens))\n",
        "print(N)\n"
      ],
      "execution_count": 0,
      "outputs": []
    },
    {
      "cell_type": "markdown",
      "metadata": {
        "id": "G17QzITw_jDR",
        "colab_type": "text"
      },
      "source": [
        "## average length of turns"
      ]
    },
    {
      "cell_type": "code",
      "metadata": {
        "id": "FZs5BYd382Pr",
        "colab_type": "code",
        "colab": {}
      },
      "source": [
        "avg_len = N / len(all_posts_tokenized)\n",
        "print(avg_len)\n"
      ],
      "execution_count": 0,
      "outputs": []
    },
    {
      "cell_type": "markdown",
      "metadata": {
        "id": "YoL9p93U_udH",
        "colab_type": "text"
      },
      "source": [
        "## 50 most frequent (common) tokens in the collection + term frequencies (TF)."
      ]
    },
    {
      "cell_type": "code",
      "metadata": {
        "id": "TIWmG5FB82V0",
        "colab_type": "code",
        "colab": {}
      },
      "source": [
        "word_count = collections.Counter(flat_tokens)\n",
        "word_count.most_common(50)\n"
      ],
      "execution_count": 0,
      "outputs": []
    },
    {
      "cell_type": "code",
      "metadata": {
        "id": "TZLMqzb1-npz",
        "colab_type": "code",
        "colab": {}
      },
      "source": [
        "from collections import Counter\n",
        "cnt = Counter()\n",
        "for text in df[\"text_wo_stop\"].values:\n",
        "    for word in text.split():\n",
        "        cnt[word] += 1\n",
        "        \n",
        "cnt.most_common(10)"
      ],
      "execution_count": 0,
      "outputs": []
    },
    {
      "cell_type": "markdown",
      "metadata": {
        "id": "9qojh1KbAJh4",
        "colab_type": "text"
      },
      "source": [
        "## lemmatization\n",
        "\n",
        "Now we are getting the root form run. So we also need to provide the POS tag of the word along with the word for lemmatizer in nltk. Depending on the POS, the lemmatizer may return different results.\n",
        "\n",
        "Let us take the example, stripes and check the lemma when it is both verb and noun."
      ]
    },
    {
      "cell_type": "code",
      "metadata": {
        "id": "LEL2Sjy582aV",
        "colab_type": "code",
        "colab": {}
      },
      "source": [
        "from nltk.corpus import wordnet\n",
        "from nltk.stem import WordNetLemmatizer\n",
        "\n",
        "lemmatizer = WordNetLemmatizer()\n",
        "wordnet_map = {\"N\":wordnet.NOUN, \"V\":wordnet.VERB, \"J\":wordnet.ADJ, \"R\":wordnet.ADV}\n",
        "def lemmatize_words(text):\n",
        "    pos_tagged_text = nltk.pos_tag(text.split())\n",
        "    return \" \".join([lemmatizer.lemmatize(word, wordnet_map.get(pos[0], wordnet.NOUN)) for word, pos in pos_tagged_text])\n",
        "\n",
        "df[\"text_lemmatized\"] = df[\"text\"].apply(lambda text: lemmatize_words(text))\n",
        "df.head()"
      ],
      "execution_count": 0,
      "outputs": []
    },
    {
      "cell_type": "markdown",
      "metadata": {
        "id": "xH13xZfNA3XA",
        "colab_type": "text"
      },
      "source": [
        "## Conversion of Emoticon to Words\n",
        "This method might be better for some use cases when we do not want to miss out on the emoticon information"
      ]
    },
    {
      "cell_type": "code",
      "metadata": {
        "id": "IZpsrf5N82ec",
        "colab_type": "code",
        "colab": {}
      },
      "source": [
        "def convert_emoticons(text):\n",
        "    for emot in EMOTICONS:\n",
        "        text = re.sub(u'('+emot+')', \"_\".join(EMOTICONS[emot].replace(\",\",\"\").split()), text)\n",
        "    return text\n",
        "\n",
        "text = \"Hello :-) :-)\"\n",
        "convert_emoticons(text)"
      ],
      "execution_count": 0,
      "outputs": []
    },
    {
      "cell_type": "code",
      "metadata": {
        "id": "eN8XSBit82hz",
        "colab_type": "code",
        "colab": {}
      },
      "source": [
        "text = \"I am sad :()\"\n",
        "convert_emoticons(text)"
      ],
      "execution_count": 0,
      "outputs": []
    },
    {
      "cell_type": "markdown",
      "metadata": {
        "id": "U_Hep6JHBKPv",
        "colab_type": "text"
      },
      "source": [
        "## Conversion of Emoji to Words"
      ]
    },
    {
      "cell_type": "code",
      "metadata": {
        "id": "rhPRsehF82nM",
        "colab_type": "code",
        "colab": {}
      },
      "source": [
        "def convert_emojis(text):\n",
        "    for emot in UNICODE_EMO:\n",
        "        text = re.sub(r'('+emot+')', \"_\".join(UNICODE_EMO[emot].replace(\",\",\"\").replace(\":\",\"\").split()), text)\n",
        "    return text\n",
        "\n",
        "text = \"game is on 🔥\"\n",
        "convert_emojis(text)"
      ],
      "execution_count": 0,
      "outputs": []
    },
    {
      "cell_type": "code",
      "metadata": {
        "id": "5MH5jB7Y82r0",
        "colab_type": "code",
        "colab": {}
      },
      "source": [
        "text = \"Hilarious 😂\"\n",
        "convert_emojis(text)text = \"Hilarious 😂\"\n",
        "convert_emojis(text)"
      ],
      "execution_count": 0,
      "outputs": []
    },
    {
      "cell_type": "markdown",
      "metadata": {
        "id": "NINJxytfB-_c",
        "colab_type": "text"
      },
      "source": [
        "## Chat Words Conversion\n",
        "This is an important text preprocessing step if we are dealing with chat data. People do use a lot of abbreviated words in chat and so it might be helpful to expand those words for our analysis purposes.\n",
        "\n",
        "Got a good list of chat slang words from this repo. We can use this for our conversion here. We can add more words to this list."
      ]
    },
    {
      "cell_type": "code",
      "metadata": {
        "id": "db_-gzmxB87F",
        "colab_type": "code",
        "colab": {}
      },
      "source": [
        "chat_words_map_dict = {}\n",
        "chat_words_list = []\n",
        "for line in chat_words_str.split(\"\\n\"):\n",
        "    if line != \"\":\n",
        "        cw = line.split(\"=\")[0]\n",
        "        cw_expanded = line.split(\"=\")[1]\n",
        "        chat_words_list.append(cw)\n",
        "        chat_words_map_dict[cw] = cw_expanded\n",
        "chat_words_list = set(chat_words_list)\n",
        "\n",
        "def chat_words_conversion(text):\n",
        "    new_text = []\n",
        "    for w in text.split():\n",
        "        if w.upper() in chat_words_list:\n",
        "            new_text.append(chat_words_map_dict[w.upper()])\n",
        "        else:\n",
        "            new_text.append(w)\n",
        "    return \" \".join(new_text)\n",
        "\n",
        "chat_words_conversion(\"one minute BRB\")"
      ],
      "execution_count": 0,
      "outputs": []
    }
  ]
}