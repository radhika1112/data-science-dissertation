{
  "nbformat": 4,
  "nbformat_minor": 0,
  "metadata": {
    "colab": {
      "name": "binary classification with BERT on TF Hub -- twitter.ipynb",
      "provenance": [],
      "collapsed_sections": [],
      "include_colab_link": true
    },
    "kernelspec": {
      "name": "python3",
      "display_name": "Python 3"
    },
    "accelerator": "GPU"
  },
  "cells": [
    {
      "cell_type": "markdown",
      "metadata": {
        "id": "view-in-github",
        "colab_type": "text"
      },
      "source": [
        "<a href=\"https://colab.research.google.com/github/radhika1112/data-science-dissertation/blob/master/binary_classification_with_BERT_on_TF_Hub_twitter.ipynb\" target=\"_parent\"><img src=\"https://colab.research.google.com/assets/colab-badge.svg\" alt=\"Open In Colab\"/></a>"
      ]
    },
    {
      "cell_type": "code",
      "metadata": {
        "id": "j0a4mTk9o1Qg",
        "colab_type": "code",
        "colab": {}
      },
      "source": [
        "# Copyright 2019 Google Inc.\n",
        "\n",
        "# Licensed under the Apache License, Version 2.0 (the \"License\");\n",
        "# you may not use this file except in compliance with the License.\n",
        "# You may obtain a copy of the License at\n",
        "\n",
        "#     http://www.apache.org/licenses/LICENSE-2.0\n",
        "\n",
        "# Unless required by applicable law or agreed to in writing, software\n",
        "# distributed under the License is distributed on an \"AS IS\" BASIS,\n",
        "# WITHOUT WARRANTIES OR CONDITIONS OF ANY KIND, either express or implied.\n",
        "# See the License for the specific language governing permissions and\n",
        "# limitations under the License."
      ],
      "execution_count": 0,
      "outputs": []
    },
    {
      "cell_type": "markdown",
      "metadata": {
        "id": "dCpvgG0vwXAZ",
        "colab_type": "text"
      },
      "source": [
        "#binary classification BERT on TF Hub -- twitter\n"
      ]
    },
    {
      "cell_type": "markdown",
      "metadata": {
        "id": "xiYrZKaHwV81",
        "colab_type": "text"
      },
      "source": [
        "If you’ve been following Natural Language Processing over the past year, you’ve probably heard of BERT: Bidirectional Encoder Representations from Transformers. It’s a neural network architecture designed by Google researchers that’s totally transformed what’s state-of-the-art for NLP tasks, like text classification, translation, summarization, and question answering.\n",
        "\n",
        "Now that BERT's been added to [TF Hub](https://www.tensorflow.org/hub) as a loadable module, it's easy(ish) to add into existing Tensorflow text pipelines. In an existing pipeline, BERT can replace text embedding layers like ELMO and GloVE. Alternatively, [finetuning](http://wiki.fast.ai/index.php/Fine_tuning) BERT can provide both an accuracy boost and faster training time in many cases.\n",
        "\n",
        "Here, we'll train a model to predict whether an IMDB movie review is positive or negative using BERT in Tensorflow with tf hub. Some code was adapted from [this colab notebook](https://colab.sandbox.google.com/github/tensorflow/tpu/blob/master/tools/colab/bert_finetuning_with_cloud_tpus.ipynb). Let's get started!"
      ]
    },
    {
      "cell_type": "code",
      "metadata": {
        "id": "hsZvic2YxnTz",
        "colab_type": "code",
        "colab": {}
      },
      "source": [
        "from sklearn.model_selection import train_test_split\n",
        "import pandas as pd\n",
        "import tensorflow as tf\n",
        "import tensorflow_hub as hub\n",
        "from datetime import datetime"
      ],
      "execution_count": 0,
      "outputs": []
    },
    {
      "cell_type": "markdown",
      "metadata": {
        "id": "cp5wfXDx5SPH",
        "colab_type": "text"
      },
      "source": [
        "In addition to the standard libraries we imported above, we'll need to install BERT's python package."
      ]
    },
    {
      "cell_type": "code",
      "metadata": {
        "id": "jviywGyWyKsA",
        "colab_type": "code",
        "outputId": "002619b1-e33d-4049-b8ea-1ef3dbfefa5d",
        "colab": {
          "base_uri": "https://localhost:8080/",
          "height": 52
        }
      },
      "source": [
        "!pip install bert-tensorflow"
      ],
      "execution_count": 0,
      "outputs": [
        {
          "output_type": "stream",
          "text": [
            "Requirement already satisfied: bert-tensorflow in /usr/local/lib/python3.6/dist-packages (1.0.1)\n",
            "Requirement already satisfied: six in /usr/local/lib/python3.6/dist-packages (from bert-tensorflow) (1.12.0)\n"
          ],
          "name": "stdout"
        }
      ]
    },
    {
      "cell_type": "code",
      "metadata": {
        "id": "hhbGEfwgdEtw",
        "colab_type": "code",
        "outputId": "959535cf-61c3-4eda-ac56-49146a9ee5e4",
        "colab": {
          "base_uri": "https://localhost:8080/",
          "height": 90
        }
      },
      "source": [
        "import bert\n",
        "from bert import run_classifier\n",
        "from bert import optimization\n",
        "from bert import tokenization"
      ],
      "execution_count": 0,
      "outputs": [
        {
          "output_type": "stream",
          "text": [
            "WARNING: Logging before flag parsing goes to stderr.\n",
            "W0830 09:05:12.363616 140132637837184 deprecation_wrapper.py:119] From /usr/local/lib/python3.6/dist-packages/bert/optimization.py:87: The name tf.train.Optimizer is deprecated. Please use tf.compat.v1.train.Optimizer instead.\n",
            "\n"
          ],
          "name": "stderr"
        }
      ]
    },
    {
      "cell_type": "markdown",
      "metadata": {
        "id": "KVB3eOcjxxm1",
        "colab_type": "text"
      },
      "source": [
        "Below, we'll set an output directory location to store our model output and checkpoints. This can be a local directory, in which case you'd set OUTPUT_DIR to the name of the directory you'd like to create. If you're running this code in Google's hosted Colab, the directory won't persist after the Colab session ends.\n",
        "\n",
        "Alternatively, if you're a GCP user, you can store output in a GCP bucket. To do that, set a directory name in OUTPUT_DIR and the name of the GCP bucket in the BUCKET field.\n",
        "\n",
        "Set DO_DELETE to rewrite the OUTPUT_DIR if it exists. Otherwise, Tensorflow will load existing model checkpoints from that directory (if they exist)."
      ]
    },
    {
      "cell_type": "code",
      "metadata": {
        "id": "US_EAnICvP7f",
        "colab_type": "code",
        "outputId": "8fabe5d2-63c0-408d-af91-5072f182970f",
        "cellView": "form",
        "colab": {
          "base_uri": "https://localhost:8080/",
          "height": 34
        }
      },
      "source": [
        "# Set the output directory for saving model file\n",
        "# Optionally, set a GCP bucket location\n",
        "\n",
        "OUTPUT_DIR = 'OUTPUT_DIR_NAME'#@param {type:\"string\"}\n",
        "#@markdown Whether or not to clear/delete the directory and create a new one\n",
        "DO_DELETE = False #@param {type:\"boolean\"}\n",
        "#@markdown Set USE_BUCKET and BUCKET if you want to (optionally) store model output on GCP bucket.\n",
        "USE_BUCKET = True #@param {type:\"boolean\"}\n",
        "BUCKET = 'radhikas_buck' #@param {type:\"string\"}\n",
        "\n",
        "if USE_BUCKET:\n",
        "  OUTPUT_DIR = 'gs://{}/{}'.format(BUCKET, OUTPUT_DIR)\n",
        "  from google.colab import auth\n",
        "  auth.authenticate_user()\n",
        "\n",
        "if DO_DELETE:\n",
        "  try:\n",
        "    tf.gfile.DeleteRecursively(OUTPUT_DIR)\n",
        "  except:\n",
        "    # Doesn't matter if the directory didn't exist\n",
        "    pass\n",
        "tf.gfile.MakeDirs(OUTPUT_DIR)\n",
        "print('***** Model output directory: {} *****'.format(OUTPUT_DIR))\n"
      ],
      "execution_count": 0,
      "outputs": [
        {
          "output_type": "stream",
          "text": [
            "***** Model output directory: gs://radhikas_buck/OUTPUT_DIR_NAME *****\n"
          ],
          "name": "stdout"
        }
      ]
    },
    {
      "cell_type": "markdown",
      "metadata": {
        "id": "pmFYvkylMwXn",
        "colab_type": "text"
      },
      "source": [
        "#Data"
      ]
    },
    {
      "cell_type": "code",
      "metadata": {
        "id": "XdQ8QgS54hrF",
        "colab_type": "code",
        "outputId": "b6abd8dd-4e77-4770-b36f-88206b4c8654",
        "colab": {
          "base_uri": "https://localhost:8080/",
          "height": 34
        }
      },
      "source": [
        "from google.colab import drive\n",
        "drive.mount('/content/gdrive')"
      ],
      "execution_count": 0,
      "outputs": [
        {
          "output_type": "stream",
          "text": [
            "Drive already mounted at /content/gdrive; to attempt to forcibly remount, call drive.mount(\"/content/gdrive\", force_remount=True).\n"
          ],
          "name": "stdout"
        }
      ]
    },
    {
      "cell_type": "code",
      "metadata": {
        "id": "7Y0PbtAs4hzz",
        "colab_type": "code",
        "outputId": "3373227b-328d-483a-adf5-e6b409c42b8a",
        "colab": {
          "base_uri": "https://localhost:8080/",
          "height": 34
        }
      },
      "source": [
        "import pandas as pd \n",
        "root_path = 'gdrive/My Drive/om.csv/'\n",
        "dataF=pd.read_csv('gdrive/My Drive/om.csv')\n",
        "dataF.shape"
      ],
      "execution_count": 0,
      "outputs": [
        {
          "output_type": "execute_result",
          "data": {
            "text/plain": [
              "(5326, 2)"
            ]
          },
          "metadata": {
            "tags": []
          },
          "execution_count": 6
        }
      ]
    },
    {
      "cell_type": "code",
      "metadata": {
        "id": "c_1ZFWTqrsdw",
        "colab_type": "code",
        "outputId": "fc7e0374-db4e-4963-c0a0-8596fafa3785",
        "colab": {
          "base_uri": "https://localhost:8080/",
          "height": 34
        }
      },
      "source": [
        "\n",
        "null_columns=train.columns[train.isnull().any()]\n",
        "null_columns"
      ],
      "execution_count": 0,
      "outputs": [
        {
          "output_type": "execute_result",
          "data": {
            "text/plain": [
              "Index([], dtype='object', name=0)"
            ]
          },
          "metadata": {
            "tags": []
          },
          "execution_count": 87
        }
      ]
    },
    {
      "cell_type": "markdown",
      "metadata": {
        "id": "XA8WHJgzhIZf",
        "colab_type": "text"
      },
      "source": [
        "To keep training fast, we'll take a sample of 5000 train and test examples, respectively."
      ]
    },
    {
      "cell_type": "code",
      "metadata": {
        "id": "7kHjs_ju8Aud",
        "colab_type": "code",
        "colab": {}
      },
      "source": [
        "raw_data=dataF.set_index('text').dialog_acts.str.split(',\\s*', expand=True).stack().reset_index().pivot_table(index=['text'], columns=0, fill_value='0', aggfunc='size')\n",
        "\n",
        "raw_data=raw_data.reset_index()"
      ],
      "execution_count": 0,
      "outputs": []
    },
    {
      "cell_type": "code",
      "metadata": {
        "id": "8t11emxo8Axx",
        "colab_type": "code",
        "colab": {}
      },
      "source": [
        "# raw_data.head(50)\n",
        "\n",
        "#contains the soft labels of the LR classifier as well top 1200 are correctly hand labelled"
      ],
      "execution_count": 0,
      "outputs": []
    },
    {
      "cell_type": "code",
      "metadata": {
        "id": "VADyfbdxXtbe",
        "colab_type": "code",
        "outputId": "9cb96afb-f579-49e7-a1cf-b17d6a263b80",
        "colab": {
          "base_uri": "https://localhost:8080/",
          "height": 351
        }
      },
      "source": [
        "categories = list(raw_data.columns.values)\n",
        "#values = dataFas.dialog_acts.unique().tolist()\n",
        "\n",
        "categories=categories[2:]\n",
        "categories"
      ],
      "execution_count": 0,
      "outputs": [
        {
          "output_type": "execute_result",
          "data": {
            "text/plain": [
              "['answer_no',\n",
              " 'answer_response_ack',\n",
              " 'answer_yes',\n",
              " 'greeting_closing',\n",
              " 'greeting_opening',\n",
              " 'question_open',\n",
              " 'question_wh',\n",
              " 'question_yesno',\n",
              " 'request_help',\n",
              " 'request_info',\n",
              " 'social_act_apology',\n",
              " 'social_act_thanks',\n",
              " 'statement_complaint',\n",
              " 'statement_exp_negative',\n",
              " 'statement_exp_positive',\n",
              " 'statement_info',\n",
              " 'statement_offerHelp',\n",
              " 'statement_other',\n",
              " 'statement_suggestAction']"
            ]
          },
          "metadata": {
            "tags": []
          },
          "execution_count": 8
        }
      ]
    },
    {
      "cell_type": "code",
      "metadata": {
        "id": "mfbZJVhl837o",
        "colab_type": "code",
        "outputId": "534b1f7b-f87e-4bf7-ee9b-b44c0988365d",
        "colab": {
          "base_uri": "https://localhost:8080/",
          "height": 67
        }
      },
      "source": [
        "raw_data[raw_data['text']== \" \"]"
      ],
      "execution_count": 0,
      "outputs": [
        {
          "output_type": "execute_result",
          "data": {
            "text/html": [
              "<div>\n",
              "<style scoped>\n",
              "    .dataframe tbody tr th:only-of-type {\n",
              "        vertical-align: middle;\n",
              "    }\n",
              "\n",
              "    .dataframe tbody tr th {\n",
              "        vertical-align: top;\n",
              "    }\n",
              "\n",
              "    .dataframe thead th {\n",
              "        text-align: right;\n",
              "    }\n",
              "</style>\n",
              "<table border=\"1\" class=\"dataframe\">\n",
              "  <thead>\n",
              "    <tr style=\"text-align: right;\">\n",
              "      <th></th>\n",
              "      <th>text</th>\n",
              "      <th></th>\n",
              "      <th>answer_no</th>\n",
              "      <th>answer_response_ack</th>\n",
              "      <th>answer_yes</th>\n",
              "      <th>greeting_closing</th>\n",
              "      <th>greeting_opening</th>\n",
              "      <th>question_open</th>\n",
              "      <th>question_wh</th>\n",
              "      <th>question_yesno</th>\n",
              "      <th>request_help</th>\n",
              "      <th>request_info</th>\n",
              "      <th>social_act_apology</th>\n",
              "      <th>social_act_thanks</th>\n",
              "      <th>statement_complaint</th>\n",
              "      <th>statement_exp_negative</th>\n",
              "      <th>statement_exp_positive</th>\n",
              "      <th>statement_info</th>\n",
              "      <th>statement_offerHelp</th>\n",
              "      <th>statement_other</th>\n",
              "      <th>statement_suggestAction</th>\n",
              "    </tr>\n",
              "  </thead>\n",
              "  <tbody>\n",
              "  </tbody>\n",
              "</table>\n",
              "</div>"
            ],
            "text/plain": [
              "Empty DataFrame\n",
              "Columns: [text, , answer_no, answer_response_ack, answer_yes, greeting_closing, greeting_opening, question_open, question_wh, question_yesno, request_help, request_info, social_act_apology, social_act_thanks, statement_complaint, statement_exp_negative, statement_exp_positive, statement_info, statement_offerHelp, statement_other, statement_suggestAction]\n",
              "Index: []"
            ]
          },
          "metadata": {
            "tags": []
          },
          "execution_count": 91
        }
      ]
    },
    {
      "cell_type": "code",
      "metadata": {
        "id": "c9oT9FEjrUmP",
        "colab_type": "code",
        "colab": {}
      },
      "source": [
        "raw_data['text']"
      ],
      "execution_count": 0,
      "outputs": []
    },
    {
      "cell_type": "code",
      "metadata": {
        "id": "4i7O7KRxrJ8Q",
        "colab_type": "code",
        "colab": {}
      },
      "source": [
        ""
      ],
      "execution_count": 0,
      "outputs": []
    },
    {
      "cell_type": "markdown",
      "metadata": {
        "id": "sfRnHSz3iSXz",
        "colab_type": "text"
      },
      "source": [
        "For us, our input data is the 'sentence' column and our label is the 'polarity' column (0, 1 for negative and positive, respecitvely)"
      ]
    },
    {
      "cell_type": "code",
      "metadata": {
        "id": "IuMOGwFui4it",
        "colab_type": "code",
        "colab": {}
      },
      "source": [
        "DATA_COLUMN = 'text'\n",
        "LABEL_COLUMN = 'request_info'\n",
        "# label_list is the list of labels, i.e. True, False or 0, 1 or 'dog', 'cat'\n",
        "label_list = [0, 1]"
      ],
      "execution_count": 0,
      "outputs": []
    },
    {
      "cell_type": "code",
      "metadata": {
        "id": "36z9O05IJps6",
        "colab_type": "code",
        "outputId": "4b2badd8-5b75-4283-c8dd-a99e94419c15",
        "colab": {
          "base_uri": "https://localhost:8080/",
          "height": 70
        }
      },
      "source": [
        "raw_data.greeting_closing.value_counts()"
      ],
      "execution_count": 0,
      "outputs": [
        {
          "output_type": "execute_result",
          "data": {
            "text/plain": [
              "0      1236\n",
              "1.0     264\n",
              "Name: greeting_closing, dtype: int64"
            ]
          },
          "metadata": {
            "tags": []
          },
          "execution_count": 97
        }
      ]
    },
    {
      "cell_type": "code",
      "metadata": {
        "id": "xhSIJeA6b6Eu",
        "colab_type": "code",
        "colab": {}
      },
      "source": [
        "raw_data = raw_data.replace({2:1,3:1,7:1,6:1,5:1,4:1,8:1,9:1,10:1,11:1,12:1})"
      ],
      "execution_count": 0,
      "outputs": []
    },
    {
      "cell_type": "code",
      "metadata": {
        "id": "VIO05Ct1vgSF",
        "colab_type": "code",
        "collapsed": true,
        "outputId": "e21c392b-f496-4154-de1d-07e28cbd544a",
        "colab": {
          "base_uri": "https://localhost:8080/",
          "height": 434
        }
      },
      "source": [
        "raw_data.head()"
      ],
      "execution_count": 0,
      "outputs": [
        {
          "output_type": "execute_result",
          "data": {
            "text/html": [
              "<div>\n",
              "<style scoped>\n",
              "    .dataframe tbody tr th:only-of-type {\n",
              "        vertical-align: middle;\n",
              "    }\n",
              "\n",
              "    .dataframe tbody tr th {\n",
              "        vertical-align: top;\n",
              "    }\n",
              "\n",
              "    .dataframe thead th {\n",
              "        text-align: right;\n",
              "    }\n",
              "</style>\n",
              "<table border=\"1\" class=\"dataframe\">\n",
              "  <thead>\n",
              "    <tr style=\"text-align: right;\">\n",
              "      <th></th>\n",
              "      <th>text</th>\n",
              "      <th></th>\n",
              "      <th>answer_no</th>\n",
              "      <th>answer_response_ack</th>\n",
              "      <th>answer_yes</th>\n",
              "      <th>greeting_closing</th>\n",
              "      <th>greeting_opening</th>\n",
              "      <th>question_open</th>\n",
              "      <th>question_wh</th>\n",
              "      <th>question_yesno</th>\n",
              "      <th>request_help</th>\n",
              "      <th>request_info</th>\n",
              "      <th>social_act_apology</th>\n",
              "      <th>social_act_thanks</th>\n",
              "      <th>statement_complaint</th>\n",
              "      <th>statement_exp_negative</th>\n",
              "      <th>statement_exp_positive</th>\n",
              "      <th>statement_info</th>\n",
              "      <th>statement_offerHelp</th>\n",
              "      <th>statement_other</th>\n",
              "      <th>statement_suggestAction</th>\n",
              "    </tr>\n",
              "  </thead>\n",
              "  <tbody>\n",
              "    <tr>\n",
              "      <th>0</th>\n",
              "      <td>&lt;Agent&gt; &lt;link&gt;</td>\n",
              "      <td>0</td>\n",
              "      <td>0</td>\n",
              "      <td>0</td>\n",
              "      <td>0</td>\n",
              "      <td>0</td>\n",
              "      <td>0</td>\n",
              "      <td>0</td>\n",
              "      <td>0</td>\n",
              "      <td>0</td>\n",
              "      <td>0</td>\n",
              "      <td>0</td>\n",
              "      <td>0</td>\n",
              "      <td>0</td>\n",
              "      <td>0</td>\n",
              "      <td>0</td>\n",
              "      <td>0</td>\n",
              "      <td>0</td>\n",
              "      <td>0</td>\n",
              "      <td>1</td>\n",
              "      <td>0</td>\n",
              "    </tr>\n",
              "    <tr>\n",
              "      <th>1</th>\n",
              "      <td>&lt;Agent&gt; I mean, I'd love to hear about the be...</td>\n",
              "      <td>0</td>\n",
              "      <td>0</td>\n",
              "      <td>0</td>\n",
              "      <td>0</td>\n",
              "      <td>0</td>\n",
              "      <td>0</td>\n",
              "      <td>0</td>\n",
              "      <td>0</td>\n",
              "      <td>0</td>\n",
              "      <td>0</td>\n",
              "      <td>0</td>\n",
              "      <td>0</td>\n",
              "      <td>0</td>\n",
              "      <td>0</td>\n",
              "      <td>0</td>\n",
              "      <td>1</td>\n",
              "      <td>0</td>\n",
              "      <td>0</td>\n",
              "      <td>0</td>\n",
              "      <td>0</td>\n",
              "    </tr>\n",
              "    <tr>\n",
              "      <th>2</th>\n",
              "      <td>#AppleWatch #os4.1 has a glitch. November Chal...</td>\n",
              "      <td>0</td>\n",
              "      <td>0</td>\n",
              "      <td>0</td>\n",
              "      <td>0</td>\n",
              "      <td>0</td>\n",
              "      <td>0</td>\n",
              "      <td>0</td>\n",
              "      <td>0</td>\n",
              "      <td>0</td>\n",
              "      <td>0</td>\n",
              "      <td>0</td>\n",
              "      <td>0</td>\n",
              "      <td>0</td>\n",
              "      <td>1</td>\n",
              "      <td>0</td>\n",
              "      <td>0</td>\n",
              "      <td>0</td>\n",
              "      <td>0</td>\n",
              "      <td>0</td>\n",
              "      <td>0</td>\n",
              "    </tr>\n",
              "    <tr>\n",
              "      <th>3</th>\n",
              "      <td>#iphoneissues &lt;Agent&gt; why is my phone recogniz...</td>\n",
              "      <td>0</td>\n",
              "      <td>0</td>\n",
              "      <td>0</td>\n",
              "      <td>0</td>\n",
              "      <td>0</td>\n",
              "      <td>0</td>\n",
              "      <td>0</td>\n",
              "      <td>1</td>\n",
              "      <td>0</td>\n",
              "      <td>0</td>\n",
              "      <td>0</td>\n",
              "      <td>0</td>\n",
              "      <td>0</td>\n",
              "      <td>1</td>\n",
              "      <td>1</td>\n",
              "      <td>0</td>\n",
              "      <td>0</td>\n",
              "      <td>0</td>\n",
              "      <td>0</td>\n",
              "      <td>0</td>\n",
              "    </tr>\n",
              "    <tr>\n",
              "      <th>4</th>\n",
              "      <td>- what is up with the letter “eye” button &lt;Age...</td>\n",
              "      <td>0</td>\n",
              "      <td>0</td>\n",
              "      <td>0</td>\n",
              "      <td>0</td>\n",
              "      <td>0</td>\n",
              "      <td>0</td>\n",
              "      <td>0</td>\n",
              "      <td>1</td>\n",
              "      <td>0</td>\n",
              "      <td>0</td>\n",
              "      <td>0</td>\n",
              "      <td>0</td>\n",
              "      <td>0</td>\n",
              "      <td>1</td>\n",
              "      <td>0</td>\n",
              "      <td>0</td>\n",
              "      <td>0</td>\n",
              "      <td>0</td>\n",
              "      <td>0</td>\n",
              "      <td>0</td>\n",
              "    </tr>\n",
              "  </tbody>\n",
              "</table>\n",
              "</div>"
            ],
            "text/plain": [
              "0                                               text  ... statement_suggestAction\n",
              "0                                     <Agent> <link>  ...                       0\n",
              "1   <Agent> I mean, I'd love to hear about the be...  ...                       0\n",
              "2  #AppleWatch #os4.1 has a glitch. November Chal...  ...                       0\n",
              "3  #iphoneissues <Agent> why is my phone recogniz...  ...                       0\n",
              "4  - what is up with the letter “eye” button <Age...  ...                       0\n",
              "\n",
              "[5 rows x 21 columns]"
            ]
          },
          "metadata": {
            "tags": []
          },
          "execution_count": 118
        }
      ]
    },
    {
      "cell_type": "code",
      "metadata": {
        "id": "dPinXdrSvnp7",
        "colab_type": "code",
        "colab": {}
      },
      "source": [
        "\n",
        "raw_data = raw_data.drop([''] , axis='columns')"
      ],
      "execution_count": 0,
      "outputs": []
    },
    {
      "cell_type": "code",
      "metadata": {
        "id": "k-uwmEDBvGij",
        "colab_type": "code",
        "collapsed": true,
        "outputId": "b5947eeb-4346-4f3f-bff1-d0997adc19c4",
        "colab": {
          "base_uri": "https://localhost:8080/",
          "height": 434
        }
      },
      "source": [
        "raw_data.head()"
      ],
      "execution_count": 0,
      "outputs": [
        {
          "output_type": "execute_result",
          "data": {
            "text/html": [
              "<div>\n",
              "<style scoped>\n",
              "    .dataframe tbody tr th:only-of-type {\n",
              "        vertical-align: middle;\n",
              "    }\n",
              "\n",
              "    .dataframe tbody tr th {\n",
              "        vertical-align: top;\n",
              "    }\n",
              "\n",
              "    .dataframe thead th {\n",
              "        text-align: right;\n",
              "    }\n",
              "</style>\n",
              "<table border=\"1\" class=\"dataframe\">\n",
              "  <thead>\n",
              "    <tr style=\"text-align: right;\">\n",
              "      <th></th>\n",
              "      <th>text</th>\n",
              "      <th>answer_no</th>\n",
              "      <th>answer_response_ack</th>\n",
              "      <th>answer_yes</th>\n",
              "      <th>greeting_closing</th>\n",
              "      <th>greeting_opening</th>\n",
              "      <th>question_open</th>\n",
              "      <th>question_wh</th>\n",
              "      <th>question_yesno</th>\n",
              "      <th>request_help</th>\n",
              "      <th>request_info</th>\n",
              "      <th>social_act_apology</th>\n",
              "      <th>social_act_thanks</th>\n",
              "      <th>statement_complaint</th>\n",
              "      <th>statement_exp_negative</th>\n",
              "      <th>statement_exp_positive</th>\n",
              "      <th>statement_info</th>\n",
              "      <th>statement_offerHelp</th>\n",
              "      <th>statement_other</th>\n",
              "      <th>statement_suggestAction</th>\n",
              "    </tr>\n",
              "  </thead>\n",
              "  <tbody>\n",
              "    <tr>\n",
              "      <th>0</th>\n",
              "      <td>&lt;Agent&gt; &lt;link&gt;</td>\n",
              "      <td>0</td>\n",
              "      <td>0</td>\n",
              "      <td>0</td>\n",
              "      <td>0</td>\n",
              "      <td>0</td>\n",
              "      <td>0</td>\n",
              "      <td>0</td>\n",
              "      <td>0</td>\n",
              "      <td>0</td>\n",
              "      <td>0</td>\n",
              "      <td>0</td>\n",
              "      <td>0</td>\n",
              "      <td>0</td>\n",
              "      <td>0</td>\n",
              "      <td>0</td>\n",
              "      <td>0</td>\n",
              "      <td>0</td>\n",
              "      <td>1</td>\n",
              "      <td>0</td>\n",
              "    </tr>\n",
              "    <tr>\n",
              "      <th>1</th>\n",
              "      <td>&lt;Agent&gt; I mean, I'd love to hear about the be...</td>\n",
              "      <td>0</td>\n",
              "      <td>0</td>\n",
              "      <td>0</td>\n",
              "      <td>0</td>\n",
              "      <td>0</td>\n",
              "      <td>0</td>\n",
              "      <td>0</td>\n",
              "      <td>0</td>\n",
              "      <td>0</td>\n",
              "      <td>0</td>\n",
              "      <td>0</td>\n",
              "      <td>0</td>\n",
              "      <td>0</td>\n",
              "      <td>0</td>\n",
              "      <td>1</td>\n",
              "      <td>0</td>\n",
              "      <td>0</td>\n",
              "      <td>0</td>\n",
              "      <td>0</td>\n",
              "    </tr>\n",
              "    <tr>\n",
              "      <th>2</th>\n",
              "      <td>#AppleWatch #os4.1 has a glitch. November Chal...</td>\n",
              "      <td>0</td>\n",
              "      <td>0</td>\n",
              "      <td>0</td>\n",
              "      <td>0</td>\n",
              "      <td>0</td>\n",
              "      <td>0</td>\n",
              "      <td>0</td>\n",
              "      <td>0</td>\n",
              "      <td>0</td>\n",
              "      <td>0</td>\n",
              "      <td>0</td>\n",
              "      <td>0</td>\n",
              "      <td>1</td>\n",
              "      <td>0</td>\n",
              "      <td>0</td>\n",
              "      <td>0</td>\n",
              "      <td>0</td>\n",
              "      <td>0</td>\n",
              "      <td>0</td>\n",
              "    </tr>\n",
              "    <tr>\n",
              "      <th>3</th>\n",
              "      <td>#iphoneissues &lt;Agent&gt; why is my phone recogniz...</td>\n",
              "      <td>0</td>\n",
              "      <td>0</td>\n",
              "      <td>0</td>\n",
              "      <td>0</td>\n",
              "      <td>0</td>\n",
              "      <td>0</td>\n",
              "      <td>1</td>\n",
              "      <td>0</td>\n",
              "      <td>0</td>\n",
              "      <td>0</td>\n",
              "      <td>0</td>\n",
              "      <td>0</td>\n",
              "      <td>1</td>\n",
              "      <td>1</td>\n",
              "      <td>0</td>\n",
              "      <td>0</td>\n",
              "      <td>0</td>\n",
              "      <td>0</td>\n",
              "      <td>0</td>\n",
              "    </tr>\n",
              "    <tr>\n",
              "      <th>4</th>\n",
              "      <td>- what is up with the letter “eye” button &lt;Age...</td>\n",
              "      <td>0</td>\n",
              "      <td>0</td>\n",
              "      <td>0</td>\n",
              "      <td>0</td>\n",
              "      <td>0</td>\n",
              "      <td>0</td>\n",
              "      <td>1</td>\n",
              "      <td>0</td>\n",
              "      <td>0</td>\n",
              "      <td>0</td>\n",
              "      <td>0</td>\n",
              "      <td>0</td>\n",
              "      <td>1</td>\n",
              "      <td>0</td>\n",
              "      <td>0</td>\n",
              "      <td>0</td>\n",
              "      <td>0</td>\n",
              "      <td>0</td>\n",
              "      <td>0</td>\n",
              "    </tr>\n",
              "  </tbody>\n",
              "</table>\n",
              "</div>"
            ],
            "text/plain": [
              "0                                               text  ... statement_suggestAction\n",
              "0                                     <Agent> <link>  ...                       0\n",
              "1   <Agent> I mean, I'd love to hear about the be...  ...                       0\n",
              "2  #AppleWatch #os4.1 has a glitch. November Chal...  ...                       0\n",
              "3  #iphoneissues <Agent> why is my phone recogniz...  ...                       0\n",
              "4  - what is up with the letter “eye” button <Age...  ...                       0\n",
              "\n",
              "[5 rows x 20 columns]"
            ]
          },
          "metadata": {
            "tags": []
          },
          "execution_count": 12
        }
      ]
    },
    {
      "cell_type": "code",
      "metadata": {
        "id": "_qeRAQknK6mk",
        "colab_type": "code",
        "outputId": "5729ed23-3cdf-4370-e73f-db0f83b3c100",
        "colab": {
          "base_uri": "https://localhost:8080/",
          "height": 67
        }
      },
      "source": [
        "raw_data[raw_data['greeting_closing']==2]"
      ],
      "execution_count": 0,
      "outputs": [
        {
          "output_type": "execute_result",
          "data": {
            "text/html": [
              "<div>\n",
              "<style scoped>\n",
              "    .dataframe tbody tr th:only-of-type {\n",
              "        vertical-align: middle;\n",
              "    }\n",
              "\n",
              "    .dataframe tbody tr th {\n",
              "        vertical-align: top;\n",
              "    }\n",
              "\n",
              "    .dataframe thead th {\n",
              "        text-align: right;\n",
              "    }\n",
              "</style>\n",
              "<table border=\"1\" class=\"dataframe\">\n",
              "  <thead>\n",
              "    <tr style=\"text-align: right;\">\n",
              "      <th></th>\n",
              "      <th>text</th>\n",
              "      <th>answer_no</th>\n",
              "      <th>answer_response_ack</th>\n",
              "      <th>answer_yes</th>\n",
              "      <th>greeting_closing</th>\n",
              "      <th>greeting_opening</th>\n",
              "      <th>question_open</th>\n",
              "      <th>question_wh</th>\n",
              "      <th>question_yesno</th>\n",
              "      <th>request_help</th>\n",
              "      <th>request_info</th>\n",
              "      <th>social_act_apology</th>\n",
              "      <th>social_act_thanks</th>\n",
              "      <th>statement_complaint</th>\n",
              "      <th>statement_exp_negative</th>\n",
              "      <th>statement_exp_positive</th>\n",
              "      <th>statement_info</th>\n",
              "      <th>statement_offerHelp</th>\n",
              "      <th>statement_other</th>\n",
              "      <th>statement_suggestAction</th>\n",
              "    </tr>\n",
              "  </thead>\n",
              "  <tbody>\n",
              "  </tbody>\n",
              "</table>\n",
              "</div>"
            ],
            "text/plain": [
              "Empty DataFrame\n",
              "Columns: [text, answer_no, answer_response_ack, answer_yes, greeting_closing, greeting_opening, question_open, question_wh, question_yesno, request_help, request_info, social_act_apology, social_act_thanks, statement_complaint, statement_exp_negative, statement_exp_positive, statement_info, statement_offerHelp, statement_other, statement_suggestAction]\n",
              "Index: []"
            ]
          },
          "metadata": {
            "tags": []
          },
          "execution_count": 13
        }
      ]
    },
    {
      "cell_type": "code",
      "metadata": {
        "id": "lw_F488eixTV",
        "colab_type": "code",
        "colab": {}
      },
      "source": [
        "train = raw_data.iloc[:840]\n",
        "test = raw_data.iloc[840:1200]"
      ],
      "execution_count": 0,
      "outputs": []
    },
    {
      "cell_type": "code",
      "metadata": {
        "id": "rG8SzHOUeehu",
        "colab_type": "code",
        "outputId": "f59fdccc-f4ca-4035-d73a-c6dd6512fd38",
        "colab": {
          "base_uri": "https://localhost:8080/",
          "height": 70
        }
      },
      "source": [
        "test['greeting_closing'].value_counts()"
      ],
      "execution_count": 0,
      "outputs": [
        {
          "output_type": "execute_result",
          "data": {
            "text/plain": [
              "0      247\n",
              "1.0    113\n",
              "Name: greeting_closing, dtype: int64"
            ]
          },
          "metadata": {
            "tags": []
          },
          "execution_count": 15
        }
      ]
    },
    {
      "cell_type": "markdown",
      "metadata": {
        "id": "V399W0rqNJ-Z",
        "colab_type": "text"
      },
      "source": [
        "#Data Preprocessing\n",
        "We'll need to transform our data into a format BERT understands. This involves two steps. First, we create  `InputExample`'s using the constructor provided in the BERT library.\n",
        "\n",
        "- `text_a` is the text we want to classify, which in this case, is the `Request` field in our Dataframe. \n",
        "- `text_b` is used if we're training a model to understand the relationship between sentences (i.e. is `text_b` a translation of `text_a`? Is `text_b` an answer to the question asked by `text_a`?). This doesn't apply to our task, so we can leave `text_b` blank.\n",
        "- `label` is the label for our example, i.e. True, False"
      ]
    },
    {
      "cell_type": "code",
      "metadata": {
        "id": "p9gEt5SmM6i6",
        "colab_type": "code",
        "colab": {}
      },
      "source": [
        "# Use the InputExample class from BERT's run_classifier code to create examples from the data\n",
        "train_InputExamples = train.apply(lambda x: bert.run_classifier.InputExample(guid=None, # Globally unique ID for bookkeeping, unused in this example\n",
        "                                                                   text_a = x[DATA_COLUMN], \n",
        "                                                                   text_b = None, \n",
        "                                                                   label = x[LABEL_COLUMN]), axis = 1)\n",
        "\n",
        "test_InputExamples = test.apply(lambda x: bert.run_classifier.InputExample(guid=None, \n",
        "                                                                   text_a = x[DATA_COLUMN], \n",
        "                                                                   text_b = None, \n",
        "                                                                   label = x[LABEL_COLUMN]), axis = 1)"
      ],
      "execution_count": 0,
      "outputs": []
    },
    {
      "cell_type": "markdown",
      "metadata": {
        "id": "SCZWZtKxObjh",
        "colab_type": "text"
      },
      "source": [
        "Next, we need to preprocess our data so that it matches the data BERT was trained on. For this, we'll need to do a couple of things (but don't worry--this is also included in the Python library):\n",
        "\n",
        "\n",
        "1. Lowercase our text (if we're using a BERT lowercase model)\n",
        "2. Tokenize it (i.e. \"sally says hi\" -> [\"sally\", \"says\", \"hi\"])\n",
        "3. Break words into WordPieces (i.e. \"calling\" -> [\"call\", \"##ing\"])\n",
        "4. Map our words to indexes using a vocab file that BERT provides\n",
        "5. Add special \"CLS\" and \"SEP\" tokens (see the [readme](https://github.com/google-research/bert))\n",
        "6. Append \"index\" and \"segment\" tokens to each input (see the [BERT paper](https://arxiv.org/pdf/1810.04805.pdf))\n",
        "\n",
        "Happily, we don't have to worry about most of these details.\n",
        "\n",
        "\n"
      ]
    },
    {
      "cell_type": "markdown",
      "metadata": {
        "id": "qMWiDtpyQSoU",
        "colab_type": "text"
      },
      "source": [
        "To start, we'll need to load a vocabulary file and lowercasing information directly from the BERT tf hub module:"
      ]
    },
    {
      "cell_type": "code",
      "metadata": {
        "id": "IhJSe0QHNG7U",
        "colab_type": "code",
        "outputId": "d1d49c15-1e09-4f5c-9ebc-ad943428b9e6",
        "colab": {
          "base_uri": "https://localhost:8080/",
          "height": 72
        }
      },
      "source": [
        "# This is a path to an uncased (all lowercase) version of BERT\n",
        "BERT_MODEL_HUB = \"https://tfhub.dev/google/bert_uncased_L-12_H-768_A-12/1\"\n",
        "\n",
        "def create_tokenizer_from_hub_module():\n",
        "  \"\"\"Get the vocab file and casing info from the Hub module.\"\"\"\n",
        "  with tf.Graph().as_default():\n",
        "    bert_module = hub.Module(BERT_MODEL_HUB)\n",
        "    tokenization_info = bert_module(signature=\"tokenization_info\", as_dict=True)\n",
        "    with tf.Session() as sess:\n",
        "      vocab_file, do_lower_case = sess.run([tokenization_info[\"vocab_file\"],\n",
        "                                            tokenization_info[\"do_lower_case\"]])\n",
        "      \n",
        "  return bert.tokenization.FullTokenizer(\n",
        "      vocab_file=vocab_file, do_lower_case=do_lower_case)\n",
        "\n",
        "tokenizer = create_tokenizer_from_hub_module()"
      ],
      "execution_count": 0,
      "outputs": [
        {
          "output_type": "stream",
          "text": [
            "W0830 09:06:36.973718 140132637837184 deprecation_wrapper.py:119] From /usr/local/lib/python3.6/dist-packages/bert/tokenization.py:125: The name tf.gfile.GFile is deprecated. Please use tf.io.gfile.GFile instead.\n",
            "\n"
          ],
          "name": "stderr"
        }
      ]
    },
    {
      "cell_type": "code",
      "metadata": {
        "id": "wpefe-RBu00C",
        "colab_type": "code",
        "colab": {}
      },
      "source": [
        ""
      ],
      "execution_count": 0,
      "outputs": []
    },
    {
      "cell_type": "markdown",
      "metadata": {
        "id": "z4oFkhpZBDKm",
        "colab_type": "text"
      },
      "source": [
        "Great--we just learned that the BERT model we're using expects lowercase data (that's what stored in tokenization_info[\"do_lower_case\"]) and we also loaded BERT's vocab file. We also created a tokenizer, which breaks words into word pieces:"
      ]
    },
    {
      "cell_type": "code",
      "metadata": {
        "id": "dsBo6RCtQmwx",
        "colab_type": "code",
        "outputId": "addde9c8-40d1-48db-81ec-eda383ef0f0d",
        "colab": {
          "base_uri": "https://localhost:8080/",
          "height": 316
        }
      },
      "source": [
        "tokenizer.tokenize(\"This <here's> an https:// of using the BERT tokenizer\")"
      ],
      "execution_count": 0,
      "outputs": [
        {
          "output_type": "execute_result",
          "data": {
            "text/plain": [
              "['this',\n",
              " '<',\n",
              " 'here',\n",
              " \"'\",\n",
              " 's',\n",
              " '>',\n",
              " 'an',\n",
              " 'https',\n",
              " ':',\n",
              " '/',\n",
              " '/',\n",
              " 'of',\n",
              " 'using',\n",
              " 'the',\n",
              " 'bert',\n",
              " 'token',\n",
              " '##izer']"
            ]
          },
          "metadata": {
            "tags": []
          },
          "execution_count": 19
        }
      ]
    },
    {
      "cell_type": "code",
      "metadata": {
        "id": "41V7rhepwRhg",
        "colab_type": "code",
        "outputId": "79e8faf0-1214-46f9-b6b9-6da4713628cf",
        "colab": {
          "base_uri": "https://localhost:8080/",
          "height": 369
        }
      },
      "source": [
        "categories = list(train.columns.values)\n",
        "#values = dataFas.dialog_acts.unique().tolist()\n",
        "\n",
        "categories=categories\n",
        "categories"
      ],
      "execution_count": 0,
      "outputs": [
        {
          "output_type": "execute_result",
          "data": {
            "text/plain": [
              "['text',\n",
              " 'answer_no',\n",
              " 'answer_response_ack',\n",
              " 'answer_yes',\n",
              " 'greeting_closing',\n",
              " 'greeting_opening',\n",
              " 'question_open',\n",
              " 'question_wh',\n",
              " 'question_yesno',\n",
              " 'request_help',\n",
              " 'request_info',\n",
              " 'social_act_apology',\n",
              " 'social_act_thanks',\n",
              " 'statement_complaint',\n",
              " 'statement_exp_negative',\n",
              " 'statement_exp_positive',\n",
              " 'statement_info',\n",
              " 'statement_offerHelp',\n",
              " 'statement_other',\n",
              " 'statement_suggestAction']"
            ]
          },
          "metadata": {
            "tags": []
          },
          "execution_count": 20
        }
      ]
    },
    {
      "cell_type": "markdown",
      "metadata": {
        "id": "0OEzfFIt6GIc",
        "colab_type": "text"
      },
      "source": [
        "Using our tokenizer, we'll call `run_classifier.convert_examples_to_features` on our InputExamples to convert them into features BERT understands."
      ]
    },
    {
      "cell_type": "code",
      "metadata": {
        "id": "LL5W8gEGRTAf",
        "colab_type": "code",
        "outputId": "03434e7f-370a-4613-ad30-cf6d72babca1",
        "colab": {
          "base_uri": "https://localhost:8080/",
          "height": 422
        }
      },
      "source": [
        "# We'll set sequences to be at most 128 tokens long.\n",
        "MAX_SEQ_LENGTH = 128\n",
        "# Convert our train and test features to InputFeatures that BERT understands.\n",
        "train_features = bert.run_classifier.convert_examples_to_features(train_InputExamples, label_list, MAX_SEQ_LENGTH, tokenizer)\n",
        "test_features = bert.run_classifier.convert_examples_to_features(test_InputExamples, label_list, MAX_SEQ_LENGTH, tokenizer)"
      ],
      "execution_count": 0,
      "outputs": [
        {
          "output_type": "stream",
          "text": [
            "W0830 09:06:40.930738 140132637837184 deprecation_wrapper.py:119] From /usr/local/lib/python3.6/dist-packages/bert/run_classifier.py:774: The name tf.logging.info is deprecated. Please use tf.compat.v1.logging.info instead.\n",
            "\n"
          ],
          "name": "stderr"
        },
        {
          "output_type": "error",
          "ename": "KeyError",
          "evalue": "ignored",
          "traceback": [
            "\u001b[0;31m---------------------------------------------------------------------------\u001b[0m",
            "\u001b[0;31mKeyError\u001b[0m                                  Traceback (most recent call last)",
            "\u001b[0;32m<ipython-input-21-5f2299273785>\u001b[0m in \u001b[0;36m<module>\u001b[0;34m()\u001b[0m\n\u001b[1;32m      1\u001b[0m \u001b[0mMAX_SEQ_LENGTH\u001b[0m \u001b[0;34m=\u001b[0m \u001b[0;36m128\u001b[0m\u001b[0;34m\u001b[0m\u001b[0;34m\u001b[0m\u001b[0m\n\u001b[1;32m      2\u001b[0m \u001b[0;31m# Convert our train and test features to InputFeatures that BERT understands.\u001b[0m\u001b[0;34m\u001b[0m\u001b[0;34m\u001b[0m\u001b[0;34m\u001b[0m\u001b[0m\n\u001b[0;32m----> 3\u001b[0;31m \u001b[0mtrain_features\u001b[0m \u001b[0;34m=\u001b[0m \u001b[0mbert\u001b[0m\u001b[0;34m.\u001b[0m\u001b[0mrun_classifier\u001b[0m\u001b[0;34m.\u001b[0m\u001b[0mconvert_examples_to_features\u001b[0m\u001b[0;34m(\u001b[0m\u001b[0mtrain_InputExamples\u001b[0m\u001b[0;34m,\u001b[0m \u001b[0mlabel_list\u001b[0m\u001b[0;34m,\u001b[0m \u001b[0mMAX_SEQ_LENGTH\u001b[0m\u001b[0;34m,\u001b[0m \u001b[0mtokenizer\u001b[0m\u001b[0;34m)\u001b[0m\u001b[0;34m\u001b[0m\u001b[0;34m\u001b[0m\u001b[0m\n\u001b[0m\u001b[1;32m      4\u001b[0m \u001b[0mtest_features\u001b[0m \u001b[0;34m=\u001b[0m \u001b[0mbert\u001b[0m\u001b[0;34m.\u001b[0m\u001b[0mrun_classifier\u001b[0m\u001b[0;34m.\u001b[0m\u001b[0mconvert_examples_to_features\u001b[0m\u001b[0;34m(\u001b[0m\u001b[0mtest_InputExamples\u001b[0m\u001b[0;34m,\u001b[0m \u001b[0mlabel_list\u001b[0m\u001b[0;34m,\u001b[0m \u001b[0mMAX_SEQ_LENGTH\u001b[0m\u001b[0;34m,\u001b[0m \u001b[0mtokenizer\u001b[0m\u001b[0;34m)\u001b[0m\u001b[0;34m\u001b[0m\u001b[0;34m\u001b[0m\u001b[0m\n",
            "\u001b[0;32m/usr/local/lib/python3.6/dist-packages/bert/run_classifier.py\u001b[0m in \u001b[0;36mconvert_examples_to_features\u001b[0;34m(examples, label_list, max_seq_length, tokenizer)\u001b[0m\n\u001b[1;32m    775\u001b[0m \u001b[0;34m\u001b[0m\u001b[0m\n\u001b[1;32m    776\u001b[0m     feature = convert_single_example(ex_index, example, label_list,\n\u001b[0;32m--> 777\u001b[0;31m                                      max_seq_length, tokenizer)\n\u001b[0m\u001b[1;32m    778\u001b[0m \u001b[0;34m\u001b[0m\u001b[0m\n\u001b[1;32m    779\u001b[0m     \u001b[0mfeatures\u001b[0m\u001b[0;34m.\u001b[0m\u001b[0mappend\u001b[0m\u001b[0;34m(\u001b[0m\u001b[0mfeature\u001b[0m\u001b[0;34m)\u001b[0m\u001b[0;34m\u001b[0m\u001b[0;34m\u001b[0m\u001b[0m\n",
            "\u001b[0;32m/usr/local/lib/python3.6/dist-packages/bert/run_classifier.py\u001b[0m in \u001b[0;36mconvert_single_example\u001b[0;34m(ex_index, example, label_list, max_seq_length, tokenizer)\u001b[0m\n\u001b[1;32m    457\u001b[0m   \u001b[0;32massert\u001b[0m \u001b[0mlen\u001b[0m\u001b[0;34m(\u001b[0m\u001b[0msegment_ids\u001b[0m\u001b[0;34m)\u001b[0m \u001b[0;34m==\u001b[0m \u001b[0mmax_seq_length\u001b[0m\u001b[0;34m\u001b[0m\u001b[0;34m\u001b[0m\u001b[0m\n\u001b[1;32m    458\u001b[0m \u001b[0;34m\u001b[0m\u001b[0m\n\u001b[0;32m--> 459\u001b[0;31m   \u001b[0mlabel_id\u001b[0m \u001b[0;34m=\u001b[0m \u001b[0mlabel_map\u001b[0m\u001b[0;34m[\u001b[0m\u001b[0mexample\u001b[0m\u001b[0;34m.\u001b[0m\u001b[0mlabel\u001b[0m\u001b[0;34m]\u001b[0m\u001b[0;34m\u001b[0m\u001b[0;34m\u001b[0m\u001b[0m\n\u001b[0m\u001b[1;32m    460\u001b[0m   \u001b[0;32mif\u001b[0m \u001b[0mex_index\u001b[0m \u001b[0;34m<\u001b[0m \u001b[0;36m5\u001b[0m\u001b[0;34m:\u001b[0m\u001b[0;34m\u001b[0m\u001b[0;34m\u001b[0m\u001b[0m\n\u001b[1;32m    461\u001b[0m     \u001b[0mtf\u001b[0m\u001b[0;34m.\u001b[0m\u001b[0mlogging\u001b[0m\u001b[0;34m.\u001b[0m\u001b[0minfo\u001b[0m\u001b[0;34m(\u001b[0m\u001b[0;34m\"*** Example ***\"\u001b[0m\u001b[0;34m)\u001b[0m\u001b[0;34m\u001b[0m\u001b[0;34m\u001b[0m\u001b[0m\n",
            "\u001b[0;31mKeyError\u001b[0m: '0'"
          ]
        }
      ]
    },
    {
      "cell_type": "markdown",
      "metadata": {
        "id": "ccp5trMwRtmr",
        "colab_type": "text"
      },
      "source": [
        "#Creating a model\n",
        "\n",
        "Now that we've prepared our data, let's focus on building a model. `create_model` does just this below. First, it loads the BERT tf hub module again (this time to extract the computation graph). Next, it creates a single new layer that will be trained to adapt BERT to our sentiment task (i.e. classifying whether a movie review is positive or negative). This strategy of using a mostly trained model is called [fine-tuning](http://wiki.fast.ai/index.php/Fine_tuning)."
      ]
    },
    {
      "cell_type": "code",
      "metadata": {
        "id": "6o2a5ZIvRcJq",
        "colab_type": "code",
        "colab": {}
      },
      "source": [
        "def create_model(is_predicting, input_ids, input_mask, segment_ids, labels,\n",
        "                 num_labels):\n",
        "  \"\"\"Creates a classification model.\"\"\"\n",
        "\n",
        "  bert_module = hub.Module(\n",
        "      BERT_MODEL_HUB,\n",
        "      trainable=True)\n",
        "  bert_inputs = dict(\n",
        "      input_ids=input_ids,\n",
        "      input_mask=input_mask,\n",
        "      segment_ids=segment_ids)\n",
        "  bert_outputs = bert_module(\n",
        "      inputs=bert_inputs,\n",
        "      signature=\"tokens\",\n",
        "      as_dict=True)\n",
        "\n",
        "  # Use \"pooled_output\" for classification tasks on an entire sentence.\n",
        "  # Use \"sequence_outputs\" for token-level output.\n",
        "  output_layer = bert_outputs[\"pooled_output\"]\n",
        "\n",
        "  hidden_size = output_layer.shape[-1].value\n",
        "\n",
        "  # Create our own layer to tune for politeness data.\n",
        "  output_weights = tf.get_variable(\n",
        "      \"output_weights\", [num_labels, hidden_size],\n",
        "      initializer=tf.truncated_normal_initializer(stddev=0.02))\n",
        "\n",
        "  output_bias = tf.get_variable(\n",
        "      \"output_bias\", [num_labels], initializer=tf.zeros_initializer())\n",
        "\n",
        "  with tf.variable_scope(\"loss\"):\n",
        "\n",
        "    # Dropout helps prevent overfitting\n",
        "    output_layer = tf.nn.dropout(output_layer, keep_prob=0.9)\n",
        "\n",
        "    logits = tf.matmul(output_layer, output_weights, transpose_b=True)\n",
        "    logits = tf.nn.bias_add(logits, output_bias)\n",
        "    log_probs = tf.nn.log_softmax(logits, axis=-1)\n",
        "\n",
        "    # Convert labels into one-hot encoding\n",
        "    one_hot_labels = tf.one_hot(labels, depth=num_labels, dtype=tf.float32)\n",
        "\n",
        "    predicted_labels = tf.squeeze(tf.argmax(log_probs, axis=-1, output_type=tf.int32))\n",
        "    # If we're predicting, we want predicted labels and the probabiltiies.\n",
        "    if is_predicting:\n",
        "      return (predicted_labels, log_probs)\n",
        "\n",
        "    # If we're train/eval, compute loss between predicted and actual label\n",
        "    per_example_loss = -tf.reduce_sum(one_hot_labels * log_probs, axis=-1)\n",
        "    loss = tf.reduce_mean(per_example_loss)\n",
        "    return (loss, predicted_labels, log_probs)\n"
      ],
      "execution_count": 0,
      "outputs": []
    },
    {
      "cell_type": "markdown",
      "metadata": {
        "id": "qpE0ZIDOCQzE",
        "colab_type": "text"
      },
      "source": [
        "Next we'll wrap our model function in a `model_fn_builder` function that adapts our model to work for training, evaluation, and prediction."
      ]
    },
    {
      "cell_type": "code",
      "metadata": {
        "id": "FnH-AnOQ9KKW",
        "colab_type": "code",
        "colab": {}
      },
      "source": [
        "# model_fn_builder actually creates our model function\n",
        "# using the passed parameters for num_labels, learning_rate, etc.\n",
        "def model_fn_builder(num_labels, learning_rate, num_train_steps,\n",
        "                     num_warmup_steps):\n",
        "  \"\"\"Returns `model_fn` closure for TPUEstimator.\"\"\"\n",
        "  def model_fn(features, labels, mode, params):  # pylint: disable=unused-argument\n",
        "    \"\"\"The `model_fn` for TPUEstimator.\"\"\"\n",
        "\n",
        "    input_ids = features[\"input_ids\"]\n",
        "    input_mask = features[\"input_mask\"]\n",
        "    segment_ids = features[\"segment_ids\"]\n",
        "    label_ids = features[\"label_ids\"]\n",
        "\n",
        "    is_predicting = (mode == tf.estimator.ModeKeys.PREDICT)\n",
        "    \n",
        "    # TRAIN and EVAL\n",
        "    if not is_predicting:\n",
        "\n",
        "      (loss, predicted_labels, log_probs) = create_model(\n",
        "        is_predicting, input_ids, input_mask, segment_ids, label_ids, num_labels)\n",
        "\n",
        "      train_op = bert.optimization.create_optimizer(\n",
        "          loss, learning_rate, num_train_steps, num_warmup_steps, use_tpu=False)\n",
        "\n",
        "      # Calculate evaluation metrics. \n",
        "      def metric_fn(label_ids, predicted_labels):\n",
        "        accuracy = tf.metrics.accuracy(label_ids, predicted_labels)\n",
        "        f1_score = tf.contrib.metrics.f1_score(\n",
        "            label_ids,\n",
        "            predicted_labels)\n",
        "        auc = tf.metrics.auc(\n",
        "            label_ids,\n",
        "            predicted_labels)\n",
        "        recall = tf.metrics.recall(\n",
        "            label_ids,\n",
        "            predicted_labels)\n",
        "        precision = tf.metrics.precision(\n",
        "            label_ids,\n",
        "            predicted_labels) \n",
        "        true_pos = tf.metrics.true_positives(\n",
        "            label_ids,\n",
        "            predicted_labels)\n",
        "        true_neg = tf.metrics.true_negatives(\n",
        "            label_ids,\n",
        "            predicted_labels)   \n",
        "        false_pos = tf.metrics.false_positives(\n",
        "            label_ids,\n",
        "            predicted_labels)  \n",
        "        false_neg = tf.metrics.false_negatives(\n",
        "            label_ids,\n",
        "            predicted_labels)\n",
        "        return {\n",
        "            \"eval_accuracy\": accuracy,\n",
        "            \"f1_score\": f1_score,\n",
        "            \"auc\": auc,\n",
        "            \"precision\": precision,\n",
        "            \"recall\": recall,\n",
        "            \"true_positives\": true_pos,\n",
        "            \"true_negatives\": true_neg,\n",
        "            \"false_positives\": false_pos,\n",
        "            \"false_negatives\": false_neg\n",
        "        }\n",
        "\n",
        "      eval_metrics = metric_fn(label_ids, predicted_labels)\n",
        "\n",
        "      if mode == tf.estimator.ModeKeys.TRAIN:\n",
        "        return tf.estimator.EstimatorSpec(mode=mode,\n",
        "          loss=loss,\n",
        "          train_op=train_op)\n",
        "      else:\n",
        "          return tf.estimator.EstimatorSpec(mode=mode,\n",
        "            loss=loss,\n",
        "            eval_metric_ops=eval_metrics)\n",
        "    else:\n",
        "      (predicted_labels, log_probs) = create_model(\n",
        "        is_predicting, input_ids, input_mask, segment_ids, label_ids, num_labels)\n",
        "\n",
        "      predictions = {\n",
        "          'probabilities': log_probs,\n",
        "          'labels': predicted_labels\n",
        "      }\n",
        "      return tf.estimator.EstimatorSpec(mode, predictions=predictions)\n",
        "\n",
        "  # Return the actual model function in the closure\n",
        "  return model_fn\n"
      ],
      "execution_count": 0,
      "outputs": []
    },
    {
      "cell_type": "code",
      "metadata": {
        "id": "OjwJ4bTeWXD8",
        "colab_type": "code",
        "colab": {}
      },
      "source": [
        "# Compute train and warmup steps from batch size\n",
        "# These hyperparameters are copied from this colab notebook (https://colab.sandbox.google.com/github/tensorflow/tpu/blob/master/tools/colab/bert_finetuning_with_cloud_tpus.ipynb)\n",
        "BATCH_SIZE = 32\n",
        "LEARNING_RATE = 2e-5\n",
        "NUM_TRAIN_EPOCHS = 3.0\n",
        "# Warmup is a period of time where hte learning rate \n",
        "# is small and gradually increases--usually helps training.\n",
        "WARMUP_PROPORTION = 0.1\n",
        "# Model configs\n",
        "SAVE_CHECKPOINTS_STEPS = 500\n",
        "SAVE_SUMMARY_STEPS = 100"
      ],
      "execution_count": 0,
      "outputs": []
    },
    {
      "cell_type": "code",
      "metadata": {
        "id": "emHf9GhfWBZ_",
        "colab_type": "code",
        "colab": {}
      },
      "source": [
        "# Compute # train and warmup steps from batch size\n",
        "num_train_steps = int(len(train_features) / BATCH_SIZE * NUM_TRAIN_EPOCHS)\n",
        "num_warmup_steps = int(num_train_steps * WARMUP_PROPORTION)"
      ],
      "execution_count": 0,
      "outputs": []
    },
    {
      "cell_type": "code",
      "metadata": {
        "id": "oEJldMr3WYZa",
        "colab_type": "code",
        "colab": {}
      },
      "source": [
        "# Specify outpit directory and number of checkpoint steps to save\n",
        "run_config = tf.estimator.RunConfig(\n",
        "    model_dir=OUTPUT_DIR,\n",
        "    save_summary_steps=SAVE_SUMMARY_STEPS,\n",
        "    save_checkpoints_steps=SAVE_CHECKPOINTS_STEPS)"
      ],
      "execution_count": 0,
      "outputs": []
    },
    {
      "cell_type": "code",
      "metadata": {
        "id": "q_WebpS1X97v",
        "colab_type": "code",
        "colab": {}
      },
      "source": [
        "model_fn = model_fn_builder(\n",
        "  num_labels=len(label_list),\n",
        "  learning_rate=LEARNING_RATE,\n",
        "  num_train_steps=num_train_steps,\n",
        "  num_warmup_steps=num_warmup_steps)\n",
        "\n",
        "estimator = tf.estimator.Estimator(\n",
        "  model_fn=model_fn,\n",
        "  config=run_config,\n",
        "  params={\"batch_size\": BATCH_SIZE})\n"
      ],
      "execution_count": 0,
      "outputs": []
    },
    {
      "cell_type": "markdown",
      "metadata": {
        "id": "NOO3RfG1DYLo",
        "colab_type": "text"
      },
      "source": [
        "Next we create an input builder function that takes our training feature set (`train_features`) and produces a generator. This is a pretty standard design pattern for working with Tensorflow [Estimators](https://www.tensorflow.org/guide/estimators)."
      ]
    },
    {
      "cell_type": "code",
      "metadata": {
        "id": "1Pv2bAlOX_-K",
        "colab_type": "code",
        "colab": {}
      },
      "source": [
        "# Create an input function for training. drop_remainder = True for using TPUs.\n",
        "train_input_fn = bert.run_classifier.input_fn_builder(\n",
        "    features=train_features,\n",
        "    seq_length=MAX_SEQ_LENGTH,\n",
        "    is_training=True,\n",
        "    drop_remainder=False)"
      ],
      "execution_count": 0,
      "outputs": []
    },
    {
      "cell_type": "markdown",
      "metadata": {
        "id": "t6Nukby2EB6-",
        "colab_type": "text"
      },
      "source": [
        "Now we train our model! For me, using a Colab notebook running on Google's GPUs, my training time was about 14 minutes."
      ]
    },
    {
      "cell_type": "code",
      "metadata": {
        "id": "nucD4gluYJmK",
        "colab_type": "code",
        "outputId": "22171d31-aae5-4e3f-9874-57ebad17017f",
        "colab": {
          "base_uri": "https://localhost:8080/",
          "height": 107
        }
      },
      "source": [
        "print(f'Beginning Training!')\n",
        "current_time = datetime.now()\n",
        "estimator.train(input_fn=train_input_fn, max_steps=num_train_steps)\n",
        "print(\"Training took time \", datetime.now() - current_time)"
      ],
      "execution_count": 0,
      "outputs": [
        {
          "output_type": "stream",
          "text": [
            "Beginning Training!\n"
          ],
          "name": "stdout"
        },
        {
          "output_type": "stream",
          "text": [
            "/usr/local/lib/python3.6/dist-packages/tensorflow/python/ops/gradients_util.py:93: UserWarning: Converting sparse IndexedSlices to a dense Tensor of unknown shape. This may consume a large amount of memory.\n",
            "  \"Converting sparse IndexedSlices to a dense Tensor of unknown shape. \"\n"
          ],
          "name": "stderr"
        },
        {
          "output_type": "stream",
          "text": [
            "Training took time  0:04:09.246655\n"
          ],
          "name": "stdout"
        }
      ]
    },
    {
      "cell_type": "markdown",
      "metadata": {
        "id": "CmbLTVniARy3",
        "colab_type": "text"
      },
      "source": [
        "Now let's use our test data to see how well our model did:"
      ]
    },
    {
      "cell_type": "code",
      "metadata": {
        "id": "JIhejfpyJ8Bx",
        "colab_type": "code",
        "colab": {}
      },
      "source": [
        "test_input_fn = run_classifier.input_fn_builder(\n",
        "    features=test_features,\n",
        "    seq_length=MAX_SEQ_LENGTH,\n",
        "    is_training=False,\n",
        "    drop_remainder=False)"
      ],
      "execution_count": 0,
      "outputs": []
    },
    {
      "cell_type": "code",
      "metadata": {
        "id": "PPVEXhNjYXC-",
        "colab_type": "code",
        "outputId": "c9718418-1d71-41ff-9ae4-1d7140f76349",
        "colab": {
          "base_uri": "https://localhost:8080/",
          "height": 266
        }
      },
      "source": [
        "estimator.evaluate(input_fn=test_input_fn, steps=None)"
      ],
      "execution_count": 0,
      "outputs": [
        {
          "output_type": "stream",
          "text": [
            "/usr/local/lib/python3.6/dist-packages/tensorflow/python/ops/gradients_util.py:93: UserWarning: Converting sparse IndexedSlices to a dense Tensor of unknown shape. This may consume a large amount of memory.\n",
            "  \"Converting sparse IndexedSlices to a dense Tensor of unknown shape. \"\n"
          ],
          "name": "stderr"
        },
        {
          "output_type": "execute_result",
          "data": {
            "text/plain": [
              "{'auc': 0.840148,\n",
              " 'eval_accuracy': 0.8527778,\n",
              " 'f1_score': 0.8781609,\n",
              " 'false_negatives': 8.0,\n",
              " 'false_positives': 45.0,\n",
              " 'global_step': 78,\n",
              " 'loss': 0.37431967,\n",
              " 'precision': 0.80932206,\n",
              " 'recall': 0.959799,\n",
              " 'true_negatives': 116.0,\n",
              " 'true_positives': 191.0}"
            ]
          },
          "metadata": {
            "tags": []
          },
          "execution_count": 98
        }
      ]
    },
    {
      "cell_type": "markdown",
      "metadata": {
        "id": "ueKsULteiz1B",
        "colab_type": "text"
      },
      "source": [
        "Now let's write code to make predictions on new sentences:"
      ]
    },
    {
      "cell_type": "code",
      "metadata": {
        "id": "OsrbTD2EJTVl",
        "colab_type": "code",
        "colab": {}
      },
      "source": [
        "def getPrediction(in_sentences):\n",
        "  labels = [\"not suggestAction\", \"suggestAction\"]\n",
        "  input_examples = [run_classifier.InputExample(guid=\"\", text_a = x, text_b = None, label = 0) for x in in_sentences] # here, \"\" is just a dummy label\n",
        "  input_features = run_classifier.convert_examples_to_features(input_examples, label_list, MAX_SEQ_LENGTH, tokenizer)\n",
        "  predict_input_fn = run_classifier.input_fn_builder(features=input_features, seq_length=MAX_SEQ_LENGTH, is_training=False, drop_remainder=False)\n",
        "  predictions = estimator.predict(predict_input_fn)\n",
        "  return [(sentence, labels[prediction['labels']]) for sentence, prediction in zip(in_sentences, predictions)]"
      ],
      "execution_count": 0,
      "outputs": []
    },
    {
      "cell_type": "code",
      "metadata": {
        "id": "CJKCioVChCt8",
        "colab_type": "code",
        "colab": {}
      },
      "source": [
        "# train.text"
      ],
      "execution_count": 0,
      "outputs": []
    },
    {
      "cell_type": "code",
      "metadata": {
        "id": "-thbodgih_VJ",
        "colab_type": "code",
        "colab": {}
      },
      "source": [
        "pred_sentences = test.text.to_list()\n",
        "#pred_sentences"
      ],
      "execution_count": 0,
      "outputs": []
    },
    {
      "cell_type": "code",
      "metadata": {
        "id": "Nsbh_G0K2Z-w",
        "colab_type": "code",
        "colab": {}
      },
      "source": [
        "pred1=['bye','hello','DM','see you later']"
      ],
      "execution_count": 0,
      "outputs": []
    },
    {
      "cell_type": "code",
      "metadata": {
        "id": "QrZmvZySKQTm",
        "colab_type": "code",
        "colab": {}
      },
      "source": [
        "predictions = getPrediction(pred_sentences)"
      ],
      "execution_count": 0,
      "outputs": []
    },
    {
      "cell_type": "markdown",
      "metadata": {
        "id": "MXkRiEBUqN3n",
        "colab_type": "text"
      },
      "source": [
        "Voila! We have a sentiment classifier!"
      ]
    },
    {
      "cell_type": "code",
      "metadata": {
        "id": "ERkTE8-7oQLZ",
        "colab_type": "code",
        "outputId": "12cffa18-29a7-4955-a263-54fa02e9a7a8",
        "colab": {
          "base_uri": "https://localhost:8080/",
          "height": 1000
        }
      },
      "source": [
        "predictions"
      ],
      "execution_count": 0,
      "outputs": [
        {
          "output_type": "execute_result",
          "data": {
            "text/plain": [
              "[('<customer> Thank you! Is this issue only occurring in messages or in other applications as well? Send us a DM to let us know. <link>',\n",
              "  'suggestAction'),\n",
              " ('<customer> Thank you! Please look for our response to your DM shortly. <link>',\n",
              "  'suggestAction'),\n",
              " (\"<customer> Thank you. Are all of your apps up to date? Send us a DM, and we'll go from there. <link>\",\n",
              "  'suggestAction'),\n",
              " ('<customer> Thank you. Please check to see if you have an update available under Settings &gt; General &gt; Software Update.',\n",
              "  'suggestAction'),\n",
              " ('<customer> Thank you. Please let us know. If the issue is only with CarPlay, your firmware may need to be updated. Please visit us here: <link> for more information.',\n",
              "  'suggestAction'),\n",
              " ('<customer> Thank you. Please send us a DM and tell us the specific version number you see under Settings &gt; General &gt; About &gt; Version. <link>',\n",
              "  'suggestAction'),\n",
              " (\"<customer> Thank you. Please send us a DM letting us know when this first started happening and we'll take it from there. <link>\",\n",
              "  'suggestAction'),\n",
              " ('<customer> Thank you. We’d love to help further. To start, please send us a DM letting us know which device you’re using. <link>',\n",
              "  'suggestAction'),\n",
              " ('<customer> Thanks for bringing this to our attention. Can you tell us which iOS version this is occurring on please?',\n",
              "  'not suggestAction'),\n",
              " (\"<customer> Thanks for bringing this to our attention. Click here to connect with us in DM. We'll pick up there: <link>\",\n",
              "  'suggestAction'),\n",
              " (\"<customer> Thanks for bringing this to our attention. We'd like to look into this further. Please click here to join us in DM: <link>\",\n",
              "  'suggestAction'),\n",
              " ('<customer> Thanks for clarifying this for us. Have you restarted both devices since you noticed this behavior?',\n",
              "  'not suggestAction'),\n",
              " (\"<customer> Thanks for contacting us. We'd like to gather some info to help out. Let's meet in DM. <link>\",\n",
              "  'suggestAction'),\n",
              " (\"<customer> Thanks for contacting. We understand wanting your device to work correctly. Could you please tell us which iOS version you're on?\",\n",
              "  'not suggestAction'),\n",
              " ('<customer> Thanks for following up. Send us a DM so we can look into this with you there. <link>',\n",
              "  'suggestAction'),\n",
              " ('<customer> Thanks for following up. Send us a DM so we can talk about this with you there. <link>',\n",
              "  'suggestAction'),\n",
              " (\"<customer> Thanks for getting back to us. We apologize but aren't understanding the issue at hand. Please DM us. <link>\",\n",
              "  'suggestAction'),\n",
              " (\"<customer> Thanks for getting in touch. We'd like to assist. DM us and we'll go from there. <link>\",\n",
              "  'suggestAction'),\n",
              " ('<customer> Thanks for giving that a try! Go ahead and reach out to us in DM so we can continue troubleshooting together to resolve. <link>',\n",
              "  'suggestAction'),\n",
              " ('<customer> Thanks for letting us know. Check out this article for troubleshooting: <link> DM us if the issue persists. <link>',\n",
              "  'suggestAction'),\n",
              " ('<customer> Thanks for letting us know. Have you had a chance to check the ringer volume on your iPhone? \\n\\nDM if you check these settings, and need further assistance. <link>',\n",
              "  'suggestAction'),\n",
              " (\"<customer> Thanks for letting us know. Please send us a DM with the current country you're in. <link>\",\n",
              "  'suggestAction'),\n",
              " (\"<customer> Thanks for letting us know. Send us a DM and we'll do everything we can to get your keyboard back on track. <link>\",\n",
              "  'suggestAction'),\n",
              " ('<customer> Thanks for reaching out to let us know about this. So we can look into this with you, please DM us here: <link>',\n",
              "  'suggestAction'),\n",
              " (\"<customer> Thanks for reaching out to us about this issue. We want your device to work for you and we'll be happy to help out. To get started, can you tell us which device and OS version you're having this problem with? Also, what happens when you try to update?\",\n",
              "  'not suggestAction'),\n",
              " ('<customer> Thanks for reaching out to us. Can you please let us know if you have updated to iOS 11.1? It was released today.',\n",
              "  'not suggestAction'),\n",
              " (\"<customer> Thanks for reaching out to us. Please send us a DM with your country, and we'll look into this. <link>\",\n",
              "  'suggestAction'),\n",
              " ('<customer> Thanks for reaching out to us. We are always happy to help. Is this the only playlist that this happens with?',\n",
              "  'not suggestAction'),\n",
              " (\"<customer> Thanks for reaching out to us. We're happy to help out. We recommend checking out this link: <link>\",\n",
              "  'suggestAction'),\n",
              " ('<customer> Thanks for reaching out! Please DM your information so we can help with a solution. <link>',\n",
              "  'suggestAction'),\n",
              " ('<customer> Thanks for reaching out.  Awards appear 9 days later.  This article explains Activity Achievements:  <link>',\n",
              "  'suggestAction'),\n",
              " (\"<customer> Thanks for reaching out.  Let's get you in touch with an Apple Online Store Advisor at: <link>\",\n",
              "  'suggestAction'),\n",
              " ('<customer> Thanks for reaching out. DM the specific issue you are seeing with Messages to get started. <link>',\n",
              "  'suggestAction'),\n",
              " ('<customer> Thanks for reaching out. DM the specific issue you are seeing with your iPhone to get started. <link>',\n",
              "  'suggestAction'),\n",
              " ('<customer> Thanks for reaching out. DM which iPhone and specific iOS version you are using to get started. <link>',\n",
              "  'suggestAction'),\n",
              " ('<customer> Thanks for reaching out. For help with AppleTV reach out to our experts here:  <link>',\n",
              "  'suggestAction'),\n",
              " (\"<customer> Thanks for reaching out. If you're having issues, we'd like to assist. DM us and we'll continue there. <link>\",\n",
              "  'suggestAction'),\n",
              " (\"<customer> Thanks for reaching out. Send us a DM and we'll work together there. <link>\",\n",
              "  'suggestAction'),\n",
              " ('<customer> Thanks for reaching out. We are always happy to help. Are you running iOS 11.1?  ',\n",
              "  'not suggestAction'),\n",
              " (\"<customer> Thanks for reaching out. We want to help. Tell us more about what's happening in DM. <link>\",\n",
              "  'suggestAction'),\n",
              " (\"<customer> Thanks for reaching out. We'd like some details to assist. Is the Music app not opening at all, or are you getting an error? Also, are you an Apple Music member? Let us know in DM and we'll continue. <link>\",\n",
              "  'suggestAction'),\n",
              " (\"<customer> Thanks for reaching out. We'd like to know more to help. Are you referring to the Podcast app, Music or a different app? Let us know\",\n",
              "  'not suggestAction'),\n",
              " (\"<customer> Thanks for reaching out; we'd like to help. When did you first encounter this issue?\",\n",
              "  'not suggestAction'),\n",
              " (\"<customer> Thanks for that info. Let's go to Settings &gt; General &gt; Reset &gt; Reset Keyboard Dictionary. Then restart &amp; test again.\",\n",
              "  'not suggestAction'),\n",
              " ('<customer> Thanks for that information.  Does this occur within all applications?  Let us know in DM. <link>',\n",
              "  'suggestAction'),\n",
              " ('<customer> Thanks for that information. DM the country or region where you are currently located to continue. <link>',\n",
              "  'suggestAction'),\n",
              " (\"<customer> Thanks for that information. DM us the exact iOS version your iPhone is running, and we'll continue from there. <link>\",\n",
              "  'suggestAction'),\n",
              " (\"<customer> Thanks for that video. Let's look deeper into this with you. DM us what country you are in and we'll continue from there. <link>\",\n",
              "  'suggestAction'),\n",
              " ('<customer> Thanks for the question. You can navigate to Settings &gt; Podcasts and set the download feature to manual',\n",
              "  'not suggestAction'),\n",
              " (\"<customer> Thanks for trying. DM us and we'll continue there. <link>\",\n",
              "  'suggestAction'),\n",
              " ('<customer> Thanks so much for letting us know. Please meet with us in DM so we can continue to work together. <link>',\n",
              "  'suggestAction'),\n",
              " ('<customer> Thanks! There are a couple of different ways. In any app that has the sharing icon, Photos, for example, you can choose to share directly to Notes. ',\n",
              "  'not suggestAction'),\n",
              " (\"<customer> Thanks! We'll want to get your iPhone updated to iOS 11.1.2. Here's how: <link>\",\n",
              "  'suggestAction'),\n",
              " ('<customer> Thanks.  Please take look under Settings &gt; General &gt; About and let us know the exact iOS version.',\n",
              "  'suggestAction'),\n",
              " (\"<customer> Thanks. Let's continue the conversation in DM. <link>\",\n",
              "  'suggestAction'),\n",
              " (\"<customer> Thanks. Let's start by updating both devices to see if the issues continues. This can help: <link>\",\n",
              "  'suggestAction'),\n",
              " (\"<customer> Thanks. Please DM us and we'll continue this conversation there. <link>\",\n",
              "  'suggestAction'),\n",
              " ('<customer> Thanks. We received your DMs and will continue with you there. <link>',\n",
              "  'suggestAction'),\n",
              " (\"<customer> Thanks. We'll help get to the bottom of this together. What version of iOS are you currently running?\",\n",
              "  'not suggestAction'),\n",
              " ('<customer> That feature isn’t a part of iOS 11. We always enjoy hearing feedback. Please submit yours here:\\n<link>',\n",
              "  'suggestAction'),\n",
              " ('<customer> That is certainly not the experience we want you to have. Which iPhone model do you use?',\n",
              "  'not suggestAction'),\n",
              " ('<customer> That is correct, it should not have any trouble.',\n",
              "  'not suggestAction'),\n",
              " ('<customer> That is expected for Assitive Touch. The following article provides more information. <link> <link>',\n",
              "  'suggestAction'),\n",
              " (\"<customer> That is good to know. Let's still give it about 20 minutes or so. Please do keep us in the loop.\",\n",
              "  'not suggestAction'),\n",
              " ('<customer> That is great news! Please reach out if you need further assistance.',\n",
              "  'not suggestAction'),\n",
              " (\"<customer> That is not the experience we want you to have. We'd be happy to look into this with you. \",\n",
              "  'not suggestAction'),\n",
              " ('<customer> That is not the experience we want you to have. Which iPhone model do you have? Let us know in DM. <link>',\n",
              "  'suggestAction'),\n",
              " ('<customer> That should not be happening. Let us help. DM us more details about this. <link>',\n",
              "  'suggestAction'),\n",
              " ('<customer> That should not be happening. Let us help. Tell us more about this in DM. <link>',\n",
              "  'suggestAction'),\n",
              " (\"<customer> That should not be happening. We'd be happy to help. Which iOS version are you currently using? You can check in Settings &gt; General &gt; About.\",\n",
              "  'suggestAction'),\n",
              " (\"<customer> That's definitely not expected behavior. Let's figure this out. Is this happening with all sounds? Have you restarted?\",\n",
              "  'not suggestAction'),\n",
              " (\"<customer> That's great news! If you need anything else, please feel free to reach back out to us.\",\n",
              "  'not suggestAction'),\n",
              " (\"<customer> That's great news! Thanks for keeping us updated. If you run into any other issues, please let us know. Have a great weekend.\",\n",
              "  'not suggestAction'),\n",
              " (\"<customer> That's not good! We want to get your iPhone working smoothly too, especially while you travel. Which iOS version is installed?\",\n",
              "  'not suggestAction'),\n",
              " (\"<customer> That's not the experience we want you to have. Can you please provide more details about what happened in a DM? <link>\",\n",
              "  'suggestAction'),\n",
              " ('<customer> The best way to verify your account &amp; assist with the Apple ID, is to get support at this link: <link>',\n",
              "  'suggestAction'),\n",
              " ('<customer> The first step we want to take is to back it up, then update it to iOS 11.1 to rule that out: <link>',\n",
              "  'suggestAction'),\n",
              " (\"<customer> There's an update to 11.1 now, let's go ahead and do that now: <link>\",\n",
              "  'suggestAction'),\n",
              " ('<customer> This article can help:<link> If you run into issues, reach out to iTunes billing here: <link>',\n",
              "  'suggestAction'),\n",
              " (\"<customer> This hasn't occurred more than once, correct?  Have you installed any new apps recently?\",\n",
              "  'not suggestAction'),\n",
              " ('<customer> This is expected behavior. <link> emails cannot be changed, but you could use an alias: <link>',\n",
              "  'suggestAction'),\n",
              " ('<customer> This is not a legitimate email from Apple. This article explains how to identify and report the email: <link>',\n",
              "  'suggestAction'),\n",
              " ('<customer> This is not an expected nor does it sound normal. We would like to take a closer look. Send us a DM. <link>',\n",
              "  'suggestAction'),\n",
              " ('<customer> This is the expected behavior for notifications. Take a look at this: <link>',\n",
              "  'suggestAction'),\n",
              " ('<customer> This link is a great place to start: <link> If you still have issues after those steps, DM us. <link>',\n",
              "  'suggestAction'),\n",
              " (\"<customer> This resource should do the trick. Check out the steps under 'Turn on Automatic Downloads': <link>\",\n",
              "  'suggestAction'),\n",
              " (\"<customer> To be sure we provide accurate information, can you tell us which device you're using?\",\n",
              "  'not suggestAction'),\n",
              " (\"<customer> Understood! Let's try all the steps listed here: <link> Let us know the results once completed,\",\n",
              "  'suggestAction'),\n",
              " ('<customer> Understood. For further help with your Apple ID, connect with one of our Apple ID Advisors here: <link>',\n",
              "  'suggestAction'),\n",
              " ('<customer> Update improvements can resolve lots of issues. Learn more about iOS 11.1 here for specifics: <link>',\n",
              "  'suggestAction'),\n",
              " ('<customer> Use the link below to send us a Direct Message. We’ll meet you there, and we can work towards a resolution together. <link>',\n",
              "  'suggestAction'),\n",
              " ('<customer> Was this purchased or was it content that was available for free? Also, was it downloaded to your device or did you stream it?',\n",
              "  'not suggestAction'),\n",
              " ('<customer> We appreciate that. We did receive your DM, so check for a response there shortly. <link>',\n",
              "  'suggestAction'),\n",
              " ('<customer> We appreciate the information! We definitely want to help you with this. Please send us a DM. <link>',\n",
              "  'suggestAction'),\n",
              " ('<customer> We are happy to hear all is working as expected again. Enjoy the rest of your day.',\n",
              "  'not suggestAction'),\n",
              " ('<customer> We are happy to help. Please DM us and we will continue from there. <link>',\n",
              "  'suggestAction'),\n",
              " (\"<customer> We are here for you. Let's take a look at this further for you. Reach out to us in DM. <link>\",\n",
              "  'suggestAction'),\n",
              " ('<customer> We are here to help. Please refer to the following article for steps to report these emails: <link>',\n",
              "  'suggestAction'),\n",
              " ('<customer> We are here to help. So we can best isolate the cause, could you verify your exact iOS version? <link>',\n",
              "  'suggestAction'),\n",
              " (\"<customer> We can assist you. Please DM us via the following link with your device model and we'll help you further. <link>\",\n",
              "  'suggestAction'),\n",
              " ('<customer> We can certainly help!  To begin, does this occur with all devices or just one?',\n",
              "  'not suggestAction'),\n",
              " (\"<customer> We can definitely look into this with you. Send us a DM and let us know which device you're using. <link>\",\n",
              "  'suggestAction'),\n",
              " ('<customer> We can definitely look into this with you. Which device are you using? ',\n",
              "  'not suggestAction'),\n",
              " ('<customer> We can help get you to the right place to make your suggestion. Provide your feedback here:  <link>',\n",
              "  'suggestAction'),\n",
              " (\"<customer> We can help out. Could you Direct Message us and let us know what iOS version you're on? <link>\",\n",
              "  'suggestAction'),\n",
              " ('<customer> We can help out. Is the phone locked or unlocked when this happens? Or does it happen with both?',\n",
              "  'not suggestAction'),\n",
              " ('<customer> We can help with battery life. Do you know what version of the iOS is on the device?  If not, you can check under Settings &gt; General &gt; About &gt; Version.',\n",
              "  'suggestAction'),\n",
              " (\"<customer> We can help with iPhone performance. What device are you currently using? We'll help get that resolved.\",\n",
              "  'not suggestAction'),\n",
              " ('<customer> We can help with that and want your iPhone working as expected. To clarify, which version of iOS 11 do you have installed?',\n",
              "  'not suggestAction'),\n",
              " ('<customer> We can help with this. Are you on the latest iOS 11.1? DM us your reply to continue <link>',\n",
              "  'suggestAction'),\n",
              " ('<customer> We can help with your Touch ID. Try these steps to start: <link> Did that help?',\n",
              "  'suggestAction'),\n",
              " ('<customer> We can help you. Could you tell us what happens when you try to connect to the Internet? Do you get an error message?',\n",
              "  'not suggestAction'),\n",
              " (\"<customer> We can help!  We assume you mean iOS 11, right?  Can you tell us what types of performance issues you're experiencing?\",\n",
              "  'not suggestAction'),\n",
              " (\"<customer> We can help! Send us a DM and let us know which iOS version you're running. We'll take it from there. <link>\",\n",
              "  'suggestAction'),\n",
              " ('<customer> We can help! What happens after it says verifying. Is that when it restarts or are you restarting it manually?',\n",
              "  'not suggestAction'),\n",
              " (\"<customer> We can help. Here's a great article to clarify more about Wi-Fi &amp; Bluetooth in the Control Center: <link>\",\n",
              "  'suggestAction'),\n",
              " ('<customer> We can help. This looks like a phishing attempt. See how to handle and report these here: <link>',\n",
              "  'suggestAction'),\n",
              " ('<customer> We can help. We’ve released iOS 11.1. Let’s make sure you have a backup, and update your iPhone: <link>',\n",
              "  'suggestAction'),\n",
              " ('<customer> We can help. Which version of iOS are you currently running?',\n",
              "  'not suggestAction'),\n",
              " (\"<customer> We can look into this issue together. Send us a DM and let's begin. <link>\",\n",
              "  'suggestAction'),\n",
              " (\"<customer> We can look into what's happening with the flash on your iPhone. How long have you been seeing this? Does a restart help? Which version of iOS are you using? You can check that in Settings &gt; General &gt; About. Let us know in DM and we'll work from there. <link>\",\n",
              "  'suggestAction'),\n",
              " (\"<customer> We can understand not wanting the incoming emails to push through. We'll get to the root cause of this, and find you the information you need.\\n\\nIn order to do so, we have some questions for you. Please meet us in DM with your current iOS and we'll go from there. <link>\",\n",
              "  'suggestAction'),\n",
              " ('<customer> We certainly want to help! Is this while connected to iTunes? Send us a DM to let us know. <link>',\n",
              "  'suggestAction'),\n",
              " ('<customer> We certainly want to help! Which version of iOS are you currently running? Have you updated to iOS 11.1?',\n",
              "  'not suggestAction'),\n",
              " ('<customer> We certainly want you to be able to type. Have you tried restarting the device since this has happened?',\n",
              "  'not suggestAction'),\n",
              " ('<customer> We completely understand and want to help. Please reach out to our iTunes Support team directly here: <link>',\n",
              "  'suggestAction'),\n",
              " (\"<customer> We definitely understand where you're coming from. Let's take a deeper look into this. Send us a DM and we'll get started. <link>\",\n",
              "  'suggestAction'),\n",
              " ('<customer> We have a resource that can help. Take a look at the steps listed here: <link>',\n",
              "  'suggestAction'),\n",
              " ('<customer> We have received your DM and thank you for the time required to share this information with us, we will respond in DM shortly.',\n",
              "  'not suggestAction'),\n",
              " (\"<customer> We have the same hope. If you do run into issues with an update in the future, we'll be here for you.\",\n",
              "  'not suggestAction'),\n",
              " (\"<customer> We know how important apps and app updates can be. We'd like to help. Does this happen when you're using Wi-Fi or cellular data? Is there another network you can try?\",\n",
              "  'not suggestAction'),\n",
              " ('<customer> We know how important your iPhone is. Tell us, are you turning Wi-Fi off from the Control Center or from Settings &gt; Wi-Fi?',\n",
              "  'not suggestAction'),\n",
              " (\"<customer> We know how precious your memories are, and we'll help any way we can. Which iOS version is running on your iPhone? Do you use iCloud Photo Library? Meet us in DM with details, and we'll find a solution together. <link>\",\n",
              "  'suggestAction'),\n",
              " (\"<customer> We know it's important to have your device working correctly. We'd like to help. Let's meet in DM. <link>\",\n",
              "  'suggestAction'),\n",
              " ('<customer> We look forward to getting an update from you in the near future.',\n",
              "  'not suggestAction'),\n",
              " ('<customer> We love to hear suggestions. You can also tell us more.',\n",
              "  'not suggestAction'),\n",
              " ('<customer> We offer support here, through phone support, or chat. DM us if you would like to continue here. <link>',\n",
              "  'suggestAction'),\n",
              " ('<customer> We offer support via Twitter in English. Contact us for help in your preferred language here: <link>',\n",
              "  'suggestAction'),\n",
              " ('<customer> We offer support via Twitter in English. Get help in Spanish here: <link> or join <link>',\n",
              "  'suggestAction'),\n",
              " ('<customer> We received your DM and have responded there.', 'suggestAction'),\n",
              " ('<customer> We received your DM and will continue with you from there. Keep an eye out for our response.',\n",
              "  'suggestAction'),\n",
              " (\"<customer> We released iOS 11.1 today. Let's update to see if that helps. Here's how: <link>\",\n",
              "  'suggestAction'),\n",
              " (\"<customer> We totally understand. Please join us in DM, we'd like to start troubleshooting with you. <link>\",\n",
              "  'suggestAction'),\n",
              " (\"<customer> We typically don't send texts. You can learn more about suspicious messages here: <link>\",\n",
              "  'suggestAction'),\n",
              " (\"<customer> We understand how important your iPhone is, and we're here to help. Send us a DM, and we'll take a closer look at your device together there. <link>\",\n",
              "  'suggestAction'),\n",
              " ('<customer> We understand how tough that is. Please send us a DM to let us know if you have a recent backup in iCloud, or iTunes. <link>',\n",
              "  'suggestAction'),\n",
              " ('<customer> We understand wanting to get this resolved. Get in touch with our Developer support here: <link>',\n",
              "  'suggestAction'),\n",
              " (\"<customer> We understand your concern. Let's work together to solve these issues. Does this Wi-Fi issue happen on all networks?\",\n",
              "  'not suggestAction'),\n",
              " ('<customer> We value your feedback. Feel free to leave it here: <link>',\n",
              "  'suggestAction'),\n",
              " (\"<customer> We want to be sure you receive notifications as you'd expect. Let us know if this helps: <link>\",\n",
              "  'suggestAction'),\n",
              " ('<customer> We want to get you in the right place for help. Use this link to connect to our Pages experts: <link>',\n",
              "  'suggestAction'),\n",
              " ('<customer> We want to help further! What model of iOS device are you using? Do you have the most recent version of iOS 11.1 downloaded?',\n",
              "  'not suggestAction'),\n",
              " ('<customer> We want to help get your iPhone working properly. Which exact iOS version and iPhone are you using?',\n",
              "  'not suggestAction'),\n",
              " ('<customer> We want to help in any way we can. Which iPhone are you using? Let us know in DM, and we’ll work with you there. <link>',\n",
              "  'suggestAction'),\n",
              " ('<customer> We want to help out. Look here to talk with our Online Support:  <link>',\n",
              "  'suggestAction'),\n",
              " (\"<customer> We want to help out. Please DM us some more details about what's going on. <link>\",\n",
              "  'suggestAction'),\n",
              " (\"<customer> We want to help with any issues you're experiencing. Please let us know in DM what's going on with your iPhone. <link>\",\n",
              "  'suggestAction'),\n",
              " ('<customer> We want to help with this. Do you experience the volume issue in all locations? Let us know in DM. <link>',\n",
              "  'suggestAction'),\n",
              " ('<customer> We want to help with this. Reach out to us in DM with more information. <link>',\n",
              "  'suggestAction'),\n",
              " ('<customer> We want to help with your Apple TV. Click here to reach our team that can assist with your Apple TV: <link>',\n",
              "  'suggestAction'),\n",
              " ('<customer> We want to help you resolve this keyboard issue. Which iOS version is currently installed?',\n",
              "  'not suggestAction'),\n",
              " (\"<customer> We want to help you. Are there any troubleshooting steps you tried on your own? We want to make sure we don't repeat any steps.\",\n",
              "  'not suggestAction'),\n",
              " (\"<customer> We want to help you. DM us, and let us know what's going on. We'll look into this. <link>\",\n",
              "  'suggestAction'),\n",
              " (\"<customer> We want to help you. DM us, and we can look into what's going on with Wi-Fi calling on your iPhone. <link>\",\n",
              "  'suggestAction'),\n",
              " (\"<customer> We want to help you. DM us, and we can look into what's going on. <link>\",\n",
              "  'suggestAction'),\n",
              " (\"<customer> We want to help you. DM us, and we'll look into this deeper. <link>\",\n",
              "  'suggestAction'),\n",
              " ('<customer> We want to help you. That station may not be available. Availability of live stations varies depending on your location.',\n",
              "  'not suggestAction'),\n",
              " ('<customer> We want to help! DM us and let us know more about the issues you are having. <link>',\n",
              "  'suggestAction'),\n",
              " ('<customer> We want to help! Please join us in DM to get started troubleshooting. <link>',\n",
              "  'suggestAction'),\n",
              " ('<customer> We want to help.  DM us which country are you located in. <link>',\n",
              "  'suggestAction'),\n",
              " ('<customer> We want to help.  Send us a DM letting us know which country you are located in to get started. <link>',\n",
              "  'suggestAction'),\n",
              " ('<customer> We want to help. Are you still seeing a blank black screen on your Mac? Send us a DM. <link>',\n",
              "  'suggestAction'),\n",
              " (\"<customer> We want to help. DM us details on the iOS version you have and which iTunes version. We'll work with you there. <link>\",\n",
              "  'suggestAction'),\n",
              " ('<customer> We want to help. Does this happen in all apps or just a few? Tell us in DM. <link>',\n",
              "  'suggestAction'),\n",
              " ('<customer> We want to help. Join us in DM so we may look further into this. <link>',\n",
              "  'suggestAction'),\n",
              " (\"<customer> We want to help. Tell us more about what's happening in DM. <link>\",\n",
              "  'suggestAction'),\n",
              " (\"<customer> We want to help. Which iOS version is installed? You'll find that from Settings &gt; General &gt; About.\",\n",
              "  'suggestAction'),\n",
              " ('<customer> We want to help. Which version of iOS 11 do you have installed on your device? Let us know in DM. <link>',\n",
              "  'suggestAction'),\n",
              " ('<customer> We want to help. You can reach our iTunes support team here: <link>',\n",
              "  'suggestAction'),\n",
              " (\"<customer> We want to know more about what you're experiencing. Are these issues only happening when using the App Store? Which iOS are you on?\",\n",
              "  'not suggestAction'),\n",
              " (\"<customer> We want to look into this further with you. Can you send us a DM and let us know the device model you're using? <link>\",\n",
              "  'suggestAction'),\n",
              " ('<customer> We want to look into this with you. Send us a DM letting us know more about what happened. <link>',\n",
              "  'suggestAction'),\n",
              " (\"<customer> We want to look into what's going on with your TouchID. To start, which device and iOS version are you using?\",\n",
              "  'not suggestAction'),\n",
              " ('<customer> We want to make sure we understand the issue. Are you wanting to disable the passcode and still use Touch ID?',\n",
              "  'not suggestAction'),\n",
              " ('<customer> We want to make sure you can charge and enjoy your new phone. Is it not showing as connected to power when plugged in?',\n",
              "  'not suggestAction'),\n",
              " (\"<customer> We want to make sure your iPhone works the way you expect it to. Let's get paired up in DM to get started. <link>\",\n",
              "  'suggestAction'),\n",
              " ('<customer> We want to take a look at this with you. Reach out to us in DM with more information. <link>',\n",
              "  'suggestAction'),\n",
              " ('<customer> We want to take a look into this with you. DM us your current iOS version, and we’ll start there. <link>',\n",
              "  'suggestAction'),\n",
              " ('<customer> We want you to be able to enjoy your iPhone. Give us some details on what you’re noticing, &amp; we’ll do all we can to help out.',\n",
              "  'not suggestAction'),\n",
              " ('<customer> We want you to be able to rely on your calendar. What exactly is going on with it?',\n",
              "  'not suggestAction'),\n",
              " ('<customer> We want you to be able to update your Mac.  Please send us a DM, so we can take a closer look. <link>',\n",
              "  'suggestAction'),\n",
              " ('<customer> We want you to be able to view your special moments. Just to clarify, this message appears in the Photos app, correct?',\n",
              "  'not suggestAction'),\n",
              " ('<customer> We want you to have a smooth experience with our updates. What exactly is happening with your iPhone?',\n",
              "  'not suggestAction'),\n",
              " ('<customer> We want you to have a smooth experience with the update. What exactly is going on?',\n",
              "  'not suggestAction'),\n",
              " ('<customer> We want you to have a smooth update experience. What exactly is happening with your touch screen?',\n",
              "  'not suggestAction'),\n",
              " ('<customer> We want your Apple Watch to keep up with you at the gym. To begin, which watchOS is installed?',\n",
              "  'not suggestAction'),\n",
              " ('<customer> We want your Mac to work as expected. Does this message come back up if you click the Restart button?',\n",
              "  'not suggestAction'),\n",
              " ('<customer> We want your iPhone running great, too. What obstacles are you facing that we can help with today?',\n",
              "  'not suggestAction'),\n",
              " (\"<customer> We want your iPhone to be working as expected. Send us a DM with more details, and we'll start there. <link>\",\n",
              "  'suggestAction'),\n",
              " ('<customer> We want your predictions to be accurate. Please DM us with the current version of iOS you have. <link>',\n",
              "  'suggestAction'),\n",
              " ('<customer> We would love to help you with this! Is this the front or rear facing camera? Which device and iOS version?',\n",
              "  'not suggestAction'),\n",
              " (\"<customer> We wouldn't want to speculate into the cause, but please send us a DM so we can look into this further with you. <link>\",\n",
              "  'suggestAction'),\n",
              " (\"<customer> We'd be concerned with an unresponsive device too. Let us know your iOS version in DM and we'll help: <link>\",\n",
              "  'suggestAction'),\n",
              " (\"<customer> We'd be happy to assist. To begin, are you completely updated to iOS 11.1? DM us to let us know. <link>\",\n",
              "  'suggestAction'),\n",
              " (\"<customer> We'd be happy to help with some battery tips. Let's start with the maximizing tips found here: <link>\",\n",
              "  'suggestAction'),\n",
              " (\"<customer> We'd be happy to help. Can you DM us what device you are using and what's happening exactly? <link>\",\n",
              "  'suggestAction'),\n",
              " (\"<customer> We'd be happy to help. Check out this link to for more information: <link>\",\n",
              "  'suggestAction'),\n",
              " (\"<customer> We'd be happy to help. Let's move over to DM. Let us know your iOS version. <link>\",\n",
              "  'suggestAction'),\n",
              " (\"<customer> We'd be happy to help. Send us a DM and we can start there. <link>\",\n",
              "  'suggestAction'),\n",
              " (\"<customer> We'd be happy to help. Send us a DM with a few details. <link>\",\n",
              "  'suggestAction'),\n",
              " (\"<customer> We'd be happy to look into this display issue with you. To start, can you tell us which Apple Watch you're using?\",\n",
              "  'not suggestAction'),\n",
              " (\"<customer> We'd be happy to look into this with you further. DM us using the link below and we'll go from there. <link>\",\n",
              "  'suggestAction'),\n",
              " (\"<customer> We'd be happy to look into this with you more in detail.  Please reach out to us via DM and we'll get started. <link>\",\n",
              "  'suggestAction'),\n",
              " (\"<customer> We'd be happy to look into this with you.  Feel free to DM us what country you're located in and we'll go from there: <link>\",\n",
              "  'suggestAction'),\n",
              " (\"<customer> We'd be happy to look into this with you.  Let us know the details in DM and we'll continue from there. <link>\",\n",
              "  'suggestAction'),\n",
              " (\"<customer> We'd be happy to look into this with you.  Please reach out to us via DM and we'll get started. <link>\",\n",
              "  'suggestAction'),\n",
              " (\"<customer> We'd be happy to look into this with you. Could you please send us a DM so we can get started? <link>\",\n",
              "  'suggestAction'),\n",
              " (\"<customer> We'd be happy to look into this with you. Please DM us. <link>\",\n",
              "  'suggestAction'),\n",
              " (\"<customer> We'd be happy to look into what's going on with that award not showing up. To start, can you tell us which device you're using?\",\n",
              "  'not suggestAction'),\n",
              " (\"<customer> We'd be happy to look into what's going on. Do you know if you have a recent backup from before those Notes went missing?\",\n",
              "  'not suggestAction'),\n",
              " (\"<customer> We'd be happy to look into what's going on. Which device and iOS version are you using?\",\n",
              "  'not suggestAction'),\n",
              " (\"<customer> We'd be happy to provide you with some info. Start by taking a look at the following article: <link>\",\n",
              "  'suggestAction'),\n",
              " (\"<customer> We'd be happy to see how we can help. What's going on?\",\n",
              "  'not suggestAction'),\n",
              " (\"<customer> We'd be happy to see how we can help. Which device and OS version are you experiencing this on?\",\n",
              "  'not suggestAction'),\n",
              " (\"<customer> We'd be happy to see how we can help. Which device and iOS version are you using?\",\n",
              "  'not suggestAction'),\n",
              " (\"<customer> We'd be happy to see what's causing Auto-Lock to not work as expected. Let's see if updating helps: <link>\",\n",
              "  'suggestAction'),\n",
              " (\"<customer> We'd be happy to take a look into this with you. Could you please send us a DM so we can gather some information and get started? <link>\",\n",
              "  'suggestAction'),\n",
              " (\"<customer> We'd be more than happy to look into this with you. What version of iOS are you using and are your apps up-to-date?\",\n",
              "  'not suggestAction'),\n",
              " (\"<customer> We'd like to assist as best we can. Do you mean iOS 11.1 which was released today?\",\n",
              "  'not suggestAction'),\n",
              " (\"<customer> We'd like to assist you with your iPad too. Join us in DM at the link below to get started. <link>\",\n",
              "  'suggestAction'),\n",
              " (\"<customer> We'd like to dig into what's happening with the Podcasts app on your device. What type of iOS device are you using and which version of iOS is currently installed? Let us know those details via DM. We'll continue with you there. <link>\",\n",
              "  'suggestAction'),\n",
              " (\"<customer> We'd like to gather more information. Let's meet in DM. <link>\",\n",
              "  'suggestAction'),\n",
              " (\"<customer> We'd like to gather some more information for better troubleshooting. Can you DM us the country you are located in? <link>\",\n",
              "  'suggestAction'),\n",
              " (\"<customer> We'd like to have you backup and update your iPhone to iOS 11.1 and let us know if that helps: <link>\",\n",
              "  'suggestAction'),\n",
              " (\"<customer> We'd like to hear more about this complaint. DM us with more details at the link below please. <link>\",\n",
              "  'suggestAction'),\n",
              " (\"<customer> We'd like to hear more about your experience. Go ahead and DM us more details here: <link>\",\n",
              "  'suggestAction'),\n",
              " (\"<customer> We'd like to hear more about your experience. Reach out to us in DM. <link>\",\n",
              "  'suggestAction'),\n",
              " (\"<customer> We'd like to help any way we can. Are other apps able to be downloaded on your device? Which model is it and which OS version?\",\n",
              "  'not suggestAction'),\n",
              " (\"<customer> We'd like to help out with this. Join us in DM so that we can gather more details about your device. <link>\",\n",
              "  'suggestAction'),\n",
              " (\"<customer> We'd like to help out. DM us and we'll go from there. <link>\",\n",
              "  'suggestAction'),\n",
              " (\"<customer> We'd like to help with your iMessage issue. Are you connected to Wi-Fi or cellular data?\",\n",
              "  'not suggestAction'),\n",
              " (\"<customer> We'd like to help with your issue. DM us and tell us more about what's happening with your iPhone 6s. <link>\",\n",
              "  'suggestAction'),\n",
              " (\"<customer> We'd like to help you out. DM us with what type of device you're using and we'll get started. <link>\",\n",
              "  'suggestAction'),\n",
              " (\"<customer> We'd like to help you out. Which device are you using and which iOS are you running?\",\n",
              "  'not suggestAction'),\n",
              " (\"<customer> We'd like to help you with this. Are you using the charging cable that came with your iPhone? Have you tried another cable?\",\n",
              "  'not suggestAction'),\n",
              " (\"<customer> We'd like to help you! Are you experiencing sound issues with any apps besides the Phone app?\",\n",
              "  'not suggestAction'),\n",
              " (\"<customer> We'd like to help! Try the steps in this article: <link> Let us know what happens.\",\n",
              "  'suggestAction'),\n",
              " (\"<customer> We'd like to help. Are you able to log into <link> successfully? Let us know in DM. <link>\",\n",
              "  'suggestAction'),\n",
              " (\"<customer> We'd like to help. Could you Direct Message us and tell us what iOS version you're on currently? <link>\",\n",
              "  'suggestAction'),\n",
              " (\"<customer> We'd like to help. Could you Direct Message us so we can get more information? <link>\",\n",
              "  'suggestAction'),\n",
              " (\"<customer> We'd like to help. Is this happening on cellular as well? Does it happen on all Wi-Fi networks?\",\n",
              "  'not suggestAction'),\n",
              " (\"<customer> We'd like to help. Let's take this to DM and we'll explore ways to provide you assistance. <link>\",\n",
              "  'suggestAction'),\n",
              " (\"<customer> We'd like to help. Please confirm the iTunes version number you have installed now to get started.\",\n",
              "  'not suggestAction'),\n",
              " (\"<customer> We'd like to help. Send us a DM and we can start there. <link>\",\n",
              "  'suggestAction'),\n",
              " (\"<customer> We'd like to help. We received your DM and will continue there. <link>\",\n",
              "  'suggestAction'),\n",
              " (\"<customer> We'd like to help. What device are you using, and which OS version does it have installed?\",\n",
              "  'not suggestAction'),\n",
              " (\"<customer> We'd like to help. What iOS version are you on?\",\n",
              "  'not suggestAction'),\n",
              " (\"<customer> We'd like to help. What's going on?\", 'not suggestAction'),\n",
              " (\"<customer> We'd like to help. Which software version are you using on your iPhone?\",\n",
              "  'not suggestAction'),\n",
              " (\"<customer> We'd like to investigate with you. Send us a DM and we can troubleshoot more from there. <link>\",\n",
              "  'suggestAction'),\n",
              " (\"<customer> We'd like to know more about what is going on so we can try to help. What happens when you try to use Apple Pay?\",\n",
              "  'not suggestAction'),\n",
              " (\"<customer> We'd like to know more about what you're seeing. DM us with what type of Apple Watch you're using. <link>\",\n",
              "  'suggestAction'),\n",
              " (\"<customer> We'd like to learn more about what's happening. What model &amp; iOS version are you working with? Tell us in DM, please. <link>\",\n",
              "  'suggestAction'),\n",
              " (\"<customer> We'd like to look at service options with you. Let's take a look at this in DM. <link>\",\n",
              "  'suggestAction'),\n",
              " (\"<customer> We'd like to look into the trouble you're having. Does this only occur in the Facebook app?\",\n",
              "  'not suggestAction'),\n",
              " (\"<customer> We'd like to look into this with you. Can you tell us which device and OS version you're using?\",\n",
              "  'not suggestAction'),\n",
              " (\"<customer> We'd like to look into this with you. DM us and we'll go from there. <link>\",\n",
              "  'suggestAction'),\n",
              " (\"<customer> We'd like to look into this with you. Please DM us details and we'll be glad to help you towards a resolution. <link>\",\n",
              "  'suggestAction'),\n",
              " (\"<customer> We'd like to look into this with you. Please DM us your country and current iOS version. <link>\",\n",
              "  'suggestAction'),\n",
              " (\"<customer> We'd like to look into this with you. Please click here to connect with us in DM. We'll continue there. <link>\",\n",
              "  'suggestAction'),\n",
              " (\"<customer> We'd like to look into this with you. We recently released iOS 11.1, is this the update your referring to?\",\n",
              "  'not suggestAction'),\n",
              " (\"<customer> We'd like to look into this with you. What is your current iOS version?\",\n",
              "  'not suggestAction'),\n",
              " (\"<customer> We'd like to look into this with you. When did these issues begin? Tell us in a DM. <link>\",\n",
              "  'suggestAction'),\n",
              " (\"<customer> We'd like to look into this. Does this happen in all apps you use the keyboard with? Which device is this happening on?\",\n",
              "  'not suggestAction'),\n",
              " (\"<customer> We'd like to look into this. To start, which device are you experiencing this on, and which software version is it running?\",\n",
              "  'not suggestAction'),\n",
              " (\"<customer> We'd like to look into what's going on with those SOS calls. Can you tell us more about what's happening?\",\n",
              "  'not suggestAction'),\n",
              " (\"<customer> We'd like to look into what's going on with your MMS. What happens when you try to send? Do you get an error?\",\n",
              "  'not suggestAction'),\n",
              " (\"<customer> We'd like to offer our help. Please shoot us a DM and we'll explore the battery challenge. <link>\",\n",
              "  'suggestAction'),\n",
              " (\"<customer> We'd like to see if we can be of help. Would you mind joining us in DM? We'd like to continue our conversation there. <link>\",\n",
              "  'suggestAction'),\n",
              " (\"<customer> We'd like to see what we can do to assist. DM us and we'll continue from there. <link>\",\n",
              "  'suggestAction'),\n",
              " (\"<customer> We'd like to see what we can do to assist. What iOS version are you running?\",\n",
              "  'not suggestAction'),\n",
              " (\"<customer> We'd like to suggest updating to iOS 11.1, which came out today, and see if the same issues continue: <link>\",\n",
              "  'suggestAction'),\n",
              " (\"<customer> We'd like to take a closer look at this with you. Let's continue our conversation via DM. <link>\",\n",
              "  'suggestAction'),\n",
              " (\"<customer> We'd like to take a closer look at this with you. Reach out via DM with the details. <link>\",\n",
              "  'suggestAction'),\n",
              " (\"<customer> We'd like to take a closer look at this with you. Send us a DM and we'll meet up with you there. <link>\",\n",
              "  'suggestAction'),\n",
              " (\"<customer> We'd like to take a closer look at what's happening. DM us with what type of iPhone you're using. <link>\",\n",
              "  'suggestAction'),\n",
              " (\"<customer> We'd like to take a closer look at what's happening. Send us a DM and we'll meet up with you there. <link>\",\n",
              "  'suggestAction'),\n",
              " (\"<customer> We'd like to take a closer look. Send us a DM and we can start there. <link>\",\n",
              "  'suggestAction'),\n",
              " (\"<customer> We'd like to take a further look at this with you. Please meet us in DM to continue. <link>\",\n",
              "  'suggestAction'),\n",
              " (\"<customer> We'd like to take a look at this with you. Let's continue our conversation in DM. <link>\",\n",
              "  'suggestAction'),\n",
              " (\"<customer> We'd like to work on this with you. Which device are you using and which iOS are you on? \",\n",
              "  'not suggestAction'),\n",
              " (\"<customer> We'd like to work with you and look into this together. Do you have a previous backup to your iPhone on either iTunes or iCloud?\",\n",
              "  'not suggestAction'),\n",
              " (\"<customer> We'd like to work with you on this. Please give us a little more detail in DM. We can help from there. <link>\",\n",
              "  'suggestAction'),\n",
              " (\"<customer> We'd like to work with you. May we ask what type of iOS device you have? Let us know to get started.\",\n",
              "  'not suggestAction'),\n",
              " (\"<customer> We'd like you to reset your Keyboard Dictionary from Settings . Any changes?\",\n",
              "  'not suggestAction'),\n",
              " (\"<customer> We'd love to continue working with you. Let's move the conversation to DM. <link>\",\n",
              "  'suggestAction'),\n",
              " (\"<customer> We'd love to figure this out with you. Which device is this happening on, and which software version are you running?\",\n",
              "  'not suggestAction'),\n",
              " (\"<customer> We'd love to help figure this out with you today. Which iOS version are you using under Settings &gt; General &gt; About?\",\n",
              "  'suggestAction'),\n",
              " (\"<customer> We'd love to help with your Touch ID. Check out: <link> Let us know if this helps or not.\",\n",
              "  'suggestAction'),\n",
              " (\"<customer> We'd love to help you fix the freezing. This article has steps to fix it: <link>\",\n",
              "  'suggestAction'),\n",
              " (\"<customer> We'd love to help you with this. Which iOS version did you recently install? Was it iOS 11.1?\",\n",
              "  'not suggestAction'),\n",
              " (\"<customer> We'd love to help! Which version of iOS are you currently updated to? What Keyboards do you have installed?\",\n",
              "  'not suggestAction'),\n",
              " (\"<customer> We'd love to help! Which version of iOS are you using? Which keyboards do you have installed?\",\n",
              "  'not suggestAction'),\n",
              " (\"<customer> We'd love to help.  Send us over a DM with your exact iOS version and iPhone model.  We'll go from there. <link>\",\n",
              "  'suggestAction'),\n",
              " (\"<customer> We'd love to help. DM us the country where you are located. We can go from there. <link>\",\n",
              "  'suggestAction'),\n",
              " (\"<customer> We'd love to help. DM us which iOS device you are experiencing this issue on to get started. <link>\",\n",
              "  'suggestAction'),\n",
              " (\"<customer> We'd love to help. Does the issue only occur when using a specific app? DM the answer below. <link>\",\n",
              "  'suggestAction'),\n",
              " (\"<customer> We'd love to help. Let's work on this together in DM. Start by letting us know what kind of device you are using. <link>\",\n",
              "  'suggestAction'),\n",
              " (\"<customer> We'd love to help. Let's work together in DM. <link>\",\n",
              "  'suggestAction'),\n",
              " (\"<customer> We'd love to help. Please do tell us what the issue is.\",\n",
              "  'not suggestAction'),\n",
              " (\"<customer> We'd love to help. What happens when you try back up via iTunes?\",\n",
              "  'not suggestAction'),\n",
              " (\"<customer> We'd love to help. Which iPhone model are you using? DM the answer below. <link>\",\n",
              "  'suggestAction'),\n",
              " (\"<customer> We'd love to look into this with you!  To begin, can you DM us what iOS version you're currently on? <link>\",\n",
              "  'suggestAction'),\n",
              " (\"<customer> We'd love to look into this with you. Tell us what happens while trying to access your Reading List while offline.\",\n",
              "  'not suggestAction'),\n",
              " (\"<customer> We'd love to look into this. Could you Direct Message us and let us know what iOS version you're on? <link>\",\n",
              "  'suggestAction'),\n",
              " (\"<customer> We'd love to look into this. Please click here to join us in DM: <link>\",\n",
              "  'suggestAction'),\n",
              " (\"<customer> We'd love to take a look into this concern. Is the screen stuck this way have you restarted it? Send us a DM. <link>\",\n",
              "  'suggestAction'),\n",
              " (\"<customer> We'd recommend creating a backup of the data on both devices and updating to iOS 11.1. Please let us know if this helps.\",\n",
              "  'suggestAction'),\n",
              " (\"<customer> We'd want to get you in touch with our iTunes Store support here: <link>\",\n",
              "  'suggestAction'),\n",
              " (\"<customer> We'd want to get you to our Developer Support for assistance: <link>\",\n",
              "  'suggestAction'),\n",
              " (\"<customer> We'll be happy to assist. Are you getting any errors when you try to open the Mac App Store?\",\n",
              "  'not suggestAction'),\n",
              " (\"<customer> We'll be happy to help out. To clarify, did October record calorie burning accurately or is this a new issue for November?\",\n",
              "  'not suggestAction'),\n",
              " (\"<customer> We'll be happy to look into this with you. To get started, let us know which iOS version you have installed.\",\n",
              "  'not suggestAction'),\n",
              " (\"<customer> We'll be happy to look into this. DM us which iPhone you're using and we'll go from there. <link>\",\n",
              "  'suggestAction'),\n",
              " (\"<customer> We'll be happy to provide you with some information on this. Reach out to us via DM and we'll continue with you there. <link>\",\n",
              "  'suggestAction'),\n",
              " (\"<customer> We'll be happy to see how we can help. Which Mac are you using this with?\",\n",
              "  'not suggestAction'),\n",
              " (\"<customer> We'll be happy to take a look into it with you. Please send us a DM with what version of iOS you have. <link>\",\n",
              "  'suggestAction'),\n",
              " (\"<customer> We'll be happy to take a look into this with you. Could you please send us a DM with what country you're located in so we can get started? <link>\",\n",
              "  'suggestAction'),\n",
              " (\"<customer> We'll be happy to work with you. Have you tried unpairing and repairing your Bluetooth devices?\",\n",
              "  'not suggestAction'),\n",
              " (\"<customer> We'll be here should you need to reach out again for help as we understand wanting to enjoy your device. Have a good one.\",\n",
              "  'not suggestAction'),\n",
              " (\"<customer> We'll do all we can to help out. Please DM us more about what's going on. <link>\",\n",
              "  'suggestAction'),\n",
              " (\"<customer> We'll do everything we can to help you figure out what's happening. To start, what type of device are you using? Along with that, please confirm which version of the operating system is currently installed. Send over those details to us via DM. <link>\",\n",
              "  'suggestAction'),\n",
              " (\"<customer> We'll get you pointed in the right direction. Please DM us so we can go over all options. <link>\",\n",
              "  'suggestAction'),\n",
              " (\"<customer> We'll help in any way we can. Was this on an <link> email account?\",\n",
              "  'not suggestAction'),\n",
              " (\"<customer> We'll make sure to get this straightened out. DM us, and we'll see you there. <link>\",\n",
              "  'suggestAction'),\n",
              " (\"<customer> We'll need to refer you here for help with your Apple ID:  <link>\",\n",
              "  'suggestAction'),\n",
              " (\"<customer> We'll point you in the right direction. Get with our Apple Online Store Support for purchase questions: <link>\",\n",
              "  'suggestAction'),\n",
              " (\"<customer> We're always ready to help, but we'll need more details to start. Reply by DM with which model is it and what's happening with it. <link>\",\n",
              "  'suggestAction'),\n",
              " (\"<customer> We're anxious for you to have access to your downloads. Have you had a chance to restart the iPhone? If not, let's do that now.\",\n",
              "  'not suggestAction'),\n",
              " (\"<customer> We're asking which version you're running as we released iOS 11.1 today. It may help address the issues you've been experiencing.\",\n",
              "  'not suggestAction'),\n",
              " (\"<customer> We're glad to hear all is well. Please let us know if there's anything else we can do.\",\n",
              "  'not suggestAction'),\n",
              " (\"<customer> We're glad to help. To start, what version of iOS are you currently running? Find that in Settings &gt; General &gt; About.\",\n",
              "  'suggestAction'),\n",
              " (\"<customer> We're glad to look into all options with you to have your iPhone serviced. Please DM us to proceed. <link>\",\n",
              "  'suggestAction'),\n",
              " (\"<customer> We're glad you're excited about the emojis! Let us help with iMessage. What's going on?\",\n",
              "  'not suggestAction'),\n",
              " (\"<customer> We're happy to assist. Which iOS 11 version are you currently running? Go to Settings &gt; General &gt; About for the version.\",\n",
              "  'not suggestAction'),\n",
              " (\"<customer> We're happy to assist. Which iOS 11 version are you currently running? Go to Settings &gt; General.\",\n",
              "  'not suggestAction'),\n",
              " (\"<customer> We're happy to help get your iPhone back up and running. To start, check out the steps for that error here: <link>\",\n",
              "  'suggestAction'),\n",
              " (\"<customer> We're happy to help out with your sync issues. To get started, let us know which version of Windows and iTunes you have installed.\",\n",
              "  'not suggestAction'),\n",
              " (\"<customer> We're happy to help out. Can you tell us more about these issues? Thanks!\",\n",
              "  'not suggestAction'),\n",
              " (\"<customer> We're happy to help you out here. Let's meet up in DM, and we can work together. Please let us now a few more details about the issue as well as the type of Mac and your current country as our options are a little different around the globe. <link>\",\n",
              "  'suggestAction'),\n",
              " (\"<customer> We're happy to help you with that. DM us the country you are located in so we can better assist you:\",\n",
              "  'not suggestAction'),\n",
              " (\"<customer> We're happy to help you with this. Join us in DM so we may better assist you: <link>\",\n",
              "  'suggestAction'),\n",
              " (\"<customer> We're happy to help. Are you experiencing battery issues, when using certain app?\",\n",
              "  'not suggestAction'),\n",
              " (\"<customer> We're happy to help. Reach us here for more assistance: <link>\",\n",
              "  'suggestAction'),\n",
              " (\"<customer> We're happy to help. What version of iOS are you currently running? Find that in Settings &gt; General &gt; About.\",\n",
              "  'suggestAction'),\n",
              " (\"<customer> We're happy to help. When you say your iPhone crashed, could you please provide a few more details? Also, which software version are you using?\",\n",
              "  'not suggestAction'),\n",
              " (\"<customer> We're happy to help. Which iOS version is installed? Let us know in DM and we'll go from there. <link>\",\n",
              "  'suggestAction'),\n",
              " (\"<customer> We're happy to take a look and figure this out for you. Join us in DM with your iOS version and watchOS version. <link>\",\n",
              "  'suggestAction'),\n",
              " ('<customer> We\\'re happy you reached out so we can find you the info you need. If you forgot your Apple ID, go to the Apple ID account page: <link> From here, click \"Forgot Apple ID or password?\" then click \"look it up.\" From here, follow the on screen prompts.',\n",
              "  'not suggestAction'),\n",
              " (\"<customer> We're here for you! Let us know which device you're using and the iOS version installed, in DM, and we'll get started. <link>\",\n",
              "  'suggestAction')]"
            ]
          },
          "metadata": {
            "tags": []
          },
          "execution_count": 103
        }
      ]
    },
    {
      "cell_type": "code",
      "metadata": {
        "id": "b6u8eRp1TZQk",
        "colab_type": "code",
        "colab": {}
      },
      "source": [
        ""
      ],
      "execution_count": 0,
      "outputs": []
    }
  ]
}